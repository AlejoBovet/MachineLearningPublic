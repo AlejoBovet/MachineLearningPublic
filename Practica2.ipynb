{
  "cells": [
    {
      "cell_type": "markdown",
      "metadata": {},
      "source": [
        "# EDA 2"
      ]
    },
    {
      "cell_type": "markdown",
      "metadata": {},
      "source": [
        "Primero se realiza la importacion de las librerias a utilizar"
      ]
    },
    {
      "cell_type": "code",
      "execution_count": 30,
      "metadata": {
        "id": "dQmxkWKG2gkA"
      },
      "outputs": [],
      "source": [
        "\n",
        "import pandas as pd\n",
        "import seaborn as sbn\n",
        "import numpy as np\n",
        "import matplotlib.pyplot as plt\n",
        "from seaborn import load_dataset\n",
        "import io"
      ]
    },
    {
      "cell_type": "markdown",
      "metadata": {},
      "source": [
        "Llamado de data por google colab"
      ]
    },
    {
      "cell_type": "code",
      "execution_count": 31,
      "metadata": {
        "colab": {
          "base_uri": "https://localhost:8080/",
          "height": 73
        },
        "id": "ik7IjA_O2lfH",
        "outputId": "6527af99-9618-4aee-bca2-fcc97dcbeefa"
      },
      "outputs": [],
      "source": [
        "\n",
        "#from google.colab import files\n",
        "#uploaded = files.upload()\n",
        "#df = pd.read_csv(io.BytesIO(uploaded['bl2.csv']))"
      ]
    },
    {
      "cell_type": "markdown",
      "metadata": {},
      "source": [
        "Llamado por local "
      ]
    },
    {
      "cell_type": "code",
      "execution_count": 32,
      "metadata": {},
      "outputs": [],
      "source": [
        "df = pd.read_csv('Datas/bl2.csv')"
      ]
    },
    {
      "cell_type": "markdown",
      "metadata": {},
      "source": [
        "Visualisamos los primeros campos de la data"
      ]
    },
    {
      "cell_type": "code",
      "execution_count": 33,
      "metadata": {
        "colab": {
          "base_uri": "https://localhost:8080/"
        },
        "id": "qQpXJGga2s_r",
        "outputId": "037e56e8-6794-4697-db4e-2d47127ad17d"
      },
      "outputs": [
        {
          "data": {
            "text/html": [
              "<div>\n",
              "<style scoped>\n",
              "    .dataframe tbody tr th:only-of-type {\n",
              "        vertical-align: middle;\n",
              "    }\n",
              "\n",
              "    .dataframe tbody tr th {\n",
              "        vertical-align: top;\n",
              "    }\n",
              "\n",
              "    .dataframe thead th {\n",
              "        text-align: right;\n",
              "    }\n",
              "</style>\n",
              "<table border=\"1\" class=\"dataframe\">\n",
              "  <thead>\n",
              "    <tr style=\"text-align: right;\">\n",
              "      <th></th>\n",
              "      <th>Unnamed: 0</th>\n",
              "      <th>name</th>\n",
              "      <th>full_name</th>\n",
              "      <th>age</th>\n",
              "      <th>height</th>\n",
              "      <th>nationality</th>\n",
              "      <th>place_of_birth</th>\n",
              "      <th>price</th>\n",
              "      <th>max_price</th>\n",
              "      <th>position</th>\n",
              "      <th>shirt_nr</th>\n",
              "      <th>foot</th>\n",
              "      <th>club</th>\n",
              "      <th>contract_expires</th>\n",
              "      <th>joined_club</th>\n",
              "      <th>player_agent</th>\n",
              "      <th>outfitter</th>\n",
              "    </tr>\n",
              "  </thead>\n",
              "  <tbody>\n",
              "    <tr>\n",
              "      <th>0</th>\n",
              "      <td>0</td>\n",
              "      <td>Manuel Neuer</td>\n",
              "      <td>Manuel Peter Neuer</td>\n",
              "      <td>37</td>\n",
              "      <td>1.93</td>\n",
              "      <td>Germany</td>\n",
              "      <td>Gelsenkirchen</td>\n",
              "      <td>7.0</td>\n",
              "      <td>45.0</td>\n",
              "      <td>Goalkeeper</td>\n",
              "      <td>1</td>\n",
              "      <td>right</td>\n",
              "      <td>Bayern Munich</td>\n",
              "      <td>2024-06-30</td>\n",
              "      <td>2011-07-01</td>\n",
              "      <td>PRO Profil GmbH</td>\n",
              "      <td>adidas</td>\n",
              "    </tr>\n",
              "    <tr>\n",
              "      <th>1</th>\n",
              "      <td>1</td>\n",
              "      <td>Yann Sommer</td>\n",
              "      <td>NaN</td>\n",
              "      <td>34</td>\n",
              "      <td>1.83</td>\n",
              "      <td>Switzerland</td>\n",
              "      <td>Morges</td>\n",
              "      <td>5.0</td>\n",
              "      <td>13.0</td>\n",
              "      <td>Goalkeeper</td>\n",
              "      <td>27</td>\n",
              "      <td>right</td>\n",
              "      <td>Bayern Munich</td>\n",
              "      <td>2025-06-30</td>\n",
              "      <td>2023-01-19</td>\n",
              "      <td>Relatives</td>\n",
              "      <td>Puma</td>\n",
              "    </tr>\n",
              "    <tr>\n",
              "      <th>2</th>\n",
              "      <td>2</td>\n",
              "      <td>Sven Ulreich</td>\n",
              "      <td>NaN</td>\n",
              "      <td>34</td>\n",
              "      <td>1.92</td>\n",
              "      <td>Germany</td>\n",
              "      <td>Schorndorf</td>\n",
              "      <td>0.9</td>\n",
              "      <td>6.0</td>\n",
              "      <td>Goalkeeper</td>\n",
              "      <td>26</td>\n",
              "      <td>right</td>\n",
              "      <td>Bayern Munich</td>\n",
              "      <td>2024-06-30</td>\n",
              "      <td>2021-07-01</td>\n",
              "      <td>BMS Sportconsulting ...</td>\n",
              "      <td>adidas</td>\n",
              "    </tr>\n",
              "    <tr>\n",
              "      <th>3</th>\n",
              "      <td>3</td>\n",
              "      <td>Johannes Schenk</td>\n",
              "      <td>NaN</td>\n",
              "      <td>20</td>\n",
              "      <td>1.91</td>\n",
              "      <td>Germany</td>\n",
              "      <td>Schweinfurt</td>\n",
              "      <td>0.3</td>\n",
              "      <td>0.3</td>\n",
              "      <td>Goalkeeper</td>\n",
              "      <td>35</td>\n",
              "      <td>NaN</td>\n",
              "      <td>Bayern Munich</td>\n",
              "      <td>2024-06-30</td>\n",
              "      <td>2022-07-01</td>\n",
              "      <td>11WINS</td>\n",
              "      <td>NaN</td>\n",
              "    </tr>\n",
              "    <tr>\n",
              "      <th>4</th>\n",
              "      <td>4</td>\n",
              "      <td>Matthijs de Ligt</td>\n",
              "      <td>NaN</td>\n",
              "      <td>23</td>\n",
              "      <td>1.89</td>\n",
              "      <td>Netherlands</td>\n",
              "      <td>Leiderdorp</td>\n",
              "      <td>75.0</td>\n",
              "      <td>75.0</td>\n",
              "      <td>Defender - Centre-Back</td>\n",
              "      <td>4</td>\n",
              "      <td>right</td>\n",
              "      <td>Bayern Munich</td>\n",
              "      <td>2027-06-30</td>\n",
              "      <td>2022-07-19</td>\n",
              "      <td>Rafaela Pimenta</td>\n",
              "      <td>adidas</td>\n",
              "    </tr>\n",
              "  </tbody>\n",
              "</table>\n",
              "</div>"
            ],
            "text/plain": [
              "   Unnamed: 0              name           full_name  age  height  nationality  \\\n",
              "0           0      Manuel Neuer  Manuel Peter Neuer   37    1.93      Germany   \n",
              "1           1       Yann Sommer                 NaN   34    1.83  Switzerland   \n",
              "2           2      Sven Ulreich                 NaN   34    1.92      Germany   \n",
              "3           3   Johannes Schenk                 NaN   20    1.91      Germany   \n",
              "4           4  Matthijs de Ligt                 NaN   23    1.89  Netherlands   \n",
              "\n",
              "  place_of_birth  price  max_price                position  shirt_nr   foot  \\\n",
              "0  Gelsenkirchen    7.0       45.0              Goalkeeper         1  right   \n",
              "1         Morges    5.0       13.0              Goalkeeper        27  right   \n",
              "2     Schorndorf    0.9        6.0              Goalkeeper        26  right   \n",
              "3    Schweinfurt    0.3        0.3              Goalkeeper        35    NaN   \n",
              "4     Leiderdorp   75.0       75.0  Defender - Centre-Back         4  right   \n",
              "\n",
              "            club contract_expires joined_club             player_agent  \\\n",
              "0  Bayern Munich       2024-06-30  2011-07-01          PRO Profil GmbH   \n",
              "1  Bayern Munich       2025-06-30  2023-01-19                Relatives   \n",
              "2  Bayern Munich       2024-06-30  2021-07-01  BMS Sportconsulting ...   \n",
              "3  Bayern Munich       2024-06-30  2022-07-01                   11WINS   \n",
              "4  Bayern Munich       2027-06-30  2022-07-19          Rafaela Pimenta   \n",
              "\n",
              "  outfitter  \n",
              "0    adidas  \n",
              "1      Puma  \n",
              "2    adidas  \n",
              "3       NaN  \n",
              "4    adidas  "
            ]
          },
          "execution_count": 33,
          "metadata": {},
          "output_type": "execute_result"
        }
      ],
      "source": [
        "df.head()"
      ]
    },
    {
      "cell_type": "markdown",
      "metadata": {},
      "source": [
        "y ahora los ultimos"
      ]
    },
    {
      "cell_type": "code",
      "execution_count": 34,
      "metadata": {},
      "outputs": [
        {
          "data": {
            "text/html": [
              "<div>\n",
              "<style scoped>\n",
              "    .dataframe tbody tr th:only-of-type {\n",
              "        vertical-align: middle;\n",
              "    }\n",
              "\n",
              "    .dataframe tbody tr th {\n",
              "        vertical-align: top;\n",
              "    }\n",
              "\n",
              "    .dataframe thead th {\n",
              "        text-align: right;\n",
              "    }\n",
              "</style>\n",
              "<table border=\"1\" class=\"dataframe\">\n",
              "  <thead>\n",
              "    <tr style=\"text-align: right;\">\n",
              "      <th></th>\n",
              "      <th>Unnamed: 0</th>\n",
              "      <th>name</th>\n",
              "      <th>full_name</th>\n",
              "      <th>age</th>\n",
              "      <th>height</th>\n",
              "      <th>nationality</th>\n",
              "      <th>place_of_birth</th>\n",
              "      <th>price</th>\n",
              "      <th>max_price</th>\n",
              "      <th>position</th>\n",
              "      <th>shirt_nr</th>\n",
              "      <th>foot</th>\n",
              "      <th>club</th>\n",
              "      <th>contract_expires</th>\n",
              "      <th>joined_club</th>\n",
              "      <th>player_agent</th>\n",
              "      <th>outfitter</th>\n",
              "    </tr>\n",
              "  </thead>\n",
              "  <tbody>\n",
              "    <tr>\n",
              "      <th>510</th>\n",
              "      <td>510</td>\n",
              "      <td>Takuma Asano</td>\n",
              "      <td>浅野 拓磨</td>\n",
              "      <td>28</td>\n",
              "      <td>1.73</td>\n",
              "      <td>Japan</td>\n",
              "      <td>Komono, Mie</td>\n",
              "      <td>4.00</td>\n",
              "      <td>4.0</td>\n",
              "      <td>Attack - Right Winger</td>\n",
              "      <td>11</td>\n",
              "      <td>right</td>\n",
              "      <td>VfL Bochum</td>\n",
              "      <td>2024-06-30</td>\n",
              "      <td>2021-07-01</td>\n",
              "      <td>JEB ENTERTAINMENT ...</td>\n",
              "      <td>adidas</td>\n",
              "    </tr>\n",
              "    <tr>\n",
              "      <th>511</th>\n",
              "      <td>511</td>\n",
              "      <td>Philipp Hofmann</td>\n",
              "      <td>NaN</td>\n",
              "      <td>30</td>\n",
              "      <td>1.95</td>\n",
              "      <td>Germany</td>\n",
              "      <td>Arnsberg</td>\n",
              "      <td>2.50</td>\n",
              "      <td>2.5</td>\n",
              "      <td>Attack - Centre-Forward</td>\n",
              "      <td>33</td>\n",
              "      <td>left</td>\n",
              "      <td>VfL Bochum</td>\n",
              "      <td>2024-06-30</td>\n",
              "      <td>2022-07-01</td>\n",
              "      <td>ROOF</td>\n",
              "      <td>NaN</td>\n",
              "    </tr>\n",
              "    <tr>\n",
              "      <th>512</th>\n",
              "      <td>512</td>\n",
              "      <td>Simon Zoller</td>\n",
              "      <td>Simon Martin Zoller</td>\n",
              "      <td>31</td>\n",
              "      <td>1.79</td>\n",
              "      <td>Germany</td>\n",
              "      <td>Friedrichshafen</td>\n",
              "      <td>1.10</td>\n",
              "      <td>3.0</td>\n",
              "      <td>Attack - Centre-Forward</td>\n",
              "      <td>9</td>\n",
              "      <td>right</td>\n",
              "      <td>VfL Bochum</td>\n",
              "      <td>2024-06-30</td>\n",
              "      <td>2019-01-01</td>\n",
              "      <td>GoalSky</td>\n",
              "      <td>Puma</td>\n",
              "    </tr>\n",
              "    <tr>\n",
              "      <th>513</th>\n",
              "      <td>513</td>\n",
              "      <td>Silvère Ganvoula</td>\n",
              "      <td>Silvère Ganvoula M'boussy</td>\n",
              "      <td>26</td>\n",
              "      <td>1.91</td>\n",
              "      <td>Congo</td>\n",
              "      <td>Brazzaville</td>\n",
              "      <td>0.75</td>\n",
              "      <td>2.5</td>\n",
              "      <td>Attack - Centre-Forward</td>\n",
              "      <td>35</td>\n",
              "      <td>right</td>\n",
              "      <td>VfL Bochum</td>\n",
              "      <td>2023-06-30</td>\n",
              "      <td>2019-07-05</td>\n",
              "      <td>BY Sport Consulting</td>\n",
              "      <td>Puma</td>\n",
              "    </tr>\n",
              "    <tr>\n",
              "      <th>514</th>\n",
              "      <td>514</td>\n",
              "      <td>Moritz Broschinski</td>\n",
              "      <td>NaN</td>\n",
              "      <td>22</td>\n",
              "      <td>1.90</td>\n",
              "      <td>Germany</td>\n",
              "      <td>Finsterwalde</td>\n",
              "      <td>0.50</td>\n",
              "      <td>0.5</td>\n",
              "      <td>Attack - Centre-Forward</td>\n",
              "      <td>29</td>\n",
              "      <td>right</td>\n",
              "      <td>VfL Bochum</td>\n",
              "      <td>2026-06-30</td>\n",
              "      <td>2023-01-22</td>\n",
              "      <td>Teamgeist ...</td>\n",
              "      <td>NaN</td>\n",
              "    </tr>\n",
              "  </tbody>\n",
              "</table>\n",
              "</div>"
            ],
            "text/plain": [
              "     Unnamed: 0                name                  full_name  age  height  \\\n",
              "510         510        Takuma Asano                      浅野 拓磨   28    1.73   \n",
              "511         511     Philipp Hofmann                        NaN   30    1.95   \n",
              "512         512        Simon Zoller        Simon Martin Zoller   31    1.79   \n",
              "513         513    Silvère Ganvoula  Silvère Ganvoula M'boussy   26    1.91   \n",
              "514         514  Moritz Broschinski                        NaN   22    1.90   \n",
              "\n",
              "    nationality   place_of_birth  price  max_price                 position  \\\n",
              "510       Japan      Komono, Mie   4.00        4.0    Attack - Right Winger   \n",
              "511     Germany         Arnsberg   2.50        2.5  Attack - Centre-Forward   \n",
              "512     Germany  Friedrichshafen   1.10        3.0  Attack - Centre-Forward   \n",
              "513       Congo      Brazzaville   0.75        2.5  Attack - Centre-Forward   \n",
              "514     Germany     Finsterwalde   0.50        0.5  Attack - Centre-Forward   \n",
              "\n",
              "     shirt_nr   foot        club contract_expires joined_club  \\\n",
              "510        11  right  VfL Bochum       2024-06-30  2021-07-01   \n",
              "511        33   left  VfL Bochum       2024-06-30  2022-07-01   \n",
              "512         9  right  VfL Bochum       2024-06-30  2019-01-01   \n",
              "513        35  right  VfL Bochum       2023-06-30  2019-07-05   \n",
              "514        29  right  VfL Bochum       2026-06-30  2023-01-22   \n",
              "\n",
              "              player_agent outfitter  \n",
              "510  JEB ENTERTAINMENT ...    adidas  \n",
              "511                   ROOF       NaN  \n",
              "512                GoalSky      Puma  \n",
              "513    BY Sport Consulting      Puma  \n",
              "514          Teamgeist ...       NaN  "
            ]
          },
          "execution_count": 34,
          "metadata": {},
          "output_type": "execute_result"
        }
      ],
      "source": [
        "df.tail()"
      ]
    },
    {
      "cell_type": "markdown",
      "metadata": {},
      "source": [
        "Identificamos las columnas de la data"
      ]
    },
    {
      "cell_type": "code",
      "execution_count": 35,
      "metadata": {},
      "outputs": [
        {
          "name": "stdout",
          "output_type": "stream",
          "text": [
            "Index(['Unnamed: 0', 'name', 'full_name', 'age', 'height', 'nationality',\n",
            "       'place_of_birth', 'price', 'max_price', 'position', 'shirt_nr', 'foot',\n",
            "       'club', 'contract_expires', 'joined_club', 'player_agent', 'outfitter'],\n",
            "      dtype='object')\n"
          ]
        }
      ],
      "source": [
        "print(df.columns)"
      ]
    },
    {
      "cell_type": "code",
      "execution_count": 36,
      "metadata": {
        "colab": {
          "base_uri": "https://localhost:8080/",
          "height": 300
        },
        "id": "h4-j_bnp3c7z",
        "outputId": "05ea2076-b3a2-4896-b66f-967cc0aa095a"
      },
      "outputs": [
        {
          "data": {
            "text/html": [
              "<div>\n",
              "<style scoped>\n",
              "    .dataframe tbody tr th:only-of-type {\n",
              "        vertical-align: middle;\n",
              "    }\n",
              "\n",
              "    .dataframe tbody tr th {\n",
              "        vertical-align: top;\n",
              "    }\n",
              "\n",
              "    .dataframe thead th {\n",
              "        text-align: right;\n",
              "    }\n",
              "</style>\n",
              "<table border=\"1\" class=\"dataframe\">\n",
              "  <thead>\n",
              "    <tr style=\"text-align: right;\">\n",
              "      <th></th>\n",
              "      <th>Unnamed: 0</th>\n",
              "      <th>age</th>\n",
              "      <th>height</th>\n",
              "      <th>price</th>\n",
              "      <th>max_price</th>\n",
              "      <th>shirt_nr</th>\n",
              "    </tr>\n",
              "  </thead>\n",
              "  <tbody>\n",
              "    <tr>\n",
              "      <th>count</th>\n",
              "      <td>515.000000</td>\n",
              "      <td>515.000000</td>\n",
              "      <td>515.000000</td>\n",
              "      <td>510.000000</td>\n",
              "      <td>510.000000</td>\n",
              "      <td>515.000000</td>\n",
              "    </tr>\n",
              "    <tr>\n",
              "      <th>mean</th>\n",
              "      <td>257.000000</td>\n",
              "      <td>25.683495</td>\n",
              "      <td>1.847612</td>\n",
              "      <td>8.482794</td>\n",
              "      <td>13.513627</td>\n",
              "      <td>19.798058</td>\n",
              "    </tr>\n",
              "    <tr>\n",
              "      <th>std</th>\n",
              "      <td>148.811962</td>\n",
              "      <td>4.700238</td>\n",
              "      <td>0.060996</td>\n",
              "      <td>14.653440</td>\n",
              "      <td>18.659222</td>\n",
              "      <td>12.414768</td>\n",
              "    </tr>\n",
              "    <tr>\n",
              "      <th>min</th>\n",
              "      <td>0.000000</td>\n",
              "      <td>17.000000</td>\n",
              "      <td>1.680000</td>\n",
              "      <td>0.025000</td>\n",
              "      <td>0.100000</td>\n",
              "      <td>1.000000</td>\n",
              "    </tr>\n",
              "    <tr>\n",
              "      <th>25%</th>\n",
              "      <td>128.500000</td>\n",
              "      <td>22.000000</td>\n",
              "      <td>1.800000</td>\n",
              "      <td>1.200000</td>\n",
              "      <td>2.500000</td>\n",
              "      <td>9.000000</td>\n",
              "    </tr>\n",
              "    <tr>\n",
              "      <th>50%</th>\n",
              "      <td>257.000000</td>\n",
              "      <td>25.000000</td>\n",
              "      <td>1.850000</td>\n",
              "      <td>3.500000</td>\n",
              "      <td>7.000000</td>\n",
              "      <td>20.000000</td>\n",
              "    </tr>\n",
              "    <tr>\n",
              "      <th>75%</th>\n",
              "      <td>385.500000</td>\n",
              "      <td>29.000000</td>\n",
              "      <td>1.890000</td>\n",
              "      <td>9.000000</td>\n",
              "      <td>16.750000</td>\n",
              "      <td>29.000000</td>\n",
              "    </tr>\n",
              "    <tr>\n",
              "      <th>max</th>\n",
              "      <td>514.000000</td>\n",
              "      <td>39.000000</td>\n",
              "      <td>2.000000</td>\n",
              "      <td>120.000000</td>\n",
              "      <td>150.000000</td>\n",
              "      <td>49.000000</td>\n",
              "    </tr>\n",
              "  </tbody>\n",
              "</table>\n",
              "</div>"
            ],
            "text/plain": [
              "       Unnamed: 0         age      height       price   max_price    shirt_nr\n",
              "count  515.000000  515.000000  515.000000  510.000000  510.000000  515.000000\n",
              "mean   257.000000   25.683495    1.847612    8.482794   13.513627   19.798058\n",
              "std    148.811962    4.700238    0.060996   14.653440   18.659222   12.414768\n",
              "min      0.000000   17.000000    1.680000    0.025000    0.100000    1.000000\n",
              "25%    128.500000   22.000000    1.800000    1.200000    2.500000    9.000000\n",
              "50%    257.000000   25.000000    1.850000    3.500000    7.000000   20.000000\n",
              "75%    385.500000   29.000000    1.890000    9.000000   16.750000   29.000000\n",
              "max    514.000000   39.000000    2.000000  120.000000  150.000000   49.000000"
            ]
          },
          "execution_count": 36,
          "metadata": {},
          "output_type": "execute_result"
        }
      ],
      "source": [
        "df.describe()"
      ]
    },
    {
      "cell_type": "code",
      "execution_count": 37,
      "metadata": {
        "colab": {
          "base_uri": "https://localhost:8080/"
        },
        "id": "DPHzDR5134U4",
        "outputId": "cd8a9932-307d-4b46-b500-4a2f12a84eb0"
      },
      "outputs": [
        {
          "name": "stdout",
          "output_type": "stream",
          "text": [
            "<class 'pandas.core.frame.DataFrame'>\n",
            "RangeIndex: 515 entries, 0 to 514\n",
            "Data columns (total 17 columns):\n",
            " #   Column            Non-Null Count  Dtype  \n",
            "---  ------            --------------  -----  \n",
            " 0   Unnamed: 0        515 non-null    int64  \n",
            " 1   name              515 non-null    object \n",
            " 2   full_name         229 non-null    object \n",
            " 3   age               515 non-null    int64  \n",
            " 4   height            515 non-null    float64\n",
            " 5   nationality       515 non-null    object \n",
            " 6   place_of_birth    510 non-null    object \n",
            " 7   price             510 non-null    float64\n",
            " 8   max_price         510 non-null    float64\n",
            " 9   position          515 non-null    object \n",
            " 10  shirt_nr          515 non-null    int64  \n",
            " 11  foot              506 non-null    object \n",
            " 12  club              515 non-null    object \n",
            " 13  contract_expires  481 non-null    object \n",
            " 14  joined_club       515 non-null    object \n",
            " 15  player_agent      488 non-null    object \n",
            " 16  outfitter         193 non-null    object \n",
            "dtypes: float64(3), int64(3), object(11)\n",
            "memory usage: 68.5+ KB\n"
          ]
        }
      ],
      "source": [
        "df.info()"
      ]
    },
    {
      "cell_type": "markdown",
      "metadata": {},
      "source": [
        "identificamos los tipo de dato de cada columna,\n",
        "donde identificamos  float64(3), int64(3), object(11)"
      ]
    },
    {
      "cell_type": "markdown",
      "metadata": {},
      "source": [
        "Ahora sumaremos la cantidad de nulos que existen en las columnas"
      ]
    },
    {
      "cell_type": "code",
      "execution_count": 38,
      "metadata": {},
      "outputs": [
        {
          "data": {
            "text/plain": [
              "Unnamed: 0            0\n",
              "name                  0\n",
              "full_name           286\n",
              "age                   0\n",
              "height                0\n",
              "nationality           0\n",
              "place_of_birth        5\n",
              "price                 5\n",
              "max_price             5\n",
              "position              0\n",
              "shirt_nr              0\n",
              "foot                  9\n",
              "club                  0\n",
              "contract_expires     34\n",
              "joined_club           0\n",
              "player_agent         27\n",
              "outfitter           322\n",
              "dtype: int64"
            ]
          },
          "execution_count": 38,
          "metadata": {},
          "output_type": "execute_result"
        }
      ],
      "source": [
        "df.isna().sum()"
      ]
    },
    {
      "attachments": {},
      "cell_type": "markdown",
      "metadata": {
        "id": "yVJlT-6G5zqw"
      },
      "source": [
        "Debido a que la cantidad de nulos que existen  y/o el enfoque analitico que buscamos se descarta las siguientes columnas. \n",
        "Datos que se desacartan:\n",
        "\n",
        " - full_name\n",
        " - Place of birth\n",
        " - Unnamed : 0\n",
        "\n",
        "\n"
      ]
    },
    {
      "cell_type": "code",
      "execution_count": 39,
      "metadata": {},
      "outputs": [],
      "source": [
        "df.drop(['full_name', 'place_of_birth','Unnamed: 0','contract_expires','name','joined_club'], axis=1, inplace=True)"
      ]
    },
    {
      "cell_type": "code",
      "execution_count": 40,
      "metadata": {},
      "outputs": [
        {
          "data": {
            "text/plain": [
              "name              0\n",
              "age               0\n",
              "height            0\n",
              "nationality       0\n",
              "price             5\n",
              "max_price         5\n",
              "position          0\n",
              "shirt_nr          0\n",
              "foot              9\n",
              "club              0\n",
              "joined_club       0\n",
              "player_agent     27\n",
              "outfitter       322\n",
              "dtype: int64"
            ]
          },
          "execution_count": 40,
          "metadata": {},
          "output_type": "execute_result"
        }
      ],
      "source": [
        "df.isna().sum()"
      ]
    },
    {
      "cell_type": "markdown",
      "metadata": {},
      "source": [
        "Ahora identificaremos los valores unicos de la columna \" outfitter \""
      ]
    },
    {
      "cell_type": "code",
      "execution_count": 41,
      "metadata": {},
      "outputs": [
        {
          "data": {
            "text/plain": [
              "array(['adidas', 'Puma', nan, 'Nike', 'New Balance', 'Uhlsport',\n",
              "       'Under Armour', 'HashtagOne', 'Stanno', 'Mizuno'], dtype=object)"
            ]
          },
          "execution_count": 41,
          "metadata": {},
          "output_type": "execute_result"
        }
      ],
      "source": [
        "df['outfitter'].unique()"
      ]
    },
    {
      "cell_type": "markdown",
      "metadata": {},
      "source": [
        "En el mundo del futbol las marcas realizan acuerdos con futbolistas reconocidos para dar valor a la marca por lo cual se sabe que es un grupo acotado y que el resto se considera como futbolista libre o Sin marca por lo cual los valores nulos se imputaran con el valor \"free_sponsor\""
      ]
    },
    {
      "cell_type": "code",
      "execution_count": 42,
      "metadata": {},
      "outputs": [
        {
          "data": {
            "text/plain": [
              "array(['adidas', 'Puma', 'free_sponsor', 'Nike', 'New Balance',\n",
              "       'Uhlsport', 'Under Armour', 'HashtagOne', 'Stanno', 'Mizuno'],\n",
              "      dtype=object)"
            ]
          },
          "execution_count": 42,
          "metadata": {},
          "output_type": "execute_result"
        }
      ],
      "source": [
        "df['outfitter'].fillna('free_sponsor', inplace=True)\n",
        "df['outfitter'].unique()"
      ]
    },
    {
      "cell_type": "markdown",
      "metadata": {},
      "source": [
        "En el caso de los player_agent en los casos nulos se tomara la misma practica que con la marca, ya que en este entorno existen futbolistas que no son representados por empresas de representantes, caso como el de lionel messi que es representado por su padre. \n",
        "En este caso se le asignara el valor de \"free_agent\""
      ]
    },
    {
      "cell_type": "code",
      "execution_count": 43,
      "metadata": {},
      "outputs": [
        {
          "data": {
            "text/plain": [
              "array(['PRO Profil GmbH', 'Relatives', 'BMS Sportconsulting ...',\n",
              "       '11WINS', 'Rafaela Pimenta', 'Unique Sports Group',\n",
              "       'Manuel García ...', 'ATG Sports', 'SEG', 'Gestifute', 'Carmenta',\n",
              "       'BALLWERK Sports GmbH', 'Wasserman', 'free_agent',\n",
              "       'Neubauer 13 GmbH', 'Team Raiola',\n",
              "       'Agent is known - Player under 18', 'CAA Base Ltd', 'ROOF',\n",
              "       'LIAN Sports Group', 'Kögl & Partner GmbH', 'ROGON',\n",
              "       'SBE Management AG', 'AKA Global GmbH', 'SWSports',\n",
              "       'Robert Schneider', 'Sports360 GmbH', 'HMH Sportmanagement',\n",
              "       'Epic Sports', 'CAA Stellar', 'Thomas Meunier', 'Teamgeist ...',\n",
              "       'Dirk Hebel', 'ISM Int. Soccer ...', 'Lorimanagement', 'Kick&Run',\n",
              "       'Elite Project Group ...', 'management 360', 'HCM Sports ...',\n",
              "       'Solbakken / Player ...', 'neblung ...', 'SOCCERNATION GROUP',\n",
              "       'Marjan Sisic', 'BS Group - BS Law', 'Classico', 'TrueSports GmbH',\n",
              "       'CN Sports', 'EMG Mundial', 'MR Sport Management ...',\n",
              "       'Niagara Sports ...', 'EM Sports Consulting', 'YMU Group',\n",
              "       'Gol International', 'PEP Consulting', 'World in Motion',\n",
              "       'D20 Sports', 'Fútbol División', 'Global Soccer ...', 'V4S',\n",
              "       'Prolific Sports ...', 'teamplayer ...', 'KL Sportsbase',\n",
              "       'Eleven Talent Group', 'Concept Sport Agency', 'AIS SPORT SERVICE',\n",
              "       'Int. Sport ...', 'PESM', 'Creatio Management', 'AMS CONSULTING',\n",
              "       'Wolfs', 'Proeleven S.A.', 'Sports eXcellence ...',\n",
              "       'Signature - ISCM AG', 'Skylar', 'Selected ...', 'Roberto Tukada',\n",
              "       'NSG ApS', 'FTC', 'H.S.P. ...', 'Pedro Aldave Ortuzar',\n",
              "       'INVSPORT (Sergio ...', 'B360 Sports', 'Dr. Michael Becker', 'IFM',\n",
              "       'Fröhlich ...', 'Sport Avenir ...', 'NINE Group', 'SMI SPORTS ...',\n",
              "       'Dr. Marco Gutfleisch', 'NexSt11', 'Sport Cover', 'TPWE GmbH',\n",
              "       'Hexagon', 'TFM Agency', 'Kostila', 'Karl M. Herzog ...',\n",
              "       'MD Management', 'Stephan Engels', 'BMG-SPORT',\n",
              "       'More than Sport GmbH', 'People In Sport', 'YOU FIRST',\n",
              "       'sportlobby', 'VIDA 11', 'Alfaria sports GmbH',\n",
              "       'World Soccer Agency', 'Apertura Sports GmbH', 'Bigpoint',\n",
              "       'F-F SPORT', 'Sport Business ...', 'no agent',\n",
              "       'WINStar Management', 'Elite Sports ...', 'Boutique Transfers',\n",
              "       'Soccer Mondial AG', 'Soccertalk GmbH', 'Only Pro Sport',\n",
              "       'SMG GmbH', 'FSB – ...', 'NGM SPORTS', 'Pando', 'think forward',\n",
              "       'B O K S', 'SPORT INVEST', 'C.R', 'Nordic Sky', 'P&P Sport ...',\n",
              "       'Fabryka Futbolu', 'Mondo Victory', 'Rummenigge Sport ...',\n",
              "       'Caligiuri Sports', 'Konstantinos Farras', 'Universal Sports ...',\n",
              "       'MK Sport Consulting', 'Klan Soccer FZCO', 'M-Soccermanagement',\n",
              "       'Ulisses Santos - ...', 'Haspel ...', 'W&K Fairplay',\n",
              "       'ROOF Talents', 'W.Egal O.S.F.M.', 'BY AND FOR',\n",
              "       'ASBW Sport Marketing', 'PURE', 'Léandre Chouya', 'MD Sports',\n",
              "       'DC International ...', 'Timo Hübers', 'LK Management',\n",
              "       'OLP Sports', 'FM Worldsport', 'act SPORTS GROUP',\n",
              "       'ProfiSports Prskalo', 'CS', 'GOOD ADVICE Sports ...', 'ROGON U23',\n",
              "       'Golden Patch ...', 'Ariel Krasouski', 'Ivan Bosnjak',\n",
              "       'Briem Soccer ...', 'Excellence Sport', 'Aneke/PMG',\n",
              "       'BoostMySport', 'Lasana KOITA', 'feel soccer GmbH',\n",
              "       'Quantum Sport', 'TDS SPORTS', 'DLT Sports Group', 'CMA Group',\n",
              "       'Siebert & Backs', 'ROYAL', 'Key United', 'Wojciech Zlobicki',\n",
              "       'NGA Sport', 'KIN Partners', 'K2K Sports ...', 'FG Sports GmbH',\n",
              "       'Murza Eduard', 'WoS', 'TDL Sports ...', 'UNIDOS',\n",
              "       'IS SPORTS AGENCY ...', 'Kay Sports ...', 'JEB ENTERTAINMENT ...',\n",
              "       'GoalSky', 'BY Sport Consulting'], dtype=object)"
            ]
          },
          "execution_count": 43,
          "metadata": {},
          "output_type": "execute_result"
        }
      ],
      "source": [
        "df['player_agent'].fillna('free_agent', inplace=True)\n",
        "df['player_agent'].unique()\n",
        "\n"
      ]
    },
    {
      "cell_type": "markdown",
      "metadata": {},
      "source": [
        "Al ser solo 9 nulos en en 'foot', utilizaremos la moda para imputar estos datos, en caso de desbalanceo realizaremos el control mas adelante"
      ]
    },
    {
      "cell_type": "code",
      "execution_count": 44,
      "metadata": {},
      "outputs": [],
      "source": [
        "# Calcula la moda de la columna\n",
        "moda_foot = df['foot'].mode()[0]\n",
        "\n",
        "# Imputa los valores faltantes con la moda\n",
        "df['foot'].fillna(moda_foot, inplace=True)"
      ]
    },
    {
      "cell_type": "markdown",
      "metadata": {},
      "source": [
        "Para el caso de las columas que cuentan con valores numericos continuos, realizaremos:"
      ]
    },
    {
      "cell_type": "markdown",
      "metadata": {},
      "source": [
        "Primero importamos la libreria de LinearRegression que nos probee sklearn "
      ]
    },
    {
      "cell_type": "code",
      "execution_count": 15,
      "metadata": {},
      "outputs": [],
      "source": [
        "from sklearn.linear_model import LinearRegression"
      ]
    },
    {
      "cell_type": "markdown",
      "metadata": {},
      "source": [
        "Despues dividimos los datos entre valores conocidos (no nulos) y valores desconocidos (nulos)"
      ]
    },
    {
      "cell_type": "code",
      "execution_count": 16,
      "metadata": {},
      "outputs": [],
      "source": [
        "data_known = df.dropna(subset=['price'])\n",
        "data_unknown = df[df['price'].isnull()]"
      ]
    },
    {
      "cell_type": "markdown",
      "metadata": {},
      "source": [
        "Ahora definimos las variables predictorias y la variable objetivo, comprobando la correlaciopn entre las variables"
      ]
    },
    {
      "cell_type": "code",
      "execution_count": 50,
      "metadata": {},
      "outputs": [
        {
          "name": "stdout",
          "output_type": "stream",
          "text": [
            "age      -0.103473\n",
            "height   -0.075277\n",
            "price     1.000000\n",
            "Name: price, dtype: float64\n"
          ]
        }
      ],
      "source": [
        "selected_columns = ['age', 'height']\n",
        "correlation_with_target = df[selected_columns + ['price']].corr()['price']\n",
        "print(correlation_with_target)"
      ]
    },
    {
      "cell_type": "markdown",
      "metadata": {},
      "source": [
        "Encontramos una correlacion negativa con las dos variable "
      ]
    },
    {
      "cell_type": "code",
      "execution_count": 51,
      "metadata": {},
      "outputs": [],
      "source": [
        "X_known = data_known[['age', 'height']]\n",
        "y_known = data_known['price']\n",
        "X_unknown = data_unknown[['age', 'height']]"
      ]
    },
    {
      "cell_type": "markdown",
      "metadata": {},
      "source": [
        "Ahora realizamos el proceso de regresion "
      ]
    },
    {
      "cell_type": "code",
      "execution_count": 68,
      "metadata": {},
      "outputs": [
        {
          "ename": "ValueError",
          "evalue": "Input y contains NaN.",
          "output_type": "error",
          "traceback": [
            "\u001b[1;31m---------------------------------------------------------------------------\u001b[0m",
            "\u001b[1;31mValueError\u001b[0m                                Traceback (most recent call last)",
            "Cell \u001b[1;32mIn[68], line 5\u001b[0m\n\u001b[0;32m      2\u001b[0m regression_model \u001b[38;5;241m=\u001b[39m LinearRegression()\n\u001b[0;32m      4\u001b[0m \u001b[38;5;66;03m# Ajustar el modelo a los datos conocidos\u001b[39;00m\n\u001b[1;32m----> 5\u001b[0m regression_model\u001b[38;5;241m.\u001b[39mfit(X_known, y_known)\n\u001b[0;32m      7\u001b[0m \u001b[38;5;66;03m# Predecir los valores faltantes\u001b[39;00m\n\u001b[0;32m      8\u001b[0m predicted_values \u001b[38;5;241m=\u001b[39m regression_model\u001b[38;5;241m.\u001b[39mpredict(X_unknown)\n",
            "File \u001b[1;32mc:\\ProgramData\\anaconda3\\Lib\\site-packages\\sklearn\\base.py:1151\u001b[0m, in \u001b[0;36m_fit_context.<locals>.decorator.<locals>.wrapper\u001b[1;34m(estimator, *args, **kwargs)\u001b[0m\n\u001b[0;32m   1144\u001b[0m     estimator\u001b[38;5;241m.\u001b[39m_validate_params()\n\u001b[0;32m   1146\u001b[0m \u001b[38;5;28;01mwith\u001b[39;00m config_context(\n\u001b[0;32m   1147\u001b[0m     skip_parameter_validation\u001b[38;5;241m=\u001b[39m(\n\u001b[0;32m   1148\u001b[0m         prefer_skip_nested_validation \u001b[38;5;129;01mor\u001b[39;00m global_skip_validation\n\u001b[0;32m   1149\u001b[0m     )\n\u001b[0;32m   1150\u001b[0m ):\n\u001b[1;32m-> 1151\u001b[0m     \u001b[38;5;28;01mreturn\u001b[39;00m fit_method(estimator, \u001b[38;5;241m*\u001b[39margs, \u001b[38;5;241m*\u001b[39m\u001b[38;5;241m*\u001b[39mkwargs)\n",
            "File \u001b[1;32mc:\\ProgramData\\anaconda3\\Lib\\site-packages\\sklearn\\linear_model\\_base.py:678\u001b[0m, in \u001b[0;36mLinearRegression.fit\u001b[1;34m(self, X, y, sample_weight)\u001b[0m\n\u001b[0;32m    674\u001b[0m n_jobs_ \u001b[38;5;241m=\u001b[39m \u001b[38;5;28mself\u001b[39m\u001b[38;5;241m.\u001b[39mn_jobs\n\u001b[0;32m    676\u001b[0m accept_sparse \u001b[38;5;241m=\u001b[39m \u001b[38;5;28;01mFalse\u001b[39;00m \u001b[38;5;28;01mif\u001b[39;00m \u001b[38;5;28mself\u001b[39m\u001b[38;5;241m.\u001b[39mpositive \u001b[38;5;28;01melse\u001b[39;00m [\u001b[38;5;124m\"\u001b[39m\u001b[38;5;124mcsr\u001b[39m\u001b[38;5;124m\"\u001b[39m, \u001b[38;5;124m\"\u001b[39m\u001b[38;5;124mcsc\u001b[39m\u001b[38;5;124m\"\u001b[39m, \u001b[38;5;124m\"\u001b[39m\u001b[38;5;124mcoo\u001b[39m\u001b[38;5;124m\"\u001b[39m]\n\u001b[1;32m--> 678\u001b[0m X, y \u001b[38;5;241m=\u001b[39m \u001b[38;5;28mself\u001b[39m\u001b[38;5;241m.\u001b[39m_validate_data(\n\u001b[0;32m    679\u001b[0m     X, y, accept_sparse\u001b[38;5;241m=\u001b[39maccept_sparse, y_numeric\u001b[38;5;241m=\u001b[39m\u001b[38;5;28;01mTrue\u001b[39;00m, multi_output\u001b[38;5;241m=\u001b[39m\u001b[38;5;28;01mTrue\u001b[39;00m\n\u001b[0;32m    680\u001b[0m )\n\u001b[0;32m    682\u001b[0m has_sw \u001b[38;5;241m=\u001b[39m sample_weight \u001b[38;5;129;01mis\u001b[39;00m \u001b[38;5;129;01mnot\u001b[39;00m \u001b[38;5;28;01mNone\u001b[39;00m\n\u001b[0;32m    683\u001b[0m \u001b[38;5;28;01mif\u001b[39;00m has_sw:\n",
            "File \u001b[1;32mc:\\ProgramData\\anaconda3\\Lib\\site-packages\\sklearn\\base.py:621\u001b[0m, in \u001b[0;36mBaseEstimator._validate_data\u001b[1;34m(self, X, y, reset, validate_separately, cast_to_ndarray, **check_params)\u001b[0m\n\u001b[0;32m    619\u001b[0m         y \u001b[38;5;241m=\u001b[39m check_array(y, input_name\u001b[38;5;241m=\u001b[39m\u001b[38;5;124m\"\u001b[39m\u001b[38;5;124my\u001b[39m\u001b[38;5;124m\"\u001b[39m, \u001b[38;5;241m*\u001b[39m\u001b[38;5;241m*\u001b[39mcheck_y_params)\n\u001b[0;32m    620\u001b[0m     \u001b[38;5;28;01melse\u001b[39;00m:\n\u001b[1;32m--> 621\u001b[0m         X, y \u001b[38;5;241m=\u001b[39m check_X_y(X, y, \u001b[38;5;241m*\u001b[39m\u001b[38;5;241m*\u001b[39mcheck_params)\n\u001b[0;32m    622\u001b[0m     out \u001b[38;5;241m=\u001b[39m X, y\n\u001b[0;32m    624\u001b[0m \u001b[38;5;28;01mif\u001b[39;00m \u001b[38;5;129;01mnot\u001b[39;00m no_val_X \u001b[38;5;129;01mand\u001b[39;00m check_params\u001b[38;5;241m.\u001b[39mget(\u001b[38;5;124m\"\u001b[39m\u001b[38;5;124mensure_2d\u001b[39m\u001b[38;5;124m\"\u001b[39m, \u001b[38;5;28;01mTrue\u001b[39;00m):\n",
            "File \u001b[1;32mc:\\ProgramData\\anaconda3\\Lib\\site-packages\\sklearn\\utils\\validation.py:1163\u001b[0m, in \u001b[0;36mcheck_X_y\u001b[1;34m(X, y, accept_sparse, accept_large_sparse, dtype, order, copy, force_all_finite, ensure_2d, allow_nd, multi_output, ensure_min_samples, ensure_min_features, y_numeric, estimator)\u001b[0m\n\u001b[0;32m   1143\u001b[0m     \u001b[38;5;28;01mraise\u001b[39;00m \u001b[38;5;167;01mValueError\u001b[39;00m(\n\u001b[0;32m   1144\u001b[0m         \u001b[38;5;124mf\u001b[39m\u001b[38;5;124m\"\u001b[39m\u001b[38;5;132;01m{\u001b[39;00mestimator_name\u001b[38;5;132;01m}\u001b[39;00m\u001b[38;5;124m requires y to be passed, but the target y is None\u001b[39m\u001b[38;5;124m\"\u001b[39m\n\u001b[0;32m   1145\u001b[0m     )\n\u001b[0;32m   1147\u001b[0m X \u001b[38;5;241m=\u001b[39m check_array(\n\u001b[0;32m   1148\u001b[0m     X,\n\u001b[0;32m   1149\u001b[0m     accept_sparse\u001b[38;5;241m=\u001b[39maccept_sparse,\n\u001b[1;32m   (...)\u001b[0m\n\u001b[0;32m   1160\u001b[0m     input_name\u001b[38;5;241m=\u001b[39m\u001b[38;5;124m\"\u001b[39m\u001b[38;5;124mX\u001b[39m\u001b[38;5;124m\"\u001b[39m,\n\u001b[0;32m   1161\u001b[0m )\n\u001b[1;32m-> 1163\u001b[0m y \u001b[38;5;241m=\u001b[39m _check_y(y, multi_output\u001b[38;5;241m=\u001b[39mmulti_output, y_numeric\u001b[38;5;241m=\u001b[39my_numeric, estimator\u001b[38;5;241m=\u001b[39mestimator)\n\u001b[0;32m   1165\u001b[0m check_consistent_length(X, y)\n\u001b[0;32m   1167\u001b[0m \u001b[38;5;28;01mreturn\u001b[39;00m X, y\n",
            "File \u001b[1;32mc:\\ProgramData\\anaconda3\\Lib\\site-packages\\sklearn\\utils\\validation.py:1173\u001b[0m, in \u001b[0;36m_check_y\u001b[1;34m(y, multi_output, y_numeric, estimator)\u001b[0m\n\u001b[0;32m   1171\u001b[0m \u001b[38;5;250m\u001b[39m\u001b[38;5;124;03m\"\"\"Isolated part of check_X_y dedicated to y validation\"\"\"\u001b[39;00m\n\u001b[0;32m   1172\u001b[0m \u001b[38;5;28;01mif\u001b[39;00m multi_output:\n\u001b[1;32m-> 1173\u001b[0m     y \u001b[38;5;241m=\u001b[39m check_array(\n\u001b[0;32m   1174\u001b[0m         y,\n\u001b[0;32m   1175\u001b[0m         accept_sparse\u001b[38;5;241m=\u001b[39m\u001b[38;5;124m\"\u001b[39m\u001b[38;5;124mcsr\u001b[39m\u001b[38;5;124m\"\u001b[39m,\n\u001b[0;32m   1176\u001b[0m         force_all_finite\u001b[38;5;241m=\u001b[39m\u001b[38;5;28;01mTrue\u001b[39;00m,\n\u001b[0;32m   1177\u001b[0m         ensure_2d\u001b[38;5;241m=\u001b[39m\u001b[38;5;28;01mFalse\u001b[39;00m,\n\u001b[0;32m   1178\u001b[0m         dtype\u001b[38;5;241m=\u001b[39m\u001b[38;5;28;01mNone\u001b[39;00m,\n\u001b[0;32m   1179\u001b[0m         input_name\u001b[38;5;241m=\u001b[39m\u001b[38;5;124m\"\u001b[39m\u001b[38;5;124my\u001b[39m\u001b[38;5;124m\"\u001b[39m,\n\u001b[0;32m   1180\u001b[0m         estimator\u001b[38;5;241m=\u001b[39mestimator,\n\u001b[0;32m   1181\u001b[0m     )\n\u001b[0;32m   1182\u001b[0m \u001b[38;5;28;01melse\u001b[39;00m:\n\u001b[0;32m   1183\u001b[0m     estimator_name \u001b[38;5;241m=\u001b[39m _check_estimator_name(estimator)\n",
            "File \u001b[1;32mc:\\ProgramData\\anaconda3\\Lib\\site-packages\\sklearn\\utils\\validation.py:959\u001b[0m, in \u001b[0;36mcheck_array\u001b[1;34m(array, accept_sparse, accept_large_sparse, dtype, order, copy, force_all_finite, ensure_2d, allow_nd, ensure_min_samples, ensure_min_features, estimator, input_name)\u001b[0m\n\u001b[0;32m    953\u001b[0m         \u001b[38;5;28;01mraise\u001b[39;00m \u001b[38;5;167;01mValueError\u001b[39;00m(\n\u001b[0;32m    954\u001b[0m             \u001b[38;5;124m\"\u001b[39m\u001b[38;5;124mFound array with dim \u001b[39m\u001b[38;5;132;01m%d\u001b[39;00m\u001b[38;5;124m. \u001b[39m\u001b[38;5;132;01m%s\u001b[39;00m\u001b[38;5;124m expected <= 2.\u001b[39m\u001b[38;5;124m\"\u001b[39m\n\u001b[0;32m    955\u001b[0m             \u001b[38;5;241m%\u001b[39m (array\u001b[38;5;241m.\u001b[39mndim, estimator_name)\n\u001b[0;32m    956\u001b[0m         )\n\u001b[0;32m    958\u001b[0m     \u001b[38;5;28;01mif\u001b[39;00m force_all_finite:\n\u001b[1;32m--> 959\u001b[0m         _assert_all_finite(\n\u001b[0;32m    960\u001b[0m             array,\n\u001b[0;32m    961\u001b[0m             input_name\u001b[38;5;241m=\u001b[39minput_name,\n\u001b[0;32m    962\u001b[0m             estimator_name\u001b[38;5;241m=\u001b[39mestimator_name,\n\u001b[0;32m    963\u001b[0m             allow_nan\u001b[38;5;241m=\u001b[39mforce_all_finite \u001b[38;5;241m==\u001b[39m \u001b[38;5;124m\"\u001b[39m\u001b[38;5;124mallow-nan\u001b[39m\u001b[38;5;124m\"\u001b[39m,\n\u001b[0;32m    964\u001b[0m         )\n\u001b[0;32m    966\u001b[0m \u001b[38;5;28;01mif\u001b[39;00m ensure_min_samples \u001b[38;5;241m>\u001b[39m \u001b[38;5;241m0\u001b[39m:\n\u001b[0;32m    967\u001b[0m     n_samples \u001b[38;5;241m=\u001b[39m _num_samples(array)\n",
            "File \u001b[1;32mc:\\ProgramData\\anaconda3\\Lib\\site-packages\\sklearn\\utils\\validation.py:124\u001b[0m, in \u001b[0;36m_assert_all_finite\u001b[1;34m(X, allow_nan, msg_dtype, estimator_name, input_name)\u001b[0m\n\u001b[0;32m    121\u001b[0m \u001b[38;5;28;01mif\u001b[39;00m first_pass_isfinite:\n\u001b[0;32m    122\u001b[0m     \u001b[38;5;28;01mreturn\u001b[39;00m\n\u001b[1;32m--> 124\u001b[0m _assert_all_finite_element_wise(\n\u001b[0;32m    125\u001b[0m     X,\n\u001b[0;32m    126\u001b[0m     xp\u001b[38;5;241m=\u001b[39mxp,\n\u001b[0;32m    127\u001b[0m     allow_nan\u001b[38;5;241m=\u001b[39mallow_nan,\n\u001b[0;32m    128\u001b[0m     msg_dtype\u001b[38;5;241m=\u001b[39mmsg_dtype,\n\u001b[0;32m    129\u001b[0m     estimator_name\u001b[38;5;241m=\u001b[39mestimator_name,\n\u001b[0;32m    130\u001b[0m     input_name\u001b[38;5;241m=\u001b[39minput_name,\n\u001b[0;32m    131\u001b[0m )\n",
            "File \u001b[1;32mc:\\ProgramData\\anaconda3\\Lib\\site-packages\\sklearn\\utils\\validation.py:173\u001b[0m, in \u001b[0;36m_assert_all_finite_element_wise\u001b[1;34m(X, xp, allow_nan, msg_dtype, estimator_name, input_name)\u001b[0m\n\u001b[0;32m    156\u001b[0m \u001b[38;5;28;01mif\u001b[39;00m estimator_name \u001b[38;5;129;01mand\u001b[39;00m input_name \u001b[38;5;241m==\u001b[39m \u001b[38;5;124m\"\u001b[39m\u001b[38;5;124mX\u001b[39m\u001b[38;5;124m\"\u001b[39m \u001b[38;5;129;01mand\u001b[39;00m has_nan_error:\n\u001b[0;32m    157\u001b[0m     \u001b[38;5;66;03m# Improve the error message on how to handle missing values in\u001b[39;00m\n\u001b[0;32m    158\u001b[0m     \u001b[38;5;66;03m# scikit-learn.\u001b[39;00m\n\u001b[0;32m    159\u001b[0m     msg_err \u001b[38;5;241m+\u001b[39m\u001b[38;5;241m=\u001b[39m (\n\u001b[0;32m    160\u001b[0m         \u001b[38;5;124mf\u001b[39m\u001b[38;5;124m\"\u001b[39m\u001b[38;5;130;01m\\n\u001b[39;00m\u001b[38;5;132;01m{\u001b[39;00mestimator_name\u001b[38;5;132;01m}\u001b[39;00m\u001b[38;5;124m does not accept missing values\u001b[39m\u001b[38;5;124m\"\u001b[39m\n\u001b[0;32m    161\u001b[0m         \u001b[38;5;124m\"\u001b[39m\u001b[38;5;124m encoded as NaN natively. For supervised learning, you might want\u001b[39m\u001b[38;5;124m\"\u001b[39m\n\u001b[1;32m   (...)\u001b[0m\n\u001b[0;32m    171\u001b[0m         \u001b[38;5;124m\"\u001b[39m\u001b[38;5;124m#estimators-that-handle-nan-values\u001b[39m\u001b[38;5;124m\"\u001b[39m\n\u001b[0;32m    172\u001b[0m     )\n\u001b[1;32m--> 173\u001b[0m \u001b[38;5;28;01mraise\u001b[39;00m \u001b[38;5;167;01mValueError\u001b[39;00m(msg_err)\n",
            "\u001b[1;31mValueError\u001b[0m: Input y contains NaN."
          ]
        }
      ],
      "source": [
        "# Crear un modelo de regresión lineal\n",
        "regression_model = LinearRegression()\n",
        "\n",
        "# Ajustar el modelo a los datos conocidos\n",
        "regression_model.fit(X_known, y_known)\n",
        "\n",
        "# Predecir los valores faltantes\n",
        "predicted_values = regression_model.predict(X_unknown)\n",
        "\n",
        "# Reemplazar los valores faltantes en el DataFrame original\n",
        "df.loc[df['price'].isnull(), 'price'] = predicted_values"
      ]
    },
    {
      "cell_type": "markdown",
      "metadata": {},
      "source": [
        "Realizamos una copia para salverguardar el proceso"
      ]
    },
    {
      "cell_type": "code",
      "execution_count": 63,
      "metadata": {},
      "outputs": [],
      "source": [
        "df1 = df.copy()"
      ]
    },
    {
      "cell_type": "code",
      "execution_count": 70,
      "metadata": {},
      "outputs": [],
      "source": [
        "data_known = df1.dropna(subset=['max_price'])\n",
        "data_unknown = df[df['max_price'].isnull()]"
      ]
    },
    {
      "cell_type": "markdown",
      "metadata": {},
      "source": [
        "Ahora imputaremos 'Max price'"
      ]
    },
    {
      "cell_type": "code",
      "execution_count": 71,
      "metadata": {},
      "outputs": [
        {
          "name": "stdout",
          "output_type": "stream",
          "text": [
            "age          0.093238\n",
            "height      -0.089408\n",
            "price        0.871134\n",
            "max_price    1.000000\n",
            "Name: max_price, dtype: float64\n"
          ]
        }
      ],
      "source": [
        "selected_columns = ['age', 'height', 'price']\n",
        "correlation_with_target = df1[selected_columns + ['max_price']].corr()['max_price']\n",
        "print(correlation_with_target)"
      ]
    },
    {
      "cell_type": "code",
      "execution_count": 72,
      "metadata": {},
      "outputs": [],
      "source": [
        "X_known = data_known[['age', 'height','price']]\n",
        "y_known = data_known['max_price']\n",
        "X_unknown = data_unknown[['age', 'height','price']]"
      ]
    },
    {
      "cell_type": "code",
      "execution_count": 75,
      "metadata": {},
      "outputs": [],
      "source": [
        "# Crear un modelo de regresión lineal\n",
        "regression_model = LinearRegression()\n",
        "\n",
        "# Ajustar el modelo a los datos conocidos\n",
        "regression_model.fit(X_known, y_known)\n",
        "\n",
        "# Predecir los valores faltantes\n",
        "predicted_values = regression_model.predict(X_unknown)\n",
        "\n",
        "# Reemplazar los valores faltantes en el DataFrame original\n",
        "df.loc[df['max_price'].isnull(), 'max_price'] = predicted_values"
      ]
    },
    {
      "cell_type": "markdown",
      "metadata": {},
      "source": [
        "Validamos si aun existen nulos"
      ]
    },
    {
      "cell_type": "code",
      "execution_count": 76,
      "metadata": {},
      "outputs": [
        {
          "data": {
            "text/plain": [
              "age             0\n",
              "height          0\n",
              "nationality     0\n",
              "price           0\n",
              "max_price       0\n",
              "position        0\n",
              "shirt_nr        0\n",
              "foot            0\n",
              "club            0\n",
              "joined_club     0\n",
              "player_agent    0\n",
              "outfitter       0\n",
              "dtype: int64"
            ]
          },
          "execution_count": 76,
          "metadata": {},
          "output_type": "execute_result"
        }
      ],
      "source": [
        "df.isna().sum()"
      ]
    },
    {
      "cell_type": "code",
      "execution_count": 77,
      "metadata": {
        "colab": {
          "base_uri": "https://localhost:8080/"
        },
        "id": "_3clLjKP6Tfe",
        "outputId": "8cceb5ca-85c2-42e0-a8e8-fa008a8d495e"
      },
      "outputs": [
        {
          "name": "stdout",
          "output_type": "stream",
          "text": [
            "<class 'pandas.core.frame.DataFrame'>\n",
            "RangeIndex: 515 entries, 0 to 514\n",
            "Data columns (total 12 columns):\n",
            " #   Column        Non-Null Count  Dtype  \n",
            "---  ------        --------------  -----  \n",
            " 0   age           515 non-null    int64  \n",
            " 1   height        515 non-null    float64\n",
            " 2   nationality   515 non-null    object \n",
            " 3   price         515 non-null    float64\n",
            " 4   max_price     515 non-null    float64\n",
            " 5   position      515 non-null    object \n",
            " 6   shirt_nr      515 non-null    int64  \n",
            " 7   foot          515 non-null    object \n",
            " 8   club          515 non-null    object \n",
            " 9   joined_club   515 non-null    object \n",
            " 10  player_agent  515 non-null    object \n",
            " 11  outfitter     515 non-null    object \n",
            "dtypes: float64(3), int64(2), object(7)\n",
            "memory usage: 48.4+ KB\n"
          ]
        }
      ],
      "source": [
        "df.info()"
      ]
    },
    {
      "cell_type": "markdown",
      "metadata": {},
      "source": [
        "Ahora cambiaremos el tipo de datos de las columnas de que poseen tipo object. "
      ]
    },
    {
      "cell_type": "code",
      "execution_count": 78,
      "metadata": {
        "colab": {
          "base_uri": "https://localhost:8080/"
        },
        "id": "3lZS6N356lgo",
        "outputId": "c55a44f5-bb16-4771-df0e-22e6d2de6088"
      },
      "outputs": [
        {
          "name": "stdout",
          "output_type": "stream",
          "text": [
            "     age  height  nationality  price  max_price                 position  \\\n",
            "0     37    1.93      Germany   7.00       45.0               Goalkeeper   \n",
            "1     34    1.83  Switzerland   5.00       13.0               Goalkeeper   \n",
            "2     34    1.92      Germany   0.90        6.0               Goalkeeper   \n",
            "3     20    1.91      Germany   0.30        0.3               Goalkeeper   \n",
            "4     23    1.89  Netherlands  75.00       75.0   Defender - Centre-Back   \n",
            "..   ...     ...          ...    ...        ...                      ...   \n",
            "510   28    1.73        Japan   4.00        4.0    Attack - Right Winger   \n",
            "511   30    1.95      Germany   2.50        2.5  Attack - Centre-Forward   \n",
            "512   31    1.79      Germany   1.10        3.0  Attack - Centre-Forward   \n",
            "513   26    1.91        Congo   0.75        2.5  Attack - Centre-Forward   \n",
            "514   22    1.90      Germany   0.50        0.5  Attack - Centre-Forward   \n",
            "\n",
            "     shirt_nr   foot           club joined_club  ... Turkey Turkey  Germany  \\\n",
            "0           1  right  Bayern Munich  2011-07-01  ...  False           False   \n",
            "1          27  right  Bayern Munich  2023-01-19  ...  False           False   \n",
            "2          26  right  Bayern Munich  2021-07-01  ...  False           False   \n",
            "3          35  right  Bayern Munich  2022-07-01  ...  False           False   \n",
            "4           4  right  Bayern Munich  2022-07-19  ...  False           False   \n",
            "..        ...    ...            ...         ...  ...    ...             ...   \n",
            "510        11  right     VfL Bochum  2021-07-01  ...  False           False   \n",
            "511        33   left     VfL Bochum  2022-07-01  ...  False           False   \n",
            "512         9  right     VfL Bochum  2019-01-01  ...  False           False   \n",
            "513        35  right     VfL Bochum  2019-07-05  ...  False           False   \n",
            "514        29  right     VfL Bochum  2023-01-22  ...  False           False   \n",
            "\n",
            "     Ukraine  United States  United States  Dominican Republic  \\\n",
            "0      False          False                              False   \n",
            "1      False          False                              False   \n",
            "2      False          False                              False   \n",
            "3      False          False                              False   \n",
            "4      False          False                              False   \n",
            "..       ...            ...                                ...   \n",
            "510    False          False                              False   \n",
            "511    False          False                              False   \n",
            "512    False          False                              False   \n",
            "513    False          False                              False   \n",
            "514    False          False                              False   \n",
            "\n",
            "     United States  France  United States  Germany  United States  Portugal  \\\n",
            "0                    False                   False                    False   \n",
            "1                    False                   False                    False   \n",
            "2                    False                   False                    False   \n",
            "3                    False                   False                    False   \n",
            "4                    False                   False                    False   \n",
            "..                     ...                     ...                      ...   \n",
            "510                  False                   False                    False   \n",
            "511                  False                   False                    False   \n",
            "512                  False                   False                    False   \n",
            "513                  False                   False                    False   \n",
            "514                  False                   False                    False   \n",
            "\n",
            "     Uruguay  Italy  Uruguay  Spain  \n",
            "0             False           False  \n",
            "1             False           False  \n",
            "2             False           False  \n",
            "3             False           False  \n",
            "4             False           False  \n",
            "..              ...             ...  \n",
            "510           False           False  \n",
            "511           False           False  \n",
            "512           False           False  \n",
            "513           False           False  \n",
            "514           False           False  \n",
            "\n",
            "[515 rows x 159 columns]\n"
          ]
        }
      ],
      "source": [
        "#Nacionalidad\n",
        "one_hot = pd.get_dummies(df['nationality'])\n",
        "df = pd.concat([df, one_hot], axis=1)\n",
        "print(df)"
      ]
    },
    {
      "cell_type": "code",
      "execution_count": 79,
      "metadata": {
        "colab": {
          "base_uri": "https://localhost:8080/"
        },
        "id": "lAIrMXXbvKeF",
        "outputId": "a3471414-607f-4df3-856e-1bbe0fd32586"
      },
      "outputs": [
        {
          "name": "stdout",
          "output_type": "stream",
          "text": [
            "     age  height  nationality  price  max_price                 position  \\\n",
            "0     37    1.93      Germany   7.00       45.0               Goalkeeper   \n",
            "1     34    1.83  Switzerland   5.00       13.0               Goalkeeper   \n",
            "2     34    1.92      Germany   0.90        6.0               Goalkeeper   \n",
            "3     20    1.91      Germany   0.30        0.3               Goalkeeper   \n",
            "4     23    1.89  Netherlands  75.00       75.0   Defender - Centre-Back   \n",
            "..   ...     ...          ...    ...        ...                      ...   \n",
            "510   28    1.73        Japan   4.00        4.0    Attack - Right Winger   \n",
            "511   30    1.95      Germany   2.50        2.5  Attack - Centre-Forward   \n",
            "512   31    1.79      Germany   1.10        3.0  Attack - Centre-Forward   \n",
            "513   26    1.91        Congo   0.75        2.5  Attack - Centre-Forward   \n",
            "514   22    1.90      Germany   0.50        0.5  Attack - Centre-Forward   \n",
            "\n",
            "     shirt_nr   foot           club joined_club  ... Attack - Second Striker  \\\n",
            "0           1  right  Bayern Munich  2011-07-01  ...                   False   \n",
            "1          27  right  Bayern Munich  2023-01-19  ...                   False   \n",
            "2          26  right  Bayern Munich  2021-07-01  ...                   False   \n",
            "3          35  right  Bayern Munich  2022-07-01  ...                   False   \n",
            "4           4  right  Bayern Munich  2022-07-19  ...                   False   \n",
            "..        ...    ...            ...         ...  ...                     ...   \n",
            "510        11  right     VfL Bochum  2021-07-01  ...                   False   \n",
            "511        33   left     VfL Bochum  2022-07-01  ...                   False   \n",
            "512         9  right     VfL Bochum  2019-01-01  ...                   False   \n",
            "513        35  right     VfL Bochum  2019-07-05  ...                   False   \n",
            "514        29  right     VfL Bochum  2023-01-22  ...                   False   \n",
            "\n",
            "    Defender - Centre-Back  Defender - Left-Back  Defender - Right-Back  \\\n",
            "0                    False                 False                  False   \n",
            "1                    False                 False                  False   \n",
            "2                    False                 False                  False   \n",
            "3                    False                 False                  False   \n",
            "4                     True                 False                  False   \n",
            "..                     ...                   ...                    ...   \n",
            "510                  False                 False                  False   \n",
            "511                  False                 False                  False   \n",
            "512                  False                 False                  False   \n",
            "513                  False                 False                  False   \n",
            "514                  False                 False                  False   \n",
            "\n",
            "     Goalkeeper  midfield - Attacking Midfield  midfield - Central Midfield  \\\n",
            "0          True                          False                        False   \n",
            "1          True                          False                        False   \n",
            "2          True                          False                        False   \n",
            "3          True                          False                        False   \n",
            "4         False                          False                        False   \n",
            "..          ...                            ...                          ...   \n",
            "510       False                          False                        False   \n",
            "511       False                          False                        False   \n",
            "512       False                          False                        False   \n",
            "513       False                          False                        False   \n",
            "514       False                          False                        False   \n",
            "\n",
            "     midfield - Defensive Midfield  midfield - Left Midfield  \\\n",
            "0                            False                     False   \n",
            "1                            False                     False   \n",
            "2                            False                     False   \n",
            "3                            False                     False   \n",
            "4                            False                     False   \n",
            "..                             ...                       ...   \n",
            "510                          False                     False   \n",
            "511                          False                     False   \n",
            "512                          False                     False   \n",
            "513                          False                     False   \n",
            "514                          False                     False   \n",
            "\n",
            "     midfield - Right Midfield  \n",
            "0                        False  \n",
            "1                        False  \n",
            "2                        False  \n",
            "3                        False  \n",
            "4                        False  \n",
            "..                         ...  \n",
            "510                      False  \n",
            "511                      False  \n",
            "512                      False  \n",
            "513                      False  \n",
            "514                      False  \n",
            "\n",
            "[515 rows x 172 columns]\n"
          ]
        }
      ],
      "source": [
        "#Position \n",
        "one_hot = pd.get_dummies(df['position'])\n",
        "df = pd.concat([df, one_hot], axis=1)\n",
        "print(df)"
      ]
    },
    {
      "cell_type": "code",
      "execution_count": 80,
      "metadata": {},
      "outputs": [
        {
          "name": "stdout",
          "output_type": "stream",
          "text": [
            "     age  height  nationality  price  max_price                 position  \\\n",
            "0     37    1.93      Germany   7.00       45.0               Goalkeeper   \n",
            "1     34    1.83  Switzerland   5.00       13.0               Goalkeeper   \n",
            "2     34    1.92      Germany   0.90        6.0               Goalkeeper   \n",
            "3     20    1.91      Germany   0.30        0.3               Goalkeeper   \n",
            "4     23    1.89  Netherlands  75.00       75.0   Defender - Centre-Back   \n",
            "..   ...     ...          ...    ...        ...                      ...   \n",
            "510   28    1.73        Japan   4.00        4.0    Attack - Right Winger   \n",
            "511   30    1.95      Germany   2.50        2.5  Attack - Centre-Forward   \n",
            "512   31    1.79      Germany   1.10        3.0  Attack - Centre-Forward   \n",
            "513   26    1.91        Congo   0.75        2.5  Attack - Centre-Forward   \n",
            "514   22    1.90      Germany   0.50        0.5  Attack - Centre-Forward   \n",
            "\n",
            "     shirt_nr   foot           club joined_club  ... Defender - Right-Back  \\\n",
            "0           1  right  Bayern Munich  2011-07-01  ...                 False   \n",
            "1          27  right  Bayern Munich  2023-01-19  ...                 False   \n",
            "2          26  right  Bayern Munich  2021-07-01  ...                 False   \n",
            "3          35  right  Bayern Munich  2022-07-01  ...                 False   \n",
            "4           4  right  Bayern Munich  2022-07-19  ...                 False   \n",
            "..        ...    ...            ...         ...  ...                   ...   \n",
            "510        11  right     VfL Bochum  2021-07-01  ...                 False   \n",
            "511        33   left     VfL Bochum  2022-07-01  ...                 False   \n",
            "512         9  right     VfL Bochum  2019-01-01  ...                 False   \n",
            "513        35  right     VfL Bochum  2019-07-05  ...                 False   \n",
            "514        29  right     VfL Bochum  2023-01-22  ...                 False   \n",
            "\n",
            "    Goalkeeper  midfield - Attacking Midfield  midfield - Central Midfield  \\\n",
            "0         True                          False                        False   \n",
            "1         True                          False                        False   \n",
            "2         True                          False                        False   \n",
            "3         True                          False                        False   \n",
            "4        False                          False                        False   \n",
            "..         ...                            ...                          ...   \n",
            "510      False                          False                        False   \n",
            "511      False                          False                        False   \n",
            "512      False                          False                        False   \n",
            "513      False                          False                        False   \n",
            "514      False                          False                        False   \n",
            "\n",
            "     midfield - Defensive Midfield  midfield - Left Midfield  \\\n",
            "0                            False                     False   \n",
            "1                            False                     False   \n",
            "2                            False                     False   \n",
            "3                            False                     False   \n",
            "4                            False                     False   \n",
            "..                             ...                       ...   \n",
            "510                          False                     False   \n",
            "511                          False                     False   \n",
            "512                          False                     False   \n",
            "513                          False                     False   \n",
            "514                          False                     False   \n",
            "\n",
            "     midfield - Right Midfield   both   left  right  \n",
            "0                        False  False  False   True  \n",
            "1                        False  False  False   True  \n",
            "2                        False  False  False   True  \n",
            "3                        False  False  False   True  \n",
            "4                        False  False  False   True  \n",
            "..                         ...    ...    ...    ...  \n",
            "510                      False  False  False   True  \n",
            "511                      False  False   True  False  \n",
            "512                      False  False  False   True  \n",
            "513                      False  False  False   True  \n",
            "514                      False  False  False   True  \n",
            "\n",
            "[515 rows x 175 columns]\n"
          ]
        }
      ],
      "source": [
        "#foot \n",
        "one_hot = pd.get_dummies(df['foot'])\n",
        "df = pd.concat([df, one_hot], axis=1)\n",
        "print(df)"
      ]
    },
    {
      "cell_type": "markdown",
      "metadata": {},
      "source": [
        "Evaluaremos la cantidad de filas y columnas que hemos generado. "
      ]
    },
    {
      "cell_type": "code",
      "execution_count": 81,
      "metadata": {},
      "outputs": [
        {
          "data": {
            "text/plain": [
              "(515, 175)"
            ]
          },
          "execution_count": 81,
          "metadata": {},
          "output_type": "execute_result"
        }
      ],
      "source": [
        "df.shape"
      ]
    },
    {
      "cell_type": "markdown",
      "metadata": {},
      "source": [
        "Con el cambio de tipo de datos hemos alcanzdo un total de 175 columnas. "
      ]
    }
  ],
  "metadata": {
    "colab": {
      "provenance": []
    },
    "kernelspec": {
      "display_name": "Python 3",
      "name": "python3"
    },
    "language_info": {
      "codemirror_mode": {
        "name": "ipython",
        "version": 3
      },
      "file_extension": ".py",
      "mimetype": "text/x-python",
      "name": "python",
      "nbconvert_exporter": "python",
      "pygments_lexer": "ipython3",
      "version": "3.11.5"
    }
  },
  "nbformat": 4,
  "nbformat_minor": 0
}
