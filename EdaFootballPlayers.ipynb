{
  "cells": [
    {
      "cell_type": "markdown",
      "metadata": {},
      "source": [
        "# Proceso analisis de datos Football players Bundesliga"
      ]
    },
    {
      "cell_type": "markdown",
      "metadata": {},
      "source": [
        "## Fase 1: Business Understanding"
      ]
    },
    {
      "cell_type": "markdown",
      "metadata": {},
      "source": [
        "### Contexto "
      ]
    },
    {
      "cell_type": "markdown",
      "metadata": {},
      "source": [
        "La data que se va a analizar corresponmde a los datos de todos los futbolistas que se desempeñan en la la primera division de futbol prfessional alemana más conocida como la Bundesliga. "
      ]
    },
    {
      "cell_type": "markdown",
      "metadata": {},
      "source": [
        "## Fase 2: Data Understanding"
      ]
    },
    {
      "cell_type": "markdown",
      "metadata": {},
      "source": [
        "Primero realizamos importacion de las librerias que utilizaremos"
      ]
    },
    {
      "cell_type": "code",
      "execution_count": 145,
      "metadata": {
        "id": "dQmxkWKG2gkA"
      },
      "outputs": [],
      "source": [
        "\n",
        "import pandas as pd\n",
        "import seaborn as sbn\n",
        "import numpy as np\n",
        "import matplotlib.pyplot as plt\n",
        "from seaborn import load_dataset\n",
        "import io"
      ]
    },
    {
      "cell_type": "markdown",
      "metadata": {},
      "source": [
        "Conexion a los datos alojados en github"
      ]
    },
    {
      "cell_type": "code",
      "execution_count": 146,
      "metadata": {
        "colab": {
          "base_uri": "https://localhost:8080/",
          "height": 73
        },
        "id": "ik7IjA_O2lfH",
        "outputId": "6527af99-9618-4aee-bca2-fcc97dcbeefa"
      },
      "outputs": [],
      "source": [
        "\n",
        "#url = 'https://github.com/AlejoBovet/MachineLearningPublic/raw/main/Datas/bl2.csv'\n",
        "#response = requests.get(url)\n",
        "#df = pd.read_csv(response.content)"
      ]
    },
    {
      "cell_type": "markdown",
      "metadata": {},
      "source": [
        "Llamado por local "
      ]
    },
    {
      "cell_type": "code",
      "execution_count": 147,
      "metadata": {},
      "outputs": [],
      "source": [
        "df = pd.read_csv('Datas/bl2.csv')"
      ]
    },
    {
      "cell_type": "markdown",
      "metadata": {},
      "source": [
        "Comprobamos la cantidad de columnas y filas"
      ]
    },
    {
      "cell_type": "code",
      "execution_count": 148,
      "metadata": {},
      "outputs": [
        {
          "data": {
            "text/plain": [
              "(515, 17)"
            ]
          },
          "execution_count": 148,
          "metadata": {},
          "output_type": "execute_result"
        }
      ],
      "source": [
        "df.shape"
      ]
    },
    {
      "cell_type": "markdown",
      "metadata": {},
      "source": [
        "Identificamos que el dataset cuenta con 515 filas donde cada fila representa un jugador y 17 columnas que representa las caracteristicas de los jugadores"
      ]
    },
    {
      "cell_type": "markdown",
      "metadata": {},
      "source": [
        "Visualisamos los primeros campos de la data"
      ]
    },
    {
      "cell_type": "code",
      "execution_count": 149,
      "metadata": {
        "colab": {
          "base_uri": "https://localhost:8080/"
        },
        "id": "qQpXJGga2s_r",
        "outputId": "037e56e8-6794-4697-db4e-2d47127ad17d"
      },
      "outputs": [
        {
          "data": {
            "text/html": [
              "<div>\n",
              "<style scoped>\n",
              "    .dataframe tbody tr th:only-of-type {\n",
              "        vertical-align: middle;\n",
              "    }\n",
              "\n",
              "    .dataframe tbody tr th {\n",
              "        vertical-align: top;\n",
              "    }\n",
              "\n",
              "    .dataframe thead th {\n",
              "        text-align: right;\n",
              "    }\n",
              "</style>\n",
              "<table border=\"1\" class=\"dataframe\">\n",
              "  <thead>\n",
              "    <tr style=\"text-align: right;\">\n",
              "      <th></th>\n",
              "      <th>Unnamed: 0</th>\n",
              "      <th>name</th>\n",
              "      <th>full_name</th>\n",
              "      <th>age</th>\n",
              "      <th>height</th>\n",
              "      <th>nationality</th>\n",
              "      <th>place_of_birth</th>\n",
              "      <th>price</th>\n",
              "      <th>max_price</th>\n",
              "      <th>position</th>\n",
              "      <th>shirt_nr</th>\n",
              "      <th>foot</th>\n",
              "      <th>club</th>\n",
              "      <th>contract_expires</th>\n",
              "      <th>joined_club</th>\n",
              "      <th>player_agent</th>\n",
              "      <th>outfitter</th>\n",
              "    </tr>\n",
              "  </thead>\n",
              "  <tbody>\n",
              "    <tr>\n",
              "      <th>0</th>\n",
              "      <td>0</td>\n",
              "      <td>Manuel Neuer</td>\n",
              "      <td>Manuel Peter Neuer</td>\n",
              "      <td>37</td>\n",
              "      <td>1.93</td>\n",
              "      <td>Germany</td>\n",
              "      <td>Gelsenkirchen</td>\n",
              "      <td>7.0</td>\n",
              "      <td>45.0</td>\n",
              "      <td>Goalkeeper</td>\n",
              "      <td>1</td>\n",
              "      <td>right</td>\n",
              "      <td>Bayern Munich</td>\n",
              "      <td>2024-06-30</td>\n",
              "      <td>2011-07-01</td>\n",
              "      <td>PRO Profil GmbH</td>\n",
              "      <td>adidas</td>\n",
              "    </tr>\n",
              "    <tr>\n",
              "      <th>1</th>\n",
              "      <td>1</td>\n",
              "      <td>Yann Sommer</td>\n",
              "      <td>NaN</td>\n",
              "      <td>34</td>\n",
              "      <td>1.83</td>\n",
              "      <td>Switzerland</td>\n",
              "      <td>Morges</td>\n",
              "      <td>5.0</td>\n",
              "      <td>13.0</td>\n",
              "      <td>Goalkeeper</td>\n",
              "      <td>27</td>\n",
              "      <td>right</td>\n",
              "      <td>Bayern Munich</td>\n",
              "      <td>2025-06-30</td>\n",
              "      <td>2023-01-19</td>\n",
              "      <td>Relatives</td>\n",
              "      <td>Puma</td>\n",
              "    </tr>\n",
              "    <tr>\n",
              "      <th>2</th>\n",
              "      <td>2</td>\n",
              "      <td>Sven Ulreich</td>\n",
              "      <td>NaN</td>\n",
              "      <td>34</td>\n",
              "      <td>1.92</td>\n",
              "      <td>Germany</td>\n",
              "      <td>Schorndorf</td>\n",
              "      <td>0.9</td>\n",
              "      <td>6.0</td>\n",
              "      <td>Goalkeeper</td>\n",
              "      <td>26</td>\n",
              "      <td>right</td>\n",
              "      <td>Bayern Munich</td>\n",
              "      <td>2024-06-30</td>\n",
              "      <td>2021-07-01</td>\n",
              "      <td>BMS Sportconsulting ...</td>\n",
              "      <td>adidas</td>\n",
              "    </tr>\n",
              "    <tr>\n",
              "      <th>3</th>\n",
              "      <td>3</td>\n",
              "      <td>Johannes Schenk</td>\n",
              "      <td>NaN</td>\n",
              "      <td>20</td>\n",
              "      <td>1.91</td>\n",
              "      <td>Germany</td>\n",
              "      <td>Schweinfurt</td>\n",
              "      <td>0.3</td>\n",
              "      <td>0.3</td>\n",
              "      <td>Goalkeeper</td>\n",
              "      <td>35</td>\n",
              "      <td>NaN</td>\n",
              "      <td>Bayern Munich</td>\n",
              "      <td>2024-06-30</td>\n",
              "      <td>2022-07-01</td>\n",
              "      <td>11WINS</td>\n",
              "      <td>NaN</td>\n",
              "    </tr>\n",
              "    <tr>\n",
              "      <th>4</th>\n",
              "      <td>4</td>\n",
              "      <td>Matthijs de Ligt</td>\n",
              "      <td>NaN</td>\n",
              "      <td>23</td>\n",
              "      <td>1.89</td>\n",
              "      <td>Netherlands</td>\n",
              "      <td>Leiderdorp</td>\n",
              "      <td>75.0</td>\n",
              "      <td>75.0</td>\n",
              "      <td>Defender - Centre-Back</td>\n",
              "      <td>4</td>\n",
              "      <td>right</td>\n",
              "      <td>Bayern Munich</td>\n",
              "      <td>2027-06-30</td>\n",
              "      <td>2022-07-19</td>\n",
              "      <td>Rafaela Pimenta</td>\n",
              "      <td>adidas</td>\n",
              "    </tr>\n",
              "  </tbody>\n",
              "</table>\n",
              "</div>"
            ],
            "text/plain": [
              "   Unnamed: 0              name           full_name  age  height  nationality  \\\n",
              "0           0      Manuel Neuer  Manuel Peter Neuer   37    1.93      Germany   \n",
              "1           1       Yann Sommer                 NaN   34    1.83  Switzerland   \n",
              "2           2      Sven Ulreich                 NaN   34    1.92      Germany   \n",
              "3           3   Johannes Schenk                 NaN   20    1.91      Germany   \n",
              "4           4  Matthijs de Ligt                 NaN   23    1.89  Netherlands   \n",
              "\n",
              "  place_of_birth  price  max_price                position  shirt_nr   foot  \\\n",
              "0  Gelsenkirchen    7.0       45.0              Goalkeeper         1  right   \n",
              "1         Morges    5.0       13.0              Goalkeeper        27  right   \n",
              "2     Schorndorf    0.9        6.0              Goalkeeper        26  right   \n",
              "3    Schweinfurt    0.3        0.3              Goalkeeper        35    NaN   \n",
              "4     Leiderdorp   75.0       75.0  Defender - Centre-Back         4  right   \n",
              "\n",
              "            club contract_expires joined_club             player_agent  \\\n",
              "0  Bayern Munich       2024-06-30  2011-07-01          PRO Profil GmbH   \n",
              "1  Bayern Munich       2025-06-30  2023-01-19                Relatives   \n",
              "2  Bayern Munich       2024-06-30  2021-07-01  BMS Sportconsulting ...   \n",
              "3  Bayern Munich       2024-06-30  2022-07-01                   11WINS   \n",
              "4  Bayern Munich       2027-06-30  2022-07-19          Rafaela Pimenta   \n",
              "\n",
              "  outfitter  \n",
              "0    adidas  \n",
              "1      Puma  \n",
              "2    adidas  \n",
              "3       NaN  \n",
              "4    adidas  "
            ]
          },
          "execution_count": 149,
          "metadata": {},
          "output_type": "execute_result"
        }
      ],
      "source": [
        "df.head()"
      ]
    },
    {
      "cell_type": "markdown",
      "metadata": {},
      "source": [
        "y ahora los ultimos"
      ]
    },
    {
      "cell_type": "code",
      "execution_count": 150,
      "metadata": {},
      "outputs": [
        {
          "data": {
            "text/html": [
              "<div>\n",
              "<style scoped>\n",
              "    .dataframe tbody tr th:only-of-type {\n",
              "        vertical-align: middle;\n",
              "    }\n",
              "\n",
              "    .dataframe tbody tr th {\n",
              "        vertical-align: top;\n",
              "    }\n",
              "\n",
              "    .dataframe thead th {\n",
              "        text-align: right;\n",
              "    }\n",
              "</style>\n",
              "<table border=\"1\" class=\"dataframe\">\n",
              "  <thead>\n",
              "    <tr style=\"text-align: right;\">\n",
              "      <th></th>\n",
              "      <th>Unnamed: 0</th>\n",
              "      <th>name</th>\n",
              "      <th>full_name</th>\n",
              "      <th>age</th>\n",
              "      <th>height</th>\n",
              "      <th>nationality</th>\n",
              "      <th>place_of_birth</th>\n",
              "      <th>price</th>\n",
              "      <th>max_price</th>\n",
              "      <th>position</th>\n",
              "      <th>shirt_nr</th>\n",
              "      <th>foot</th>\n",
              "      <th>club</th>\n",
              "      <th>contract_expires</th>\n",
              "      <th>joined_club</th>\n",
              "      <th>player_agent</th>\n",
              "      <th>outfitter</th>\n",
              "    </tr>\n",
              "  </thead>\n",
              "  <tbody>\n",
              "    <tr>\n",
              "      <th>510</th>\n",
              "      <td>510</td>\n",
              "      <td>Takuma Asano</td>\n",
              "      <td>浅野 拓磨</td>\n",
              "      <td>28</td>\n",
              "      <td>1.73</td>\n",
              "      <td>Japan</td>\n",
              "      <td>Komono, Mie</td>\n",
              "      <td>4.00</td>\n",
              "      <td>4.0</td>\n",
              "      <td>Attack - Right Winger</td>\n",
              "      <td>11</td>\n",
              "      <td>right</td>\n",
              "      <td>VfL Bochum</td>\n",
              "      <td>2024-06-30</td>\n",
              "      <td>2021-07-01</td>\n",
              "      <td>JEB ENTERTAINMENT ...</td>\n",
              "      <td>adidas</td>\n",
              "    </tr>\n",
              "    <tr>\n",
              "      <th>511</th>\n",
              "      <td>511</td>\n",
              "      <td>Philipp Hofmann</td>\n",
              "      <td>NaN</td>\n",
              "      <td>30</td>\n",
              "      <td>1.95</td>\n",
              "      <td>Germany</td>\n",
              "      <td>Arnsberg</td>\n",
              "      <td>2.50</td>\n",
              "      <td>2.5</td>\n",
              "      <td>Attack - Centre-Forward</td>\n",
              "      <td>33</td>\n",
              "      <td>left</td>\n",
              "      <td>VfL Bochum</td>\n",
              "      <td>2024-06-30</td>\n",
              "      <td>2022-07-01</td>\n",
              "      <td>ROOF</td>\n",
              "      <td>NaN</td>\n",
              "    </tr>\n",
              "    <tr>\n",
              "      <th>512</th>\n",
              "      <td>512</td>\n",
              "      <td>Simon Zoller</td>\n",
              "      <td>Simon Martin Zoller</td>\n",
              "      <td>31</td>\n",
              "      <td>1.79</td>\n",
              "      <td>Germany</td>\n",
              "      <td>Friedrichshafen</td>\n",
              "      <td>1.10</td>\n",
              "      <td>3.0</td>\n",
              "      <td>Attack - Centre-Forward</td>\n",
              "      <td>9</td>\n",
              "      <td>right</td>\n",
              "      <td>VfL Bochum</td>\n",
              "      <td>2024-06-30</td>\n",
              "      <td>2019-01-01</td>\n",
              "      <td>GoalSky</td>\n",
              "      <td>Puma</td>\n",
              "    </tr>\n",
              "    <tr>\n",
              "      <th>513</th>\n",
              "      <td>513</td>\n",
              "      <td>Silvère Ganvoula</td>\n",
              "      <td>Silvère Ganvoula M'boussy</td>\n",
              "      <td>26</td>\n",
              "      <td>1.91</td>\n",
              "      <td>Congo</td>\n",
              "      <td>Brazzaville</td>\n",
              "      <td>0.75</td>\n",
              "      <td>2.5</td>\n",
              "      <td>Attack - Centre-Forward</td>\n",
              "      <td>35</td>\n",
              "      <td>right</td>\n",
              "      <td>VfL Bochum</td>\n",
              "      <td>2023-06-30</td>\n",
              "      <td>2019-07-05</td>\n",
              "      <td>BY Sport Consulting</td>\n",
              "      <td>Puma</td>\n",
              "    </tr>\n",
              "    <tr>\n",
              "      <th>514</th>\n",
              "      <td>514</td>\n",
              "      <td>Moritz Broschinski</td>\n",
              "      <td>NaN</td>\n",
              "      <td>22</td>\n",
              "      <td>1.90</td>\n",
              "      <td>Germany</td>\n",
              "      <td>Finsterwalde</td>\n",
              "      <td>0.50</td>\n",
              "      <td>0.5</td>\n",
              "      <td>Attack - Centre-Forward</td>\n",
              "      <td>29</td>\n",
              "      <td>right</td>\n",
              "      <td>VfL Bochum</td>\n",
              "      <td>2026-06-30</td>\n",
              "      <td>2023-01-22</td>\n",
              "      <td>Teamgeist ...</td>\n",
              "      <td>NaN</td>\n",
              "    </tr>\n",
              "  </tbody>\n",
              "</table>\n",
              "</div>"
            ],
            "text/plain": [
              "     Unnamed: 0                name                  full_name  age  height  \\\n",
              "510         510        Takuma Asano                      浅野 拓磨   28    1.73   \n",
              "511         511     Philipp Hofmann                        NaN   30    1.95   \n",
              "512         512        Simon Zoller        Simon Martin Zoller   31    1.79   \n",
              "513         513    Silvère Ganvoula  Silvère Ganvoula M'boussy   26    1.91   \n",
              "514         514  Moritz Broschinski                        NaN   22    1.90   \n",
              "\n",
              "    nationality   place_of_birth  price  max_price                 position  \\\n",
              "510       Japan      Komono, Mie   4.00        4.0    Attack - Right Winger   \n",
              "511     Germany         Arnsberg   2.50        2.5  Attack - Centre-Forward   \n",
              "512     Germany  Friedrichshafen   1.10        3.0  Attack - Centre-Forward   \n",
              "513       Congo      Brazzaville   0.75        2.5  Attack - Centre-Forward   \n",
              "514     Germany     Finsterwalde   0.50        0.5  Attack - Centre-Forward   \n",
              "\n",
              "     shirt_nr   foot        club contract_expires joined_club  \\\n",
              "510        11  right  VfL Bochum       2024-06-30  2021-07-01   \n",
              "511        33   left  VfL Bochum       2024-06-30  2022-07-01   \n",
              "512         9  right  VfL Bochum       2024-06-30  2019-01-01   \n",
              "513        35  right  VfL Bochum       2023-06-30  2019-07-05   \n",
              "514        29  right  VfL Bochum       2026-06-30  2023-01-22   \n",
              "\n",
              "              player_agent outfitter  \n",
              "510  JEB ENTERTAINMENT ...    adidas  \n",
              "511                   ROOF       NaN  \n",
              "512                GoalSky      Puma  \n",
              "513    BY Sport Consulting      Puma  \n",
              "514          Teamgeist ...       NaN  "
            ]
          },
          "execution_count": 150,
          "metadata": {},
          "output_type": "execute_result"
        }
      ],
      "source": [
        "df.tail()"
      ]
    },
    {
      "cell_type": "markdown",
      "metadata": {},
      "source": [
        "* price y max_price estan en millones de euros"
      ]
    },
    {
      "cell_type": "markdown",
      "metadata": {},
      "source": [
        "Identificamos los nombres de las columnas de la data"
      ]
    },
    {
      "cell_type": "code",
      "execution_count": 151,
      "metadata": {},
      "outputs": [
        {
          "name": "stdout",
          "output_type": "stream",
          "text": [
            "Index(['Unnamed: 0', 'name', 'full_name', 'age', 'height', 'nationality',\n",
            "       'place_of_birth', 'price', 'max_price', 'position', 'shirt_nr', 'foot',\n",
            "       'club', 'contract_expires', 'joined_club', 'player_agent', 'outfitter'],\n",
            "      dtype='object')\n"
          ]
        }
      ],
      "source": [
        "print(df.columns)"
      ]
    },
    {
      "cell_type": "code",
      "execution_count": 152,
      "metadata": {
        "colab": {
          "base_uri": "https://localhost:8080/",
          "height": 300
        },
        "id": "h4-j_bnp3c7z",
        "outputId": "05ea2076-b3a2-4896-b66f-967cc0aa095a"
      },
      "outputs": [
        {
          "data": {
            "text/html": [
              "<div>\n",
              "<style scoped>\n",
              "    .dataframe tbody tr th:only-of-type {\n",
              "        vertical-align: middle;\n",
              "    }\n",
              "\n",
              "    .dataframe tbody tr th {\n",
              "        vertical-align: top;\n",
              "    }\n",
              "\n",
              "    .dataframe thead th {\n",
              "        text-align: right;\n",
              "    }\n",
              "</style>\n",
              "<table border=\"1\" class=\"dataframe\">\n",
              "  <thead>\n",
              "    <tr style=\"text-align: right;\">\n",
              "      <th></th>\n",
              "      <th>Unnamed: 0</th>\n",
              "      <th>age</th>\n",
              "      <th>height</th>\n",
              "      <th>price</th>\n",
              "      <th>max_price</th>\n",
              "      <th>shirt_nr</th>\n",
              "    </tr>\n",
              "  </thead>\n",
              "  <tbody>\n",
              "    <tr>\n",
              "      <th>count</th>\n",
              "      <td>515.000000</td>\n",
              "      <td>515.000000</td>\n",
              "      <td>515.000000</td>\n",
              "      <td>510.000000</td>\n",
              "      <td>510.000000</td>\n",
              "      <td>515.000000</td>\n",
              "    </tr>\n",
              "    <tr>\n",
              "      <th>mean</th>\n",
              "      <td>257.000000</td>\n",
              "      <td>25.683495</td>\n",
              "      <td>1.847612</td>\n",
              "      <td>8.482794</td>\n",
              "      <td>13.513627</td>\n",
              "      <td>19.798058</td>\n",
              "    </tr>\n",
              "    <tr>\n",
              "      <th>std</th>\n",
              "      <td>148.811962</td>\n",
              "      <td>4.700238</td>\n",
              "      <td>0.060996</td>\n",
              "      <td>14.653440</td>\n",
              "      <td>18.659222</td>\n",
              "      <td>12.414768</td>\n",
              "    </tr>\n",
              "    <tr>\n",
              "      <th>min</th>\n",
              "      <td>0.000000</td>\n",
              "      <td>17.000000</td>\n",
              "      <td>1.680000</td>\n",
              "      <td>0.025000</td>\n",
              "      <td>0.100000</td>\n",
              "      <td>1.000000</td>\n",
              "    </tr>\n",
              "    <tr>\n",
              "      <th>25%</th>\n",
              "      <td>128.500000</td>\n",
              "      <td>22.000000</td>\n",
              "      <td>1.800000</td>\n",
              "      <td>1.200000</td>\n",
              "      <td>2.500000</td>\n",
              "      <td>9.000000</td>\n",
              "    </tr>\n",
              "    <tr>\n",
              "      <th>50%</th>\n",
              "      <td>257.000000</td>\n",
              "      <td>25.000000</td>\n",
              "      <td>1.850000</td>\n",
              "      <td>3.500000</td>\n",
              "      <td>7.000000</td>\n",
              "      <td>20.000000</td>\n",
              "    </tr>\n",
              "    <tr>\n",
              "      <th>75%</th>\n",
              "      <td>385.500000</td>\n",
              "      <td>29.000000</td>\n",
              "      <td>1.890000</td>\n",
              "      <td>9.000000</td>\n",
              "      <td>16.750000</td>\n",
              "      <td>29.000000</td>\n",
              "    </tr>\n",
              "    <tr>\n",
              "      <th>max</th>\n",
              "      <td>514.000000</td>\n",
              "      <td>39.000000</td>\n",
              "      <td>2.000000</td>\n",
              "      <td>120.000000</td>\n",
              "      <td>150.000000</td>\n",
              "      <td>49.000000</td>\n",
              "    </tr>\n",
              "  </tbody>\n",
              "</table>\n",
              "</div>"
            ],
            "text/plain": [
              "       Unnamed: 0         age      height       price   max_price    shirt_nr\n",
              "count  515.000000  515.000000  515.000000  510.000000  510.000000  515.000000\n",
              "mean   257.000000   25.683495    1.847612    8.482794   13.513627   19.798058\n",
              "std    148.811962    4.700238    0.060996   14.653440   18.659222   12.414768\n",
              "min      0.000000   17.000000    1.680000    0.025000    0.100000    1.000000\n",
              "25%    128.500000   22.000000    1.800000    1.200000    2.500000    9.000000\n",
              "50%    257.000000   25.000000    1.850000    3.500000    7.000000   20.000000\n",
              "75%    385.500000   29.000000    1.890000    9.000000   16.750000   29.000000\n",
              "max    514.000000   39.000000    2.000000  120.000000  150.000000   49.000000"
            ]
          },
          "execution_count": 152,
          "metadata": {},
          "output_type": "execute_result"
        }
      ],
      "source": [
        "df.describe()"
      ]
    },
    {
      "cell_type": "code",
      "execution_count": 153,
      "metadata": {
        "colab": {
          "base_uri": "https://localhost:8080/"
        },
        "id": "DPHzDR5134U4",
        "outputId": "cd8a9932-307d-4b46-b500-4a2f12a84eb0"
      },
      "outputs": [
        {
          "name": "stdout",
          "output_type": "stream",
          "text": [
            "<class 'pandas.core.frame.DataFrame'>\n",
            "RangeIndex: 515 entries, 0 to 514\n",
            "Data columns (total 17 columns):\n",
            " #   Column            Non-Null Count  Dtype  \n",
            "---  ------            --------------  -----  \n",
            " 0   Unnamed: 0        515 non-null    int64  \n",
            " 1   name              515 non-null    object \n",
            " 2   full_name         229 non-null    object \n",
            " 3   age               515 non-null    int64  \n",
            " 4   height            515 non-null    float64\n",
            " 5   nationality       515 non-null    object \n",
            " 6   place_of_birth    510 non-null    object \n",
            " 7   price             510 non-null    float64\n",
            " 8   max_price         510 non-null    float64\n",
            " 9   position          515 non-null    object \n",
            " 10  shirt_nr          515 non-null    int64  \n",
            " 11  foot              506 non-null    object \n",
            " 12  club              515 non-null    object \n",
            " 13  contract_expires  481 non-null    object \n",
            " 14  joined_club       515 non-null    object \n",
            " 15  player_agent      488 non-null    object \n",
            " 16  outfitter         193 non-null    object \n",
            "dtypes: float64(3), int64(3), object(11)\n",
            "memory usage: 68.5+ KB\n"
          ]
        }
      ],
      "source": [
        "df.info()"
      ]
    },
    {
      "cell_type": "markdown",
      "metadata": {},
      "source": [
        "identificamos los tipo de dato de cada columna,\n",
        "donde identificamos  float64(3), int64(3), object(11)"
      ]
    },
    {
      "cell_type": "markdown",
      "metadata": {},
      "source": [
        "Ahora sumaremos la cantidad de nulos que existen en las columnas"
      ]
    },
    {
      "cell_type": "code",
      "execution_count": 154,
      "metadata": {},
      "outputs": [
        {
          "data": {
            "text/plain": [
              "Unnamed: 0            0\n",
              "name                  0\n",
              "full_name           286\n",
              "age                   0\n",
              "height                0\n",
              "nationality           0\n",
              "place_of_birth        5\n",
              "price                 5\n",
              "max_price             5\n",
              "position              0\n",
              "shirt_nr              0\n",
              "foot                  9\n",
              "club                  0\n",
              "contract_expires     34\n",
              "joined_club           0\n",
              "player_agent         27\n",
              "outfitter           322\n",
              "dtype: int64"
            ]
          },
          "execution_count": 154,
          "metadata": {},
          "output_type": "execute_result"
        }
      ],
      "source": [
        "df.isna().sum()"
      ]
    },
    {
      "cell_type": "markdown",
      "metadata": {},
      "source": [
        "Ahora validaremos que porcentaje representan estos nulos respecto al total de datos. "
      ]
    },
    {
      "cell_type": "code",
      "execution_count": 155,
      "metadata": {},
      "outputs": [
        {
          "data": {
            "text/html": [
              "<div>\n",
              "<style scoped>\n",
              "    .dataframe tbody tr th:only-of-type {\n",
              "        vertical-align: middle;\n",
              "    }\n",
              "\n",
              "    .dataframe tbody tr th {\n",
              "        vertical-align: top;\n",
              "    }\n",
              "\n",
              "    .dataframe thead th {\n",
              "        text-align: right;\n",
              "    }\n",
              "</style>\n",
              "<table border=\"1\" class=\"dataframe\">\n",
              "  <thead>\n",
              "    <tr style=\"text-align: right;\">\n",
              "      <th></th>\n",
              "      <th>Columna</th>\n",
              "      <th>N° de Nulos</th>\n",
              "      <th>Porcentaje del total de registros</th>\n",
              "    </tr>\n",
              "  </thead>\n",
              "  <tbody>\n",
              "    <tr>\n",
              "      <th>16</th>\n",
              "      <td>outfitter</td>\n",
              "      <td>322</td>\n",
              "      <td>62.52%</td>\n",
              "    </tr>\n",
              "    <tr>\n",
              "      <th>2</th>\n",
              "      <td>full_name</td>\n",
              "      <td>286</td>\n",
              "      <td>55.53%</td>\n",
              "    </tr>\n",
              "    <tr>\n",
              "      <th>13</th>\n",
              "      <td>contract_expires</td>\n",
              "      <td>34</td>\n",
              "      <td>6.60%</td>\n",
              "    </tr>\n",
              "    <tr>\n",
              "      <th>15</th>\n",
              "      <td>player_agent</td>\n",
              "      <td>27</td>\n",
              "      <td>5.24%</td>\n",
              "    </tr>\n",
              "    <tr>\n",
              "      <th>11</th>\n",
              "      <td>foot</td>\n",
              "      <td>9</td>\n",
              "      <td>1.75%</td>\n",
              "    </tr>\n",
              "    <tr>\n",
              "      <th>6</th>\n",
              "      <td>place_of_birth</td>\n",
              "      <td>5</td>\n",
              "      <td>0.97%</td>\n",
              "    </tr>\n",
              "    <tr>\n",
              "      <th>7</th>\n",
              "      <td>price</td>\n",
              "      <td>5</td>\n",
              "      <td>0.97%</td>\n",
              "    </tr>\n",
              "    <tr>\n",
              "      <th>8</th>\n",
              "      <td>max_price</td>\n",
              "      <td>5</td>\n",
              "      <td>0.97%</td>\n",
              "    </tr>\n",
              "  </tbody>\n",
              "</table>\n",
              "</div>"
            ],
            "text/plain": [
              "             Columna  N° de Nulos Porcentaje del total de registros\n",
              "16         outfitter          322                            62.52%\n",
              "2          full_name          286                            55.53%\n",
              "13  contract_expires           34                             6.60%\n",
              "15      player_agent           27                             5.24%\n",
              "11              foot            9                             1.75%\n",
              "6     place_of_birth            5                             0.97%\n",
              "7              price            5                             0.97%\n",
              "8          max_price            5                             0.97%"
            ]
          },
          "execution_count": 155,
          "metadata": {},
          "output_type": "execute_result"
        }
      ],
      "source": [
        "nulos_por_columna = df.isnull().sum()\n",
        "porcentaje_nulos = ((df.isnull().sum() / df.shape[0]) * 100).apply(lambda x: f\"{x:.2f}%\")\n",
        "\n",
        "df_info = pd.DataFrame({\n",
        "    'Columna': nulos_por_columna.index,\n",
        "    'N° de Nulos': nulos_por_columna.values,\n",
        "    'Porcentaje del total de registros': porcentaje_nulos.values\n",
        "})\n",
        "\n",
        "df_info_filtered = df_info[df_info['N° de Nulos'] > 0].sort_values(by='N° de Nulos', ascending=False)\n",
        "\n",
        "df_info_filtered"
      ]
    },
    {
      "attachments": {},
      "cell_type": "markdown",
      "metadata": {
        "id": "yVJlT-6G5zqw"
      },
      "source": [
        "Debido al porcentaje que representan respecto al total de datos de su columna  y por enfoque analitico que buscamos se descarta las siguientes columnas. \n",
        "Datos que se desacartan:\n",
        "\n",
        " - full_name\n",
        " - outfitter\n",
        " - Unnamed : 0\n",
        "\n",
        "\n",
        "\n"
      ]
    },
    {
      "cell_type": "code",
      "execution_count": 156,
      "metadata": {},
      "outputs": [],
      "source": [
        "df1 = df.drop(['full_name', 'outfitter','Unnamed: 0','player_agent','contract_expires','name'], axis=1)"
      ]
    },
    {
      "cell_type": "markdown",
      "metadata": {},
      "source": [
        "Se elimina tambien otras columnas que no seran necesarias para el analisis"
      ]
    },
    {
      "cell_type": "code",
      "execution_count": 157,
      "metadata": {},
      "outputs": [
        {
          "data": {
            "text/plain": [
              "age               0\n",
              "height            0\n",
              "nationality       0\n",
              "place_of_birth    5\n",
              "price             5\n",
              "max_price         5\n",
              "position          0\n",
              "shirt_nr          0\n",
              "foot              9\n",
              "club              0\n",
              "joined_club       0\n",
              "dtype: int64"
            ]
          },
          "execution_count": 157,
          "metadata": {},
          "output_type": "execute_result"
        }
      ],
      "source": [
        "df1.isna().sum()"
      ]
    },
    {
      "cell_type": "markdown",
      "metadata": {},
      "source": [
        "Para la columna place_of_birth que corresponde a la ciudad de origen del jugadores, los que posean datos nullos se imputara por el string ´desconocido´"
      ]
    },
    {
      "cell_type": "code",
      "execution_count": 158,
      "metadata": {},
      "outputs": [],
      "source": [
        "df1['place_of_birth'].fillna('Desconocido', inplace=True)"
      ]
    },
    {
      "cell_type": "markdown",
      "metadata": {},
      "source": [
        "Al ser solo 9 nulos en en 'foot', utilizaremos la moda para imputar estos datos, en caso de desbalanceo realizaremos el control mas adelante"
      ]
    },
    {
      "cell_type": "code",
      "execution_count": 159,
      "metadata": {},
      "outputs": [],
      "source": [
        "# Calcula la moda de la columna\n",
        "moda_foot = df1['foot'].mode()[0]\n",
        "\n",
        "# Imputa los valores faltantes con la moda\n",
        "df1['foot'].fillna(moda_foot, inplace=True)"
      ]
    },
    {
      "cell_type": "markdown",
      "metadata": {},
      "source": [
        "Para el caso de las columas que cuentan con valores numericos continuos, realizaremos:"
      ]
    },
    {
      "cell_type": "markdown",
      "metadata": {},
      "source": [
        "Primero importamos la libreria de LinearRegression que nos probee sklearn "
      ]
    },
    {
      "cell_type": "code",
      "execution_count": 160,
      "metadata": {},
      "outputs": [],
      "source": [
        "from sklearn.linear_model import LinearRegression"
      ]
    },
    {
      "cell_type": "markdown",
      "metadata": {},
      "source": [
        "Despues dividimos los datos entre valores conocidos (no nulos) y valores desconocidos (nulos)"
      ]
    },
    {
      "cell_type": "code",
      "execution_count": 161,
      "metadata": {},
      "outputs": [],
      "source": [
        "data_known = df1.dropna(subset=['price'])\n",
        "data_unknown = df1[df1['price'].isnull()]"
      ]
    },
    {
      "cell_type": "markdown",
      "metadata": {},
      "source": [
        "Ahora definimos las variables predictorias y la variable objetivo, comprobando la correlaciopn entre las variables"
      ]
    },
    {
      "cell_type": "code",
      "execution_count": 162,
      "metadata": {},
      "outputs": [
        {
          "name": "stdout",
          "output_type": "stream",
          "text": [
            "age      -0.103473\n",
            "height   -0.075277\n",
            "price     1.000000\n",
            "Name: price, dtype: float64\n"
          ]
        }
      ],
      "source": [
        "selected_columns = ['age', 'height']\n",
        "correlation_with_target = df[selected_columns + ['price']].corr()['price']\n",
        "print(correlation_with_target)"
      ]
    },
    {
      "cell_type": "markdown",
      "metadata": {},
      "source": [
        "Encontramos una correlacion negativa con las dos variable "
      ]
    },
    {
      "cell_type": "code",
      "execution_count": 163,
      "metadata": {},
      "outputs": [],
      "source": [
        "X_known = data_known[['age', 'height']]\n",
        "y_known = data_known['price']\n",
        "X_unknown = data_unknown[['age', 'height']]"
      ]
    },
    {
      "cell_type": "markdown",
      "metadata": {},
      "source": [
        "Ahora realizamos el proceso de regresion "
      ]
    },
    {
      "cell_type": "code",
      "execution_count": 164,
      "metadata": {},
      "outputs": [],
      "source": [
        "# Crear un modelo de regresión lineal\n",
        "regression_model = LinearRegression()\n",
        "\n",
        "# Ajustar el modelo a los datos conocidos\n",
        "regression_model.fit(X_known, y_known)\n",
        "\n",
        "# Predecir los valores faltantes\n",
        "predicted_values = regression_model.predict(X_unknown)\n",
        "\n",
        "# Reemplazar los valores faltantes en el DataFrame original\n",
        "df1.loc[df1['price'].isnull(), 'price'] = predicted_values"
      ]
    },
    {
      "cell_type": "markdown",
      "metadata": {},
      "source": [
        "Realizamos una copia para salverguardar el proceso"
      ]
    },
    {
      "cell_type": "code",
      "execution_count": 165,
      "metadata": {},
      "outputs": [],
      "source": [
        "df2 = df1.copy()"
      ]
    },
    {
      "cell_type": "code",
      "execution_count": 166,
      "metadata": {},
      "outputs": [],
      "source": [
        "data_known = df2.dropna(subset=['max_price'])\n",
        "data_unknown = df2[df2['max_price'].isnull()]"
      ]
    },
    {
      "cell_type": "markdown",
      "metadata": {},
      "source": [
        "Ahora imputaremos 'Max price'"
      ]
    },
    {
      "cell_type": "code",
      "execution_count": 167,
      "metadata": {},
      "outputs": [
        {
          "name": "stdout",
          "output_type": "stream",
          "text": [
            "age          0.093238\n",
            "height      -0.089408\n",
            "price        0.871134\n",
            "max_price    1.000000\n",
            "Name: max_price, dtype: float64\n"
          ]
        }
      ],
      "source": [
        "selected_columns = ['age', 'height', 'price']\n",
        "correlation_with_target = df1[selected_columns + ['max_price']].corr()['max_price']\n",
        "print(correlation_with_target)"
      ]
    },
    {
      "cell_type": "code",
      "execution_count": 168,
      "metadata": {},
      "outputs": [],
      "source": [
        "X_known = data_known[['age', 'height','price']]\n",
        "y_known = data_known['max_price']\n",
        "X_unknown = data_unknown[['age', 'height','price']]"
      ]
    },
    {
      "cell_type": "code",
      "execution_count": 169,
      "metadata": {},
      "outputs": [],
      "source": [
        "# Crear un modelo de regresión lineal\n",
        "regression_model = LinearRegression()\n",
        "\n",
        "# Ajustar el modelo a los datos conocidos\n",
        "regression_model.fit(X_known, y_known)\n",
        "\n",
        "# Predecir los valores faltantes\n",
        "predicted_values = regression_model.predict(X_unknown)\n",
        "\n",
        "# Reemplazar los valores faltantes en el DataFrame original\n",
        "df2.loc[df2['max_price'].isnull(), 'max_price'] = predicted_values"
      ]
    },
    {
      "cell_type": "markdown",
      "metadata": {},
      "source": [
        "Validamos si aun existen nulos"
      ]
    },
    {
      "cell_type": "code",
      "execution_count": 170,
      "metadata": {},
      "outputs": [
        {
          "data": {
            "text/plain": [
              "age               0\n",
              "height            0\n",
              "nationality       0\n",
              "place_of_birth    0\n",
              "price             0\n",
              "max_price         0\n",
              "position          0\n",
              "shirt_nr          0\n",
              "foot              0\n",
              "club              0\n",
              "joined_club       0\n",
              "dtype: int64"
            ]
          },
          "execution_count": 170,
          "metadata": {},
          "output_type": "execute_result"
        }
      ],
      "source": [
        "df2.isna().sum()"
      ]
    },
    {
      "cell_type": "code",
      "execution_count": 171,
      "metadata": {
        "colab": {
          "base_uri": "https://localhost:8080/"
        },
        "id": "_3clLjKP6Tfe",
        "outputId": "8cceb5ca-85c2-42e0-a8e8-fa008a8d495e"
      },
      "outputs": [
        {
          "name": "stdout",
          "output_type": "stream",
          "text": [
            "<class 'pandas.core.frame.DataFrame'>\n",
            "RangeIndex: 515 entries, 0 to 514\n",
            "Data columns (total 17 columns):\n",
            " #   Column            Non-Null Count  Dtype  \n",
            "---  ------            --------------  -----  \n",
            " 0   Unnamed: 0        515 non-null    int64  \n",
            " 1   name              515 non-null    object \n",
            " 2   full_name         229 non-null    object \n",
            " 3   age               515 non-null    int64  \n",
            " 4   height            515 non-null    float64\n",
            " 5   nationality       515 non-null    object \n",
            " 6   place_of_birth    510 non-null    object \n",
            " 7   price             510 non-null    float64\n",
            " 8   max_price         510 non-null    float64\n",
            " 9   position          515 non-null    object \n",
            " 10  shirt_nr          515 non-null    int64  \n",
            " 11  foot              506 non-null    object \n",
            " 12  club              515 non-null    object \n",
            " 13  contract_expires  481 non-null    object \n",
            " 14  joined_club       515 non-null    object \n",
            " 15  player_agent      488 non-null    object \n",
            " 16  outfitter         193 non-null    object \n",
            "dtypes: float64(3), int64(3), object(11)\n",
            "memory usage: 68.5+ KB\n"
          ]
        }
      ],
      "source": [
        "df.info()"
      ]
    },
    {
      "cell_type": "markdown",
      "metadata": {},
      "source": [
        "Ahora cambiaremos el tipo de datos de las columnas de que poseen tipo object. "
      ]
    },
    {
      "cell_type": "code",
      "execution_count": 172,
      "metadata": {
        "colab": {
          "base_uri": "https://localhost:8080/"
        },
        "id": "3lZS6N356lgo",
        "outputId": "c55a44f5-bb16-4771-df0e-22e6d2de6088"
      },
      "outputs": [
        {
          "name": "stdout",
          "output_type": "stream",
          "text": [
            "     age  height  nationality   place_of_birth  price  max_price  \\\n",
            "0     37    1.93      Germany    Gelsenkirchen   7.00       45.0   \n",
            "1     34    1.83  Switzerland           Morges   5.00       13.0   \n",
            "2     34    1.92      Germany       Schorndorf   0.90        6.0   \n",
            "3     20    1.91      Germany      Schweinfurt   0.30        0.3   \n",
            "4     23    1.89  Netherlands       Leiderdorp  75.00       75.0   \n",
            "..   ...     ...          ...              ...    ...        ...   \n",
            "510   28    1.73        Japan      Komono, Mie   4.00        4.0   \n",
            "511   30    1.95      Germany         Arnsberg   2.50        2.5   \n",
            "512   31    1.79      Germany  Friedrichshafen   1.10        3.0   \n",
            "513   26    1.91        Congo      Brazzaville   0.75        2.5   \n",
            "514   22    1.90      Germany     Finsterwalde   0.50        0.5   \n",
            "\n",
            "                    position  shirt_nr   foot           club  ... Turkey  \\\n",
            "0                 Goalkeeper         1  right  Bayern Munich  ...  False   \n",
            "1                 Goalkeeper        27  right  Bayern Munich  ...  False   \n",
            "2                 Goalkeeper        26  right  Bayern Munich  ...  False   \n",
            "3                 Goalkeeper        35  right  Bayern Munich  ...  False   \n",
            "4     Defender - Centre-Back         4  right  Bayern Munich  ...  False   \n",
            "..                       ...       ...    ...            ...  ...    ...   \n",
            "510    Attack - Right Winger        11  right     VfL Bochum  ...  False   \n",
            "511  Attack - Centre-Forward        33   left     VfL Bochum  ...  False   \n",
            "512  Attack - Centre-Forward         9  right     VfL Bochum  ...  False   \n",
            "513  Attack - Centre-Forward        35  right     VfL Bochum  ...  False   \n",
            "514  Attack - Centre-Forward        29  right     VfL Bochum  ...  False   \n",
            "\n",
            "     Turkey  Germany  Ukraine  United States  \\\n",
            "0              False    False          False   \n",
            "1              False    False          False   \n",
            "2              False    False          False   \n",
            "3              False    False          False   \n",
            "4              False    False          False   \n",
            "..               ...      ...            ...   \n",
            "510            False    False          False   \n",
            "511            False    False          False   \n",
            "512            False    False          False   \n",
            "513            False    False          False   \n",
            "514            False    False          False   \n",
            "\n",
            "     United States  Dominican Republic  United States  France  \\\n",
            "0                                False                  False   \n",
            "1                                False                  False   \n",
            "2                                False                  False   \n",
            "3                                False                  False   \n",
            "4                                False                  False   \n",
            "..                                 ...                    ...   \n",
            "510                              False                  False   \n",
            "511                              False                  False   \n",
            "512                              False                  False   \n",
            "513                              False                  False   \n",
            "514                              False                  False   \n",
            "\n",
            "     United States  Germany  United States  Portugal  Uruguay  Italy  \\\n",
            "0                     False                    False           False   \n",
            "1                     False                    False           False   \n",
            "2                     False                    False           False   \n",
            "3                     False                    False           False   \n",
            "4                     False                    False           False   \n",
            "..                      ...                      ...             ...   \n",
            "510                   False                    False           False   \n",
            "511                   False                    False           False   \n",
            "512                   False                    False           False   \n",
            "513                   False                    False           False   \n",
            "514                   False                    False           False   \n",
            "\n",
            "     Uruguay  Spain  \n",
            "0             False  \n",
            "1             False  \n",
            "2             False  \n",
            "3             False  \n",
            "4             False  \n",
            "..              ...  \n",
            "510           False  \n",
            "511           False  \n",
            "512           False  \n",
            "513           False  \n",
            "514           False  \n",
            "\n",
            "[515 rows x 158 columns]\n"
          ]
        }
      ],
      "source": [
        "#Nacionalidad\n",
        "one_hot = pd.get_dummies(df2['nationality'])\n",
        "df2 = pd.concat([df2, one_hot], axis=1)\n",
        "print(df2)"
      ]
    },
    {
      "cell_type": "code",
      "execution_count": 173,
      "metadata": {
        "colab": {
          "base_uri": "https://localhost:8080/"
        },
        "id": "lAIrMXXbvKeF",
        "outputId": "a3471414-607f-4df3-856e-1bbe0fd32586"
      },
      "outputs": [
        {
          "name": "stdout",
          "output_type": "stream",
          "text": [
            "     age  height  nationality   place_of_birth  price  max_price  \\\n",
            "0     37    1.93      Germany    Gelsenkirchen   7.00       45.0   \n",
            "1     34    1.83  Switzerland           Morges   5.00       13.0   \n",
            "2     34    1.92      Germany       Schorndorf   0.90        6.0   \n",
            "3     20    1.91      Germany      Schweinfurt   0.30        0.3   \n",
            "4     23    1.89  Netherlands       Leiderdorp  75.00       75.0   \n",
            "..   ...     ...          ...              ...    ...        ...   \n",
            "510   28    1.73        Japan      Komono, Mie   4.00        4.0   \n",
            "511   30    1.95      Germany         Arnsberg   2.50        2.5   \n",
            "512   31    1.79      Germany  Friedrichshafen   1.10        3.0   \n",
            "513   26    1.91        Congo      Brazzaville   0.75        2.5   \n",
            "514   22    1.90      Germany     Finsterwalde   0.50        0.5   \n",
            "\n",
            "                    position  shirt_nr   foot           club  ...  \\\n",
            "0                 Goalkeeper         1  right  Bayern Munich  ...   \n",
            "1                 Goalkeeper        27  right  Bayern Munich  ...   \n",
            "2                 Goalkeeper        26  right  Bayern Munich  ...   \n",
            "3                 Goalkeeper        35  right  Bayern Munich  ...   \n",
            "4     Defender - Centre-Back         4  right  Bayern Munich  ...   \n",
            "..                       ...       ...    ...            ...  ...   \n",
            "510    Attack - Right Winger        11  right     VfL Bochum  ...   \n",
            "511  Attack - Centre-Forward        33   left     VfL Bochum  ...   \n",
            "512  Attack - Centre-Forward         9  right     VfL Bochum  ...   \n",
            "513  Attack - Centre-Forward        35  right     VfL Bochum  ...   \n",
            "514  Attack - Centre-Forward        29  right     VfL Bochum  ...   \n",
            "\n",
            "    Attack - Second Striker  Defender - Centre-Back  Defender - Left-Back  \\\n",
            "0                     False                   False                 False   \n",
            "1                     False                   False                 False   \n",
            "2                     False                   False                 False   \n",
            "3                     False                   False                 False   \n",
            "4                     False                    True                 False   \n",
            "..                      ...                     ...                   ...   \n",
            "510                   False                   False                 False   \n",
            "511                   False                   False                 False   \n",
            "512                   False                   False                 False   \n",
            "513                   False                   False                 False   \n",
            "514                   False                   False                 False   \n",
            "\n",
            "     Defender - Right-Back  Goalkeeper  midfield - Attacking Midfield  \\\n",
            "0                    False        True                          False   \n",
            "1                    False        True                          False   \n",
            "2                    False        True                          False   \n",
            "3                    False        True                          False   \n",
            "4                    False       False                          False   \n",
            "..                     ...         ...                            ...   \n",
            "510                  False       False                          False   \n",
            "511                  False       False                          False   \n",
            "512                  False       False                          False   \n",
            "513                  False       False                          False   \n",
            "514                  False       False                          False   \n",
            "\n",
            "     midfield - Central Midfield  midfield - Defensive Midfield  \\\n",
            "0                          False                          False   \n",
            "1                          False                          False   \n",
            "2                          False                          False   \n",
            "3                          False                          False   \n",
            "4                          False                          False   \n",
            "..                           ...                            ...   \n",
            "510                        False                          False   \n",
            "511                        False                          False   \n",
            "512                        False                          False   \n",
            "513                        False                          False   \n",
            "514                        False                          False   \n",
            "\n",
            "     midfield - Left Midfield  midfield - Right Midfield  \n",
            "0                       False                      False  \n",
            "1                       False                      False  \n",
            "2                       False                      False  \n",
            "3                       False                      False  \n",
            "4                       False                      False  \n",
            "..                        ...                        ...  \n",
            "510                     False                      False  \n",
            "511                     False                      False  \n",
            "512                     False                      False  \n",
            "513                     False                      False  \n",
            "514                     False                      False  \n",
            "\n",
            "[515 rows x 171 columns]\n"
          ]
        }
      ],
      "source": [
        "#Position \n",
        "one_hot = pd.get_dummies(df2['position'])\n",
        "df2 = pd.concat([df2, one_hot], axis=1)\n",
        "print(df2)"
      ]
    },
    {
      "cell_type": "code",
      "execution_count": 174,
      "metadata": {},
      "outputs": [
        {
          "name": "stdout",
          "output_type": "stream",
          "text": [
            "     age  height  nationality   place_of_birth  price  max_price  \\\n",
            "0     37    1.93      Germany    Gelsenkirchen   7.00       45.0   \n",
            "1     34    1.83  Switzerland           Morges   5.00       13.0   \n",
            "2     34    1.92      Germany       Schorndorf   0.90        6.0   \n",
            "3     20    1.91      Germany      Schweinfurt   0.30        0.3   \n",
            "4     23    1.89  Netherlands       Leiderdorp  75.00       75.0   \n",
            "..   ...     ...          ...              ...    ...        ...   \n",
            "510   28    1.73        Japan      Komono, Mie   4.00        4.0   \n",
            "511   30    1.95      Germany         Arnsberg   2.50        2.5   \n",
            "512   31    1.79      Germany  Friedrichshafen   1.10        3.0   \n",
            "513   26    1.91        Congo      Brazzaville   0.75        2.5   \n",
            "514   22    1.90      Germany     Finsterwalde   0.50        0.5   \n",
            "\n",
            "                    position  shirt_nr   foot           club  ...  \\\n",
            "0                 Goalkeeper         1  right  Bayern Munich  ...   \n",
            "1                 Goalkeeper        27  right  Bayern Munich  ...   \n",
            "2                 Goalkeeper        26  right  Bayern Munich  ...   \n",
            "3                 Goalkeeper        35  right  Bayern Munich  ...   \n",
            "4     Defender - Centre-Back         4  right  Bayern Munich  ...   \n",
            "..                       ...       ...    ...            ...  ...   \n",
            "510    Attack - Right Winger        11  right     VfL Bochum  ...   \n",
            "511  Attack - Centre-Forward        33   left     VfL Bochum  ...   \n",
            "512  Attack - Centre-Forward         9  right     VfL Bochum  ...   \n",
            "513  Attack - Centre-Forward        35  right     VfL Bochum  ...   \n",
            "514  Attack - Centre-Forward        29  right     VfL Bochum  ...   \n",
            "\n",
            "    Defender - Right-Back  Goalkeeper  midfield - Attacking Midfield  \\\n",
            "0                   False        True                          False   \n",
            "1                   False        True                          False   \n",
            "2                   False        True                          False   \n",
            "3                   False        True                          False   \n",
            "4                   False       False                          False   \n",
            "..                    ...         ...                            ...   \n",
            "510                 False       False                          False   \n",
            "511                 False       False                          False   \n",
            "512                 False       False                          False   \n",
            "513                 False       False                          False   \n",
            "514                 False       False                          False   \n",
            "\n",
            "     midfield - Central Midfield  midfield - Defensive Midfield  \\\n",
            "0                          False                          False   \n",
            "1                          False                          False   \n",
            "2                          False                          False   \n",
            "3                          False                          False   \n",
            "4                          False                          False   \n",
            "..                           ...                            ...   \n",
            "510                        False                          False   \n",
            "511                        False                          False   \n",
            "512                        False                          False   \n",
            "513                        False                          False   \n",
            "514                        False                          False   \n",
            "\n",
            "     midfield - Left Midfield  midfield - Right Midfield   both   left  right  \n",
            "0                       False                      False  False  False   True  \n",
            "1                       False                      False  False  False   True  \n",
            "2                       False                      False  False  False   True  \n",
            "3                       False                      False  False  False   True  \n",
            "4                       False                      False  False  False   True  \n",
            "..                        ...                        ...    ...    ...    ...  \n",
            "510                     False                      False  False  False   True  \n",
            "511                     False                      False  False   True  False  \n",
            "512                     False                      False  False  False   True  \n",
            "513                     False                      False  False  False   True  \n",
            "514                     False                      False  False  False   True  \n",
            "\n",
            "[515 rows x 174 columns]\n"
          ]
        }
      ],
      "source": [
        "#foot \n",
        "one_hot = pd.get_dummies(df2['foot'])\n",
        "df2 = pd.concat([df2, one_hot], axis=1)\n",
        "print(df2)"
      ]
    },
    {
      "cell_type": "markdown",
      "metadata": {},
      "source": [
        "Evaluaremos la cantidad de filas y columnas que hemos generado. "
      ]
    },
    {
      "cell_type": "code",
      "execution_count": 175,
      "metadata": {},
      "outputs": [
        {
          "data": {
            "text/plain": [
              "(515, 174)"
            ]
          },
          "execution_count": 175,
          "metadata": {},
          "output_type": "execute_result"
        }
      ],
      "source": [
        "df2.shape"
      ]
    },
    {
      "cell_type": "markdown",
      "metadata": {},
      "source": [
        "Tras la imputacion de datos, terminados con un total de 175 columnas"
      ]
    },
    {
      "cell_type": "markdown",
      "metadata": {},
      "source": [
        "### Outliers"
      ]
    },
    {
      "cell_type": "markdown",
      "metadata": {},
      "source": [
        "Dentro de cualquier analicis es necesario analizar los outliers ya que estos pueden afectar los modelos que aplicaremos más adelante"
      ]
    },
    {
      "cell_type": "markdown",
      "metadata": {},
      "source": [
        "Para realizar este analicimos utilizaremos graficos de caja por lo cual utilizaremos la libreria seaborn"
      ]
    },
    {
      "cell_type": "code",
      "execution_count": 176,
      "metadata": {},
      "outputs": [],
      "source": [
        "import seaborn as sns"
      ]
    },
    {
      "cell_type": "code",
      "execution_count": 177,
      "metadata": {},
      "outputs": [
        {
          "data": {
            "image/png": "[encoded data removed]",
            "text/plain": [
              "<Figure size 800x600 with 1 Axes>"
            ]
          },
          "metadata": {},
          "output_type": "display_data"
        },
        {
          "data": {
            "image/png": "[encoded data removed]",
            "text/plain": [
              "<Figure size 800x600 with 1 Axes>"
            ]
          },
          "metadata": {},
          "output_type": "display_data"
        },
        {
          "data": {
            "image/png": "[encoded data removed]",
            "text/plain": [
              "<Figure size 800x600 with 1 Axes>"
            ]
          },
          "metadata": {},
          "output_type": "display_data"
        },
        {
          "data": {
            "image/png": "[encoded data removed]",
            "text/plain": [
              "<Figure size 800x600 with 1 Axes>"
            ]
          },
          "metadata": {},
          "output_type": "display_data"
        }
      ],
      "source": [
        "# Lista de columnas\n",
        "columns = ['age', 'height', 'price', 'max_price']\n",
        "\n",
        "# Crear un gráfico de caja para cada columna\n",
        "for column in columns:\n",
        "    plt.figure(figsize=(8, 6))\n",
        "    sns.boxplot(x=df[column])\n",
        "    plt.title(f'Boxplot of {column}')\n",
        "    plt.show()"
      ]
    },
    {
      "cell_type": "markdown",
      "metadata": {},
      "source": [
        "Ahora realizaremos control de los outliers encontrados en price y max_price"
      ]
    },
    {
      "cell_type": "code",
      "execution_count": 178,
      "metadata": {},
      "outputs": [],
      "source": [
        "def quit_outliers(df, column):\n",
        "    q1 = df[column].quantile(0.25)\n",
        "    q3 = df[column].quantile(0.75)\n",
        "    ric = q3 - q1\n",
        "    limite_inferior = q1 - 0.9 * ric\n",
        "    limite_superior = q3 + 0.9 * ric\n",
        "    df_off_outliers = df[(df[column] >= limite_inferior) & (df[column] <= limite_superior)]\n",
        "    return df_off_outliers\n",
        "\n",
        "df2A = df2.copy()\n",
        "\n",
        "df2A = quit_outliers(df2A, 'price')\n",
        "df2A = quit_outliers(df2A, 'max_price')\n"
      ]
    },
    {
      "cell_type": "markdown",
      "metadata": {},
      "source": [
        "Validamos nuevamente las columnas \"price\" y \"max_price\""
      ]
    },
    {
      "cell_type": "code",
      "execution_count": 179,
      "metadata": {},
      "outputs": [
        {
          "data": {
            "image/png": "[encoded data removed]",
            "text/plain": [
              "<Figure size 800x600 with 1 Axes>"
            ]
          },
          "metadata": {},
          "output_type": "display_data"
        },
        {
          "data": {
            "image/png": "[encoded data removed]",
            "text/plain": [
              "<Figure size 800x600 with 1 Axes>"
            ]
          },
          "metadata": {},
          "output_type": "display_data"
        }
      ],
      "source": [
        "# Lista de columnas\n",
        "columns = ['price', 'max_price']\n",
        "\n",
        "# Crear un gráfico de caja para cada columna\n",
        "for column in columns:\n",
        "    plt.figure(figsize=(8, 6))\n",
        "    sns.boxplot(x=df2A[column])\n",
        "    plt.title(f'Boxplot of {column}')\n",
        "    plt.show()"
      ]
    },
    {
      "cell_type": "code",
      "execution_count": 180,
      "metadata": {},
      "outputs": [
        {
          "data": {
            "text/plain": [
              "(413, 174)"
            ]
          },
          "execution_count": 180,
          "metadata": {},
          "output_type": "execute_result"
        }
      ],
      "source": [
        "df2A.shape"
      ]
    },
    {
      "cell_type": "markdown",
      "metadata": {},
      "source": [
        "Tras la limpieza y analizar los cambios , se toma la decicion de mantener los outliers ya que tienen un gran efecto en los quartiles y la mediana de los datos sumado a la gran cantidad de datos que se pierden, aproximadamente un 20%. "
      ]
    },
    {
      "cell_type": "markdown",
      "metadata": {},
      "source": [
        "## Fase 3 : Data analitycs"
      ]
    },
    {
      "cell_type": "markdown",
      "metadata": {},
      "source": [
        "Ahora generamos un mapa de calor para iddentificar la correlacion entre las columnas"
      ]
    },
    {
      "cell_type": "code",
      "execution_count": 181,
      "metadata": {},
      "outputs": [
        {
          "data": {
            "image/png": "[encoded data removed]",
            "text/plain": [
              "<Figure size 1000x800 with 2 Axes>"
            ]
          },
          "metadata": {},
          "output_type": "display_data"
        }
      ],
      "source": [
        "import seaborn as sns\n",
        "import matplotlib.pyplot as plt\n",
        "\n",
        "# Selecciona las columnas\n",
        "selected_columns = ['age', 'height', 'price', 'max_price', 'shirt_nr', 'right', 'left']\n",
        "df_selected = df2[selected_columns]\n",
        "\n",
        "# Calcula la matriz de correlación\n",
        "correlation_matrix = df_selected.corr()\n",
        "\n",
        "# Crea el mapa de calor\n",
        "plt.figure(figsize=(10, 8))\n",
        "sns.heatmap(correlation_matrix, annot=True, cmap='coolwarm')\n",
        "plt.show()"
      ]
    },
    {
      "cell_type": "markdown",
      "metadata": {},
      "source": [
        "A partir de las correlaciones generaremos graficos para analizar los datos. "
      ]
    },
    {
      "cell_type": "code",
      "execution_count": 182,
      "metadata": {},
      "outputs": [
        {
          "data": {
            "image/png": "[encoded data removed]",
            "text/plain": [
              "<Figure size 640x480 with 1 Axes>"
            ]
          },
          "metadata": {},
          "output_type": "display_data"
        }
      ],
      "source": [
        "plt.bar(df2['age'], df['price'])\n",
        "plt.title('Gráfico de precios por edad')\n",
        "plt.xlabel('age')\n",
        "plt.ylabel('price')\n",
        "\n",
        "\n",
        "plt.show()"
      ]
    },
    {
      "cell_type": "markdown",
      "metadata": {},
      "source": [
        "Se identifica que los futbolistas con 19 y 20 años presentan un valor mayor en comparacion al resto. "
      ]
    },
    {
      "cell_type": "code",
      "execution_count": 183,
      "metadata": {},
      "outputs": [
        {
          "data": {
            "text/plain": [
              "Text(0, 0.5, 'Valor promedio de jugador')"
            ]
          },
          "execution_count": 183,
          "metadata": {},
          "output_type": "execute_result"
        },
        {
          "data": {
            "image/png": "[encoded data removed]",
            "text/plain": [
              "<Figure size 3500x1500 with 1 Axes>"
            ]
          },
          "metadata": {},
          "output_type": "display_data"
        }
      ],
      "source": [
        "Price_avg_nacionality = df2.groupby('nationality')['price'].mean().reset_index()\n",
        "\n",
        "# Ordenar en orden descendente y seleccionar las primeras 10 filas\n",
        "Price_avg_nacionality = Price_avg_nacionality.sort_values('price', ascending=False).head(10)\n",
        "\n",
        "plt.figure(figsize=(35, 15)) \n",
        "plt.bar(Price_avg_nacionality['nationality'],Price_avg_nacionality['price'] )\n",
        "plt.title('Gráfico de nacionalidad con mayor valor promedio')\n",
        "plt.xlabel('Nacionalidad')\n",
        "plt.ylabel('Valor promedio de jugador')"
      ]
    },
    {
      "cell_type": "markdown",
      "metadata": {},
      "source": [
        "Identificamos que los jugadores de mayor costo promedio son de nacionalidad Canada-liberia , frances- G.B y franco-española. "
      ]
    },
    {
      "cell_type": "markdown",
      "metadata": {},
      "source": [
        "Generamos un grafico para conocer se distribuyen los jugadores entre las diferentes posiciones"
      ]
    },
    {
      "cell_type": "code",
      "execution_count": 184,
      "metadata": {},
      "outputs": [
        {
          "data": {
            "image/png": "[encoded data removed]",
            "text/plain": [
              "<Figure size 1000x500 with 1 Axes>"
            ]
          },
          "metadata": {},
          "output_type": "display_data"
        }
      ],
      "source": [
        "# Contar la cantidad de jugadores por posición\n",
        "players_per_position = df['position'].value_counts()\n",
        "\n",
        "plt.figure(figsize=(10, 5))\n",
        "plt.bar(players_per_position.index, players_per_position.values)\n",
        "plt.title('Cantidad de jugadores por posición')\n",
        "plt.xlabel('Posición')\n",
        "plt.ylabel('Cantidad de jugadores')\n",
        "plt.xticks(rotation=90)  # Rotar las etiquetas del eje x para que sean legibles\n",
        "plt.show()"
      ]
    },
    {
      "cell_type": "markdown",
      "metadata": {},
      "source": [
        "Identificamos que los jugadores que se desempeñan de defensor central predominan en la bundesliga. "
      ]
    },
    {
      "cell_type": "code",
      "execution_count": 185,
      "metadata": {},
      "outputs": [
        {
          "data": {
            "image/png": "[encoded data removed]",
            "text/plain": [
              "<Figure size 500x500 with 1 Axes>"
            ]
          },
          "metadata": {},
          "output_type": "display_data"
        }
      ],
      "source": [
        "players_per_foot = df['foot'].value_counts()\n",
        "\n",
        "plt.figure(figsize=(5, 5))\n",
        "plt.pie(players_per_foot, labels=players_per_foot.index, autopct='%1.1f%%')\n",
        "plt.title('Pie habil')\n",
        "plt.show()"
      ]
    },
    {
      "cell_type": "markdown",
      "metadata": {},
      "source": [
        "Mas de la mitad de los jugadores de la liga es de pierna habil la derecha, mientras aproximadamente un cuerta es de zurdo y un pequeño porcentaje se identifica como ambidiestro. "
      ]
    },
    {
      "cell_type": "markdown",
      "metadata": {},
      "source": [
        "## Fase 4: Modeling"
      ]
    },
    {
      "cell_type": "markdown",
      "metadata": {},
      "source": [
        "Importamos las librerias necesarias para los modelos"
      ]
    },
    {
      "cell_type": "code",
      "execution_count": 186,
      "metadata": {},
      "outputs": [],
      "source": [
        "from sklearn.datasets import fetch_california_housing\n",
        "from sklearn.model_selection import train_test_split\n",
        "from sklearn.linear_model import LinearRegression\n",
        "from sklearn.svm import SVR\n",
        "from sklearn.tree import DecisionTreeRegressor, plot_tree\n",
        "from sklearn.ensemble import RandomForestRegressor\n",
        "from sklearn.metrics import mean_absolute_error, mean_squared_error, r2_score\n",
        "import pandas as pd\n",
        "import numpy as np"
      ]
    },
    {
      "cell_type": "markdown",
      "metadata": {},
      "source": [
        "Creamos una nueva variable de trabajo"
      ]
    },
    {
      "cell_type": "code",
      "execution_count": 187,
      "metadata": {},
      "outputs": [],
      "source": [
        "df3 = df2"
      ]
    },
    {
      "cell_type": "markdown",
      "metadata": {},
      "source": [
        "Ahora quitaremos las columnas del tipo objatct ya que en esta fase no seran necesarias"
      ]
    },
    {
      "cell_type": "code",
      "execution_count": 189,
      "metadata": {},
      "outputs": [],
      "source": [
        "df3 = df3.drop(['nationality', 'position', 'foot','club','place_of_birth','joined_club'] , axis=1 )"
      ]
    },
    {
      "cell_type": "markdown",
      "metadata": {},
      "source": [
        "Buscaremos predecir los valores de price y max_price de los jugadores de la bundesliga, para eso primero identificamos que los valores de estas columnas son del tipo \"Numerica Continua\".\n",
        "\n",
        "Dado el tipo de varible utilizaremos utilizaremos los modelos de regresion lineal , SVR y Arbol de decicion para regresion. \n",
        "\n",
        "Lo primero sera identificar las columnas que tengan mejor correlacion con la columna Price."
      ]
    },
    {
      "cell_type": "code",
      "execution_count": 191,
      "metadata": {},
      "outputs": [
        {
          "name": "stdout",
          "output_type": "stream",
          "text": [
            "price                    1.000000\n",
            "max_price                0.870613\n",
            "Canada  Liberia          0.186191\n",
            "England                  0.178636\n",
            "Goalkeeper              -0.169183\n",
            "France  DR Congo         0.157942\n",
            "France  Guinea-Bissau    0.155916\n",
            "Germany  England         0.150300\n",
            "France  Guadeloupe       0.144758\n",
            "Germany                 -0.136593\n",
            "Name: price, dtype: float64\n"
          ]
        }
      ],
      "source": [
        "# Calcular la matriz de correlación\n",
        "correlation_matrix = df3.corr()\n",
        "\n",
        "# Crear un DataFrame a partir de la matriz de correlación\n",
        "correlation_df = pd.DataFrame(correlation_matrix)\n",
        "\n",
        "# Encontrar las correlaciones de la columna 'price' con todas las demás\n",
        "column_corr = correlation_df['price']\n",
        "\n",
        "# Ordenar por valor absoluto, tanto positivas como negativas\n",
        "column_corr = column_corr.reindex(column_corr.abs().sort_values(ascending=False).index)\n",
        "\n",
        "top_10_corr = column_corr.head(10)\n",
        "\n",
        "print(top_10_corr)"
      ]
    },
    {
      "cell_type": "markdown",
      "metadata": {},
      "source": [
        "Ahora que identificamos las columnas con mejor correlacion con \"price\", procederemso a generar las matrices "
      ]
    },
    {
      "cell_type": "code",
      "execution_count": 192,
      "metadata": {},
      "outputs": [],
      "source": [
        "columna = df3['price']\n",
        "matriz_y=columna.values.reshape(-1,1)"
      ]
    },
    {
      "cell_type": "code",
      "execution_count": 207,
      "metadata": {},
      "outputs": [],
      "source": [
        "columna = ['max_price','Germany','England','Goalkeeper']\n",
        "matriz_X= df3[columna].to_numpy()"
      ]
    },
    {
      "cell_type": "markdown",
      "metadata": {},
      "source": []
    },
    {
      "cell_type": "code",
      "execution_count": 208,
      "metadata": {},
      "outputs": [],
      "source": [
        "X = matriz_X\n",
        "y = matriz_y\n",
        "\n",
        "X_train, X_test, y_train, y_test = train_test_split(X, y, test_size=0.2)"
      ]
    },
    {
      "cell_type": "markdown",
      "metadata": {},
      "source": []
    },
    {
      "cell_type": "code",
      "execution_count": 209,
      "metadata": {},
      "outputs": [],
      "source": [
        "lr = LinearRegression()\n",
        "svr = SVR()\n",
        "dtr = DecisionTreeRegressor()"
      ]
    },
    {
      "cell_type": "markdown",
      "metadata": {},
      "source": []
    },
    {
      "cell_type": "code",
      "execution_count": 210,
      "metadata": {},
      "outputs": [
        {
          "name": "stderr",
          "output_type": "stream",
          "text": [
            "c:\\ProgramData\\anaconda3\\Lib\\site-packages\\sklearn\\utils\\validation.py:1184: DataConversionWarning: A column-vector y was passed when a 1d array was expected. Please change the shape of y to (n_samples, ), for example using ravel().\n",
            "  y = column_or_1d(y, warn=True)\n"
          ]
        },
        {
          "data": {
            "text/html": [
              "<style>#sk-container-id-1 {color: black;}#sk-container-id-1 pre{padding: 0;}#sk-container-id-1 div.sk-toggleable {background-color: white;}#sk-container-id-1 label.sk-toggleable__label {cursor: pointer;display: block;width: 100%;margin-bottom: 0;padding: 0.3em;box-sizing: border-box;text-align: center;}#sk-container-id-1 label.sk-toggleable__label-arrow:before {content: \"▸\";float: left;margin-right: 0.25em;color: #696969;}#sk-container-id-1 label.sk-toggleable__label-arrow:hover:before {color: black;}#sk-container-id-1 div.sk-estimator:hover label.sk-toggleable__label-arrow:before {color: black;}#sk-container-id-1 div.sk-toggleable__content {max-height: 0;max-width: 0;overflow: hidden;text-align: left;background-color: #f0f8ff;}#sk-container-id-1 div.sk-toggleable__content pre {margin: 0.2em;color: black;border-radius: 0.25em;background-color: #f0f8ff;}#sk-container-id-1 input.sk-toggleable__control:checked~div.sk-toggleable__content {max-height: 200px;max-width: 100%;overflow: auto;}#sk-container-id-1 input.sk-toggleable__control:checked~label.sk-toggleable__label-arrow:before {content: \"▾\";}#sk-container-id-1 div.sk-estimator input.sk-toggleable__control:checked~label.sk-toggleable__label {background-color: #d4ebff;}#sk-container-id-1 div.sk-label input.sk-toggleable__control:checked~label.sk-toggleable__label {background-color: #d4ebff;}#sk-container-id-1 input.sk-hidden--visually {border: 0;clip: rect(1px 1px 1px 1px);clip: rect(1px, 1px, 1px, 1px);height: 1px;margin: -1px;overflow: hidden;padding: 0;position: absolute;width: 1px;}#sk-container-id-1 div.sk-estimator {font-family: monospace;background-color: #f0f8ff;border: 1px dotted black;border-radius: 0.25em;box-sizing: border-box;margin-bottom: 0.5em;}#sk-container-id-1 div.sk-estimator:hover {background-color: #d4ebff;}#sk-container-id-1 div.sk-parallel-item::after {content: \"\";width: 100%;border-bottom: 1px solid gray;flex-grow: 1;}#sk-container-id-1 div.sk-label:hover label.sk-toggleable__label {background-color: #d4ebff;}#sk-container-id-1 div.sk-serial::before {content: \"\";position: absolute;border-left: 1px solid gray;box-sizing: border-box;top: 0;bottom: 0;left: 50%;z-index: 0;}#sk-container-id-1 div.sk-serial {display: flex;flex-direction: column;align-items: center;background-color: white;padding-right: 0.2em;padding-left: 0.2em;position: relative;}#sk-container-id-1 div.sk-item {position: relative;z-index: 1;}#sk-container-id-1 div.sk-parallel {display: flex;align-items: stretch;justify-content: center;background-color: white;position: relative;}#sk-container-id-1 div.sk-item::before, #sk-container-id-1 div.sk-parallel-item::before {content: \"\";position: absolute;border-left: 1px solid gray;box-sizing: border-box;top: 0;bottom: 0;left: 50%;z-index: -1;}#sk-container-id-1 div.sk-parallel-item {display: flex;flex-direction: column;z-index: 1;position: relative;background-color: white;}#sk-container-id-1 div.sk-parallel-item:first-child::after {align-self: flex-end;width: 50%;}#sk-container-id-1 div.sk-parallel-item:last-child::after {align-self: flex-start;width: 50%;}#sk-container-id-1 div.sk-parallel-item:only-child::after {width: 0;}#sk-container-id-1 div.sk-dashed-wrapped {border: 1px dashed gray;margin: 0 0.4em 0.5em 0.4em;box-sizing: border-box;padding-bottom: 0.4em;background-color: white;}#sk-container-id-1 div.sk-label label {font-family: monospace;font-weight: bold;display: inline-block;line-height: 1.2em;}#sk-container-id-1 div.sk-label-container {text-align: center;}#sk-container-id-1 div.sk-container {/* jupyter's `normalize.less` sets `[hidden] { display: none; }` but bootstrap.min.css set `[hidden] { display: none !important; }` so we also need the `!important` here to be able to override the default hidden behavior on the sphinx rendered scikit-learn.org. See: https://github.com/scikit-learn/scikit-learn/issues/21755 */display: inline-block !important;position: relative;}#sk-container-id-1 div.sk-text-repr-fallback {display: none;}</style><div id=\"sk-container-id-1\" class=\"sk-top-container\"><div class=\"sk-text-repr-fallback\"><pre>DecisionTreeRegressor()</pre><b>In a Jupyter environment, please rerun this cell to show the HTML representation or trust the notebook. <br />On GitHub, the HTML representation is unable to render, please try loading this page with nbviewer.org.</b></div><div class=\"sk-container\" hidden><div class=\"sk-item\"><div class=\"sk-estimator sk-toggleable\"><input class=\"sk-toggleable__control sk-hidden--visually\" id=\"sk-estimator-id-1\" type=\"checkbox\" checked><label for=\"sk-estimator-id-1\" class=\"sk-toggleable__label sk-toggleable__label-arrow\">DecisionTreeRegressor</label><div class=\"sk-toggleable__content\"><pre>DecisionTreeRegressor()</pre></div></div></div></div></div>"
            ],
            "text/plain": [
              "DecisionTreeRegressor()"
            ]
          },
          "execution_count": 210,
          "metadata": {},
          "output_type": "execute_result"
        }
      ],
      "source": [
        "lr.fit(X_train, y_train)\n",
        "svr.fit(X_train, y_train)\n",
        "dtr.fit(X_train, y_train)"
      ]
    },
    {
      "cell_type": "markdown",
      "metadata": {},
      "source": [
        "## Fase 5: Evaluation"
      ]
    },
    {
      "cell_type": "code",
      "execution_count": 212,
      "metadata": {},
      "outputs": [
        {
          "name": "stdout",
          "output_type": "stream",
          "text": [
            "LinearRegression: MAE=3.92, MSE=53.90, R2=0.78\n",
            "SVR: MAE=4.02, MSE=148.63, R2=0.40\n",
            "DecisionTreeRegressor: MAE=4.06, MSE=110.04, R2=0.56\n"
          ]
        }
      ],
      "source": [
        "models = [lr, svr, dtr]\n",
        "for model in models:\n",
        "    y_pred = model.predict(X_test)\n",
        "    mae = mean_absolute_error(y_test, y_pred)\n",
        "    mse = mean_squared_error(y_test, y_pred)\n",
        "    r2 = r2_score(y_test, y_pred)\n",
        "    print(f'{model.__class__.__name__}: MAE={mae:.2f}, MSE={mse:.2f}, R2={r2:.2f}')"
      ]
    }
  ],
  "metadata": {
    "colab": {
      "provenance": []
    },
    "kernelspec": {
      "display_name": "Python 3",
      "name": "python3"
    },
    "language_info": {
      "codemirror_mode": {
        "name": "ipython",
        "version": 3
      },
      "file_extension": ".py",
      "mimetype": "text/x-python",
      "name": "python",
      "nbconvert_exporter": "python",
      "pygments_lexer": "ipython3",
      "version": "3.11.5"
    }
  },
  "nbformat": 4,
  "nbformat_minor": 0
}
