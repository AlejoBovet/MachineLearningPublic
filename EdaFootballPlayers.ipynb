{
  "cells": [
    {
      "cell_type": "markdown",
      "metadata": {},
      "source": [
        "# EDA 2"
      ]
    },
    {
      "cell_type": "markdown",
      "metadata": {},
      "source": [
        "## Contexto "
      ]
    },
    {
      "cell_type": "markdown",
      "metadata": {},
      "source": [
        "La data que se va a analizar corresponmde a los datos de todos los futbolistas que se desempeñan en la la primera division de futbol prfessional alemana más conocida como la Bundesliga. "
      ]
    },
    {
      "cell_type": "markdown",
      "metadata": {},
      "source": [
        "Primero realizamos importacion de las librerias que utilizaremos"
      ]
    },
    {
      "cell_type": "code",
      "execution_count": 48,
      "metadata": {
        "id": "dQmxkWKG2gkA"
      },
      "outputs": [],
      "source": [
        "\n",
        "import pandas as pd\n",
        "import seaborn as sbn\n",
        "import numpy as np\n",
        "import matplotlib.pyplot as plt\n",
        "from seaborn import load_dataset\n",
        "import io"
      ]
    },
    {
      "cell_type": "markdown",
      "metadata": {},
      "source": [
        "Conexion a los datos alojados en github"
      ]
    },
    {
      "cell_type": "code",
      "execution_count": 2,
      "metadata": {
        "colab": {
          "base_uri": "https://localhost:8080/",
          "height": 73
        },
        "id": "ik7IjA_O2lfH",
        "outputId": "6527af99-9618-4aee-bca2-fcc97dcbeefa"
      },
      "outputs": [],
      "source": [
        "\n",
        "#url = 'https://github.com/AlejoBovet/MachineLearningPublic/raw/main/Datas/bl2.csv'\n",
        "#response = requests.get(url)\n",
        "#df = pd.read_csv(response.content)"
      ]
    },
    {
      "cell_type": "markdown",
      "metadata": {},
      "source": [
        "Llamado por local "
      ]
    },
    {
      "cell_type": "code",
      "execution_count": 49,
      "metadata": {},
      "outputs": [],
      "source": [
        "df = pd.read_csv('Datas/bl2.csv')"
      ]
    },
    {
      "cell_type": "markdown",
      "metadata": {},
      "source": [
        "Comprobamos la cantidad de columnas y filas"
      ]
    },
    {
      "cell_type": "code",
      "execution_count": 50,
      "metadata": {},
      "outputs": [
        {
          "data": {
            "text/plain": [
              "(515, 17)"
            ]
          },
          "execution_count": 50,
          "metadata": {},
          "output_type": "execute_result"
        }
      ],
      "source": [
        "df.shape"
      ]
    },
    {
      "cell_type": "markdown",
      "metadata": {},
      "source": [
        "Identificamos que el dataset cuenta con 515 filas donde cada fila representa un jugador y 17 columnas que representa las caracteristicas de los jugadores"
      ]
    },
    {
      "cell_type": "markdown",
      "metadata": {},
      "source": [
        "Visualisamos los primeros campos de la data"
      ]
    },
    {
      "cell_type": "code",
      "execution_count": 51,
      "metadata": {
        "colab": {
          "base_uri": "https://localhost:8080/"
        },
        "id": "qQpXJGga2s_r",
        "outputId": "037e56e8-6794-4697-db4e-2d47127ad17d"
      },
      "outputs": [
        {
          "data": {
            "text/html": [
              "<div>\n",
              "<style scoped>\n",
              "    .dataframe tbody tr th:only-of-type {\n",
              "        vertical-align: middle;\n",
              "    }\n",
              "\n",
              "    .dataframe tbody tr th {\n",
              "        vertical-align: top;\n",
              "    }\n",
              "\n",
              "    .dataframe thead th {\n",
              "        text-align: right;\n",
              "    }\n",
              "</style>\n",
              "<table border=\"1\" class=\"dataframe\">\n",
              "  <thead>\n",
              "    <tr style=\"text-align: right;\">\n",
              "      <th></th>\n",
              "      <th>Unnamed: 0</th>\n",
              "      <th>name</th>\n",
              "      <th>full_name</th>\n",
              "      <th>age</th>\n",
              "      <th>height</th>\n",
              "      <th>nationality</th>\n",
              "      <th>place_of_birth</th>\n",
              "      <th>price</th>\n",
              "      <th>max_price</th>\n",
              "      <th>position</th>\n",
              "      <th>shirt_nr</th>\n",
              "      <th>foot</th>\n",
              "      <th>club</th>\n",
              "      <th>contract_expires</th>\n",
              "      <th>joined_club</th>\n",
              "      <th>player_agent</th>\n",
              "      <th>outfitter</th>\n",
              "    </tr>\n",
              "  </thead>\n",
              "  <tbody>\n",
              "    <tr>\n",
              "      <th>0</th>\n",
              "      <td>0</td>\n",
              "      <td>Manuel Neuer</td>\n",
              "      <td>Manuel Peter Neuer</td>\n",
              "      <td>37</td>\n",
              "      <td>1.93</td>\n",
              "      <td>Germany</td>\n",
              "      <td>Gelsenkirchen</td>\n",
              "      <td>7.0</td>\n",
              "      <td>45.0</td>\n",
              "      <td>Goalkeeper</td>\n",
              "      <td>1</td>\n",
              "      <td>right</td>\n",
              "      <td>Bayern Munich</td>\n",
              "      <td>2024-06-30</td>\n",
              "      <td>2011-07-01</td>\n",
              "      <td>PRO Profil GmbH</td>\n",
              "      <td>adidas</td>\n",
              "    </tr>\n",
              "    <tr>\n",
              "      <th>1</th>\n",
              "      <td>1</td>\n",
              "      <td>Yann Sommer</td>\n",
              "      <td>NaN</td>\n",
              "      <td>34</td>\n",
              "      <td>1.83</td>\n",
              "      <td>Switzerland</td>\n",
              "      <td>Morges</td>\n",
              "      <td>5.0</td>\n",
              "      <td>13.0</td>\n",
              "      <td>Goalkeeper</td>\n",
              "      <td>27</td>\n",
              "      <td>right</td>\n",
              "      <td>Bayern Munich</td>\n",
              "      <td>2025-06-30</td>\n",
              "      <td>2023-01-19</td>\n",
              "      <td>Relatives</td>\n",
              "      <td>Puma</td>\n",
              "    </tr>\n",
              "    <tr>\n",
              "      <th>2</th>\n",
              "      <td>2</td>\n",
              "      <td>Sven Ulreich</td>\n",
              "      <td>NaN</td>\n",
              "      <td>34</td>\n",
              "      <td>1.92</td>\n",
              "      <td>Germany</td>\n",
              "      <td>Schorndorf</td>\n",
              "      <td>0.9</td>\n",
              "      <td>6.0</td>\n",
              "      <td>Goalkeeper</td>\n",
              "      <td>26</td>\n",
              "      <td>right</td>\n",
              "      <td>Bayern Munich</td>\n",
              "      <td>2024-06-30</td>\n",
              "      <td>2021-07-01</td>\n",
              "      <td>BMS Sportconsulting ...</td>\n",
              "      <td>adidas</td>\n",
              "    </tr>\n",
              "    <tr>\n",
              "      <th>3</th>\n",
              "      <td>3</td>\n",
              "      <td>Johannes Schenk</td>\n",
              "      <td>NaN</td>\n",
              "      <td>20</td>\n",
              "      <td>1.91</td>\n",
              "      <td>Germany</td>\n",
              "      <td>Schweinfurt</td>\n",
              "      <td>0.3</td>\n",
              "      <td>0.3</td>\n",
              "      <td>Goalkeeper</td>\n",
              "      <td>35</td>\n",
              "      <td>NaN</td>\n",
              "      <td>Bayern Munich</td>\n",
              "      <td>2024-06-30</td>\n",
              "      <td>2022-07-01</td>\n",
              "      <td>11WINS</td>\n",
              "      <td>NaN</td>\n",
              "    </tr>\n",
              "    <tr>\n",
              "      <th>4</th>\n",
              "      <td>4</td>\n",
              "      <td>Matthijs de Ligt</td>\n",
              "      <td>NaN</td>\n",
              "      <td>23</td>\n",
              "      <td>1.89</td>\n",
              "      <td>Netherlands</td>\n",
              "      <td>Leiderdorp</td>\n",
              "      <td>75.0</td>\n",
              "      <td>75.0</td>\n",
              "      <td>Defender - Centre-Back</td>\n",
              "      <td>4</td>\n",
              "      <td>right</td>\n",
              "      <td>Bayern Munich</td>\n",
              "      <td>2027-06-30</td>\n",
              "      <td>2022-07-19</td>\n",
              "      <td>Rafaela Pimenta</td>\n",
              "      <td>adidas</td>\n",
              "    </tr>\n",
              "  </tbody>\n",
              "</table>\n",
              "</div>"
            ],
            "text/plain": [
              "   Unnamed: 0              name           full_name  age  height  nationality  \\\n",
              "0           0      Manuel Neuer  Manuel Peter Neuer   37    1.93      Germany   \n",
              "1           1       Yann Sommer                 NaN   34    1.83  Switzerland   \n",
              "2           2      Sven Ulreich                 NaN   34    1.92      Germany   \n",
              "3           3   Johannes Schenk                 NaN   20    1.91      Germany   \n",
              "4           4  Matthijs de Ligt                 NaN   23    1.89  Netherlands   \n",
              "\n",
              "  place_of_birth  price  max_price                position  shirt_nr   foot  \\\n",
              "0  Gelsenkirchen    7.0       45.0              Goalkeeper         1  right   \n",
              "1         Morges    5.0       13.0              Goalkeeper        27  right   \n",
              "2     Schorndorf    0.9        6.0              Goalkeeper        26  right   \n",
              "3    Schweinfurt    0.3        0.3              Goalkeeper        35    NaN   \n",
              "4     Leiderdorp   75.0       75.0  Defender - Centre-Back         4  right   \n",
              "\n",
              "            club contract_expires joined_club             player_agent  \\\n",
              "0  Bayern Munich       2024-06-30  2011-07-01          PRO Profil GmbH   \n",
              "1  Bayern Munich       2025-06-30  2023-01-19                Relatives   \n",
              "2  Bayern Munich       2024-06-30  2021-07-01  BMS Sportconsulting ...   \n",
              "3  Bayern Munich       2024-06-30  2022-07-01                   11WINS   \n",
              "4  Bayern Munich       2027-06-30  2022-07-19          Rafaela Pimenta   \n",
              "\n",
              "  outfitter  \n",
              "0    adidas  \n",
              "1      Puma  \n",
              "2    adidas  \n",
              "3       NaN  \n",
              "4    adidas  "
            ]
          },
          "execution_count": 51,
          "metadata": {},
          "output_type": "execute_result"
        }
      ],
      "source": [
        "df.head()"
      ]
    },
    {
      "cell_type": "markdown",
      "metadata": {},
      "source": [
        "y ahora los ultimos"
      ]
    },
    {
      "cell_type": "code",
      "execution_count": 4,
      "metadata": {},
      "outputs": [
        {
          "data": {
            "text/html": [
              "<div>\n",
              "<style scoped>\n",
              "    .dataframe tbody tr th:only-of-type {\n",
              "        vertical-align: middle;\n",
              "    }\n",
              "\n",
              "    .dataframe tbody tr th {\n",
              "        vertical-align: top;\n",
              "    }\n",
              "\n",
              "    .dataframe thead th {\n",
              "        text-align: right;\n",
              "    }\n",
              "</style>\n",
              "<table border=\"1\" class=\"dataframe\">\n",
              "  <thead>\n",
              "    <tr style=\"text-align: right;\">\n",
              "      <th></th>\n",
              "      <th>Unnamed: 0</th>\n",
              "      <th>name</th>\n",
              "      <th>full_name</th>\n",
              "      <th>age</th>\n",
              "      <th>height</th>\n",
              "      <th>nationality</th>\n",
              "      <th>place_of_birth</th>\n",
              "      <th>price</th>\n",
              "      <th>max_price</th>\n",
              "      <th>position</th>\n",
              "      <th>shirt_nr</th>\n",
              "      <th>foot</th>\n",
              "      <th>club</th>\n",
              "      <th>contract_expires</th>\n",
              "      <th>joined_club</th>\n",
              "      <th>player_agent</th>\n",
              "      <th>outfitter</th>\n",
              "    </tr>\n",
              "  </thead>\n",
              "  <tbody>\n",
              "    <tr>\n",
              "      <th>510</th>\n",
              "      <td>510</td>\n",
              "      <td>Takuma Asano</td>\n",
              "      <td>浅野 拓磨</td>\n",
              "      <td>28</td>\n",
              "      <td>1.73</td>\n",
              "      <td>Japan</td>\n",
              "      <td>Komono, Mie</td>\n",
              "      <td>4.00</td>\n",
              "      <td>4.0</td>\n",
              "      <td>Attack - Right Winger</td>\n",
              "      <td>11</td>\n",
              "      <td>right</td>\n",
              "      <td>VfL Bochum</td>\n",
              "      <td>2024-06-30</td>\n",
              "      <td>2021-07-01</td>\n",
              "      <td>JEB ENTERTAINMENT ...</td>\n",
              "      <td>adidas</td>\n",
              "    </tr>\n",
              "    <tr>\n",
              "      <th>511</th>\n",
              "      <td>511</td>\n",
              "      <td>Philipp Hofmann</td>\n",
              "      <td>NaN</td>\n",
              "      <td>30</td>\n",
              "      <td>1.95</td>\n",
              "      <td>Germany</td>\n",
              "      <td>Arnsberg</td>\n",
              "      <td>2.50</td>\n",
              "      <td>2.5</td>\n",
              "      <td>Attack - Centre-Forward</td>\n",
              "      <td>33</td>\n",
              "      <td>left</td>\n",
              "      <td>VfL Bochum</td>\n",
              "      <td>2024-06-30</td>\n",
              "      <td>2022-07-01</td>\n",
              "      <td>ROOF</td>\n",
              "      <td>NaN</td>\n",
              "    </tr>\n",
              "    <tr>\n",
              "      <th>512</th>\n",
              "      <td>512</td>\n",
              "      <td>Simon Zoller</td>\n",
              "      <td>Simon Martin Zoller</td>\n",
              "      <td>31</td>\n",
              "      <td>1.79</td>\n",
              "      <td>Germany</td>\n",
              "      <td>Friedrichshafen</td>\n",
              "      <td>1.10</td>\n",
              "      <td>3.0</td>\n",
              "      <td>Attack - Centre-Forward</td>\n",
              "      <td>9</td>\n",
              "      <td>right</td>\n",
              "      <td>VfL Bochum</td>\n",
              "      <td>2024-06-30</td>\n",
              "      <td>2019-01-01</td>\n",
              "      <td>GoalSky</td>\n",
              "      <td>Puma</td>\n",
              "    </tr>\n",
              "    <tr>\n",
              "      <th>513</th>\n",
              "      <td>513</td>\n",
              "      <td>Silvère Ganvoula</td>\n",
              "      <td>Silvère Ganvoula M'boussy</td>\n",
              "      <td>26</td>\n",
              "      <td>1.91</td>\n",
              "      <td>Congo</td>\n",
              "      <td>Brazzaville</td>\n",
              "      <td>0.75</td>\n",
              "      <td>2.5</td>\n",
              "      <td>Attack - Centre-Forward</td>\n",
              "      <td>35</td>\n",
              "      <td>right</td>\n",
              "      <td>VfL Bochum</td>\n",
              "      <td>2023-06-30</td>\n",
              "      <td>2019-07-05</td>\n",
              "      <td>BY Sport Consulting</td>\n",
              "      <td>Puma</td>\n",
              "    </tr>\n",
              "    <tr>\n",
              "      <th>514</th>\n",
              "      <td>514</td>\n",
              "      <td>Moritz Broschinski</td>\n",
              "      <td>NaN</td>\n",
              "      <td>22</td>\n",
              "      <td>1.90</td>\n",
              "      <td>Germany</td>\n",
              "      <td>Finsterwalde</td>\n",
              "      <td>0.50</td>\n",
              "      <td>0.5</td>\n",
              "      <td>Attack - Centre-Forward</td>\n",
              "      <td>29</td>\n",
              "      <td>right</td>\n",
              "      <td>VfL Bochum</td>\n",
              "      <td>2026-06-30</td>\n",
              "      <td>2023-01-22</td>\n",
              "      <td>Teamgeist ...</td>\n",
              "      <td>NaN</td>\n",
              "    </tr>\n",
              "  </tbody>\n",
              "</table>\n",
              "</div>"
            ],
            "text/plain": [
              "     Unnamed: 0                name                  full_name  age  height  \\\n",
              "510         510        Takuma Asano                      浅野 拓磨   28    1.73   \n",
              "511         511     Philipp Hofmann                        NaN   30    1.95   \n",
              "512         512        Simon Zoller        Simon Martin Zoller   31    1.79   \n",
              "513         513    Silvère Ganvoula  Silvère Ganvoula M'boussy   26    1.91   \n",
              "514         514  Moritz Broschinski                        NaN   22    1.90   \n",
              "\n",
              "    nationality   place_of_birth  price  max_price                 position  \\\n",
              "510       Japan      Komono, Mie   4.00        4.0    Attack - Right Winger   \n",
              "511     Germany         Arnsberg   2.50        2.5  Attack - Centre-Forward   \n",
              "512     Germany  Friedrichshafen   1.10        3.0  Attack - Centre-Forward   \n",
              "513       Congo      Brazzaville   0.75        2.5  Attack - Centre-Forward   \n",
              "514     Germany     Finsterwalde   0.50        0.5  Attack - Centre-Forward   \n",
              "\n",
              "     shirt_nr   foot        club contract_expires joined_club  \\\n",
              "510        11  right  VfL Bochum       2024-06-30  2021-07-01   \n",
              "511        33   left  VfL Bochum       2024-06-30  2022-07-01   \n",
              "512         9  right  VfL Bochum       2024-06-30  2019-01-01   \n",
              "513        35  right  VfL Bochum       2023-06-30  2019-07-05   \n",
              "514        29  right  VfL Bochum       2026-06-30  2023-01-22   \n",
              "\n",
              "              player_agent outfitter  \n",
              "510  JEB ENTERTAINMENT ...    adidas  \n",
              "511                   ROOF       NaN  \n",
              "512                GoalSky      Puma  \n",
              "513    BY Sport Consulting      Puma  \n",
              "514          Teamgeist ...       NaN  "
            ]
          },
          "execution_count": 4,
          "metadata": {},
          "output_type": "execute_result"
        }
      ],
      "source": [
        "df.tail()"
      ]
    },
    {
      "cell_type": "markdown",
      "metadata": {},
      "source": [
        "Identificamos los nombres de las columnas de la data"
      ]
    },
    {
      "cell_type": "code",
      "execution_count": 5,
      "metadata": {},
      "outputs": [
        {
          "name": "stdout",
          "output_type": "stream",
          "text": [
            "Index(['Unnamed: 0', 'name', 'full_name', 'age', 'height', 'nationality',\n",
            "       'place_of_birth', 'price', 'max_price', 'position', 'shirt_nr', 'foot',\n",
            "       'club', 'contract_expires', 'joined_club', 'player_agent', 'outfitter'],\n",
            "      dtype='object')\n"
          ]
        }
      ],
      "source": [
        "print(df.columns)"
      ]
    },
    {
      "cell_type": "code",
      "execution_count": 6,
      "metadata": {
        "colab": {
          "base_uri": "https://localhost:8080/",
          "height": 300
        },
        "id": "h4-j_bnp3c7z",
        "outputId": "05ea2076-b3a2-4896-b66f-967cc0aa095a"
      },
      "outputs": [
        {
          "data": {
            "text/html": [
              "<div>\n",
              "<style scoped>\n",
              "    .dataframe tbody tr th:only-of-type {\n",
              "        vertical-align: middle;\n",
              "    }\n",
              "\n",
              "    .dataframe tbody tr th {\n",
              "        vertical-align: top;\n",
              "    }\n",
              "\n",
              "    .dataframe thead th {\n",
              "        text-align: right;\n",
              "    }\n",
              "</style>\n",
              "<table border=\"1\" class=\"dataframe\">\n",
              "  <thead>\n",
              "    <tr style=\"text-align: right;\">\n",
              "      <th></th>\n",
              "      <th>Unnamed: 0</th>\n",
              "      <th>age</th>\n",
              "      <th>height</th>\n",
              "      <th>price</th>\n",
              "      <th>max_price</th>\n",
              "      <th>shirt_nr</th>\n",
              "    </tr>\n",
              "  </thead>\n",
              "  <tbody>\n",
              "    <tr>\n",
              "      <th>count</th>\n",
              "      <td>515.000000</td>\n",
              "      <td>515.000000</td>\n",
              "      <td>515.000000</td>\n",
              "      <td>510.000000</td>\n",
              "      <td>510.000000</td>\n",
              "      <td>515.000000</td>\n",
              "    </tr>\n",
              "    <tr>\n",
              "      <th>mean</th>\n",
              "      <td>257.000000</td>\n",
              "      <td>25.683495</td>\n",
              "      <td>1.847612</td>\n",
              "      <td>8.482794</td>\n",
              "      <td>13.513627</td>\n",
              "      <td>19.798058</td>\n",
              "    </tr>\n",
              "    <tr>\n",
              "      <th>std</th>\n",
              "      <td>148.811962</td>\n",
              "      <td>4.700238</td>\n",
              "      <td>0.060996</td>\n",
              "      <td>14.653440</td>\n",
              "      <td>18.659222</td>\n",
              "      <td>12.414768</td>\n",
              "    </tr>\n",
              "    <tr>\n",
              "      <th>min</th>\n",
              "      <td>0.000000</td>\n",
              "      <td>17.000000</td>\n",
              "      <td>1.680000</td>\n",
              "      <td>0.025000</td>\n",
              "      <td>0.100000</td>\n",
              "      <td>1.000000</td>\n",
              "    </tr>\n",
              "    <tr>\n",
              "      <th>25%</th>\n",
              "      <td>128.500000</td>\n",
              "      <td>22.000000</td>\n",
              "      <td>1.800000</td>\n",
              "      <td>1.200000</td>\n",
              "      <td>2.500000</td>\n",
              "      <td>9.000000</td>\n",
              "    </tr>\n",
              "    <tr>\n",
              "      <th>50%</th>\n",
              "      <td>257.000000</td>\n",
              "      <td>25.000000</td>\n",
              "      <td>1.850000</td>\n",
              "      <td>3.500000</td>\n",
              "      <td>7.000000</td>\n",
              "      <td>20.000000</td>\n",
              "    </tr>\n",
              "    <tr>\n",
              "      <th>75%</th>\n",
              "      <td>385.500000</td>\n",
              "      <td>29.000000</td>\n",
              "      <td>1.890000</td>\n",
              "      <td>9.000000</td>\n",
              "      <td>16.750000</td>\n",
              "      <td>29.000000</td>\n",
              "    </tr>\n",
              "    <tr>\n",
              "      <th>max</th>\n",
              "      <td>514.000000</td>\n",
              "      <td>39.000000</td>\n",
              "      <td>2.000000</td>\n",
              "      <td>120.000000</td>\n",
              "      <td>150.000000</td>\n",
              "      <td>49.000000</td>\n",
              "    </tr>\n",
              "  </tbody>\n",
              "</table>\n",
              "</div>"
            ],
            "text/plain": [
              "       Unnamed: 0         age      height       price   max_price    shirt_nr\n",
              "count  515.000000  515.000000  515.000000  510.000000  510.000000  515.000000\n",
              "mean   257.000000   25.683495    1.847612    8.482794   13.513627   19.798058\n",
              "std    148.811962    4.700238    0.060996   14.653440   18.659222   12.414768\n",
              "min      0.000000   17.000000    1.680000    0.025000    0.100000    1.000000\n",
              "25%    128.500000   22.000000    1.800000    1.200000    2.500000    9.000000\n",
              "50%    257.000000   25.000000    1.850000    3.500000    7.000000   20.000000\n",
              "75%    385.500000   29.000000    1.890000    9.000000   16.750000   29.000000\n",
              "max    514.000000   39.000000    2.000000  120.000000  150.000000   49.000000"
            ]
          },
          "execution_count": 6,
          "metadata": {},
          "output_type": "execute_result"
        }
      ],
      "source": [
        "df.describe()"
      ]
    },
    {
      "cell_type": "code",
      "execution_count": 9,
      "metadata": {
        "colab": {
          "base_uri": "https://localhost:8080/"
        },
        "id": "DPHzDR5134U4",
        "outputId": "cd8a9932-307d-4b46-b500-4a2f12a84eb0"
      },
      "outputs": [
        {
          "name": "stdout",
          "output_type": "stream",
          "text": [
            "<class 'pandas.core.frame.DataFrame'>\n",
            "RangeIndex: 515 entries, 0 to 514\n",
            "Data columns (total 17 columns):\n",
            " #   Column            Non-Null Count  Dtype  \n",
            "---  ------            --------------  -----  \n",
            " 0   Unnamed: 0        515 non-null    int64  \n",
            " 1   name              515 non-null    object \n",
            " 2   full_name         229 non-null    object \n",
            " 3   age               515 non-null    int64  \n",
            " 4   height            515 non-null    float64\n",
            " 5   nationality       515 non-null    object \n",
            " 6   place_of_birth    510 non-null    object \n",
            " 7   price             510 non-null    float64\n",
            " 8   max_price         510 non-null    float64\n",
            " 9   position          515 non-null    object \n",
            " 10  shirt_nr          515 non-null    int64  \n",
            " 11  foot              506 non-null    object \n",
            " 12  club              515 non-null    object \n",
            " 13  contract_expires  481 non-null    object \n",
            " 14  joined_club       515 non-null    object \n",
            " 15  player_agent      488 non-null    object \n",
            " 16  outfitter         193 non-null    object \n",
            "dtypes: float64(3), int64(3), object(11)\n",
            "memory usage: 68.5+ KB\n"
          ]
        }
      ],
      "source": [
        "df.info()"
      ]
    },
    {
      "cell_type": "markdown",
      "metadata": {},
      "source": [
        "identificamos los tipo de dato de cada columna,\n",
        "donde identificamos  float64(3), int64(3), object(11)"
      ]
    },
    {
      "cell_type": "markdown",
      "metadata": {},
      "source": [
        "Ahora sumaremos la cantidad de nulos que existen en las columnas"
      ]
    },
    {
      "cell_type": "code",
      "execution_count": 10,
      "metadata": {},
      "outputs": [
        {
          "data": {
            "text/plain": [
              "Unnamed: 0            0\n",
              "name                  0\n",
              "full_name           286\n",
              "age                   0\n",
              "height                0\n",
              "nationality           0\n",
              "place_of_birth        5\n",
              "price                 5\n",
              "max_price             5\n",
              "position              0\n",
              "shirt_nr              0\n",
              "foot                  9\n",
              "club                  0\n",
              "contract_expires     34\n",
              "joined_club           0\n",
              "player_agent         27\n",
              "outfitter           322\n",
              "dtype: int64"
            ]
          },
          "execution_count": 10,
          "metadata": {},
          "output_type": "execute_result"
        }
      ],
      "source": [
        "df.isna().sum()"
      ]
    },
    {
      "cell_type": "markdown",
      "metadata": {},
      "source": [
        "Ahora validaremos que porcentaje representan estos nulos respecto al total de datos. "
      ]
    },
    {
      "cell_type": "code",
      "execution_count": 52,
      "metadata": {},
      "outputs": [
        {
          "data": {
            "text/html": [
              "<div>\n",
              "<style scoped>\n",
              "    .dataframe tbody tr th:only-of-type {\n",
              "        vertical-align: middle;\n",
              "    }\n",
              "\n",
              "    .dataframe tbody tr th {\n",
              "        vertical-align: top;\n",
              "    }\n",
              "\n",
              "    .dataframe thead th {\n",
              "        text-align: right;\n",
              "    }\n",
              "</style>\n",
              "<table border=\"1\" class=\"dataframe\">\n",
              "  <thead>\n",
              "    <tr style=\"text-align: right;\">\n",
              "      <th></th>\n",
              "      <th>Columna</th>\n",
              "      <th>N° de Nulos</th>\n",
              "      <th>Porcentaje del total de registros</th>\n",
              "    </tr>\n",
              "  </thead>\n",
              "  <tbody>\n",
              "    <tr>\n",
              "      <th>16</th>\n",
              "      <td>outfitter</td>\n",
              "      <td>322</td>\n",
              "      <td>62.52%</td>\n",
              "    </tr>\n",
              "    <tr>\n",
              "      <th>2</th>\n",
              "      <td>full_name</td>\n",
              "      <td>286</td>\n",
              "      <td>55.53%</td>\n",
              "    </tr>\n",
              "    <tr>\n",
              "      <th>13</th>\n",
              "      <td>contract_expires</td>\n",
              "      <td>34</td>\n",
              "      <td>6.60%</td>\n",
              "    </tr>\n",
              "    <tr>\n",
              "      <th>15</th>\n",
              "      <td>player_agent</td>\n",
              "      <td>27</td>\n",
              "      <td>5.24%</td>\n",
              "    </tr>\n",
              "    <tr>\n",
              "      <th>11</th>\n",
              "      <td>foot</td>\n",
              "      <td>9</td>\n",
              "      <td>1.75%</td>\n",
              "    </tr>\n",
              "    <tr>\n",
              "      <th>6</th>\n",
              "      <td>place_of_birth</td>\n",
              "      <td>5</td>\n",
              "      <td>0.97%</td>\n",
              "    </tr>\n",
              "    <tr>\n",
              "      <th>7</th>\n",
              "      <td>price</td>\n",
              "      <td>5</td>\n",
              "      <td>0.97%</td>\n",
              "    </tr>\n",
              "    <tr>\n",
              "      <th>8</th>\n",
              "      <td>max_price</td>\n",
              "      <td>5</td>\n",
              "      <td>0.97%</td>\n",
              "    </tr>\n",
              "  </tbody>\n",
              "</table>\n",
              "</div>"
            ],
            "text/plain": [
              "             Columna  N° de Nulos Porcentaje del total de registros\n",
              "16         outfitter          322                            62.52%\n",
              "2          full_name          286                            55.53%\n",
              "13  contract_expires           34                             6.60%\n",
              "15      player_agent           27                             5.24%\n",
              "11              foot            9                             1.75%\n",
              "6     place_of_birth            5                             0.97%\n",
              "7              price            5                             0.97%\n",
              "8          max_price            5                             0.97%"
            ]
          },
          "execution_count": 52,
          "metadata": {},
          "output_type": "execute_result"
        }
      ],
      "source": [
        "nulos_por_columna = df.isnull().sum()\n",
        "porcentaje_nulos = ((df.isnull().sum() / df.shape[0]) * 100).apply(lambda x: f\"{x:.2f}%\")\n",
        "\n",
        "df_info = pd.DataFrame({\n",
        "    'Columna': nulos_por_columna.index,\n",
        "    'N° de Nulos': nulos_por_columna.values,\n",
        "    'Porcentaje del total de registros': porcentaje_nulos.values\n",
        "})\n",
        "\n",
        "df_info_filtered = df_info[df_info['N° de Nulos'] > 0].sort_values(by='N° de Nulos', ascending=False)\n",
        "\n",
        "df_info_filtered"
      ]
    },
    {
      "attachments": {},
      "cell_type": "markdown",
      "metadata": {
        "id": "yVJlT-6G5zqw"
      },
      "source": [
        "Debido al porcentaje que representan respecto al total de datos de su columna  y por enfoque analitico que buscamos se descarta las siguientes columnas. \n",
        "Datos que se desacartan:\n",
        "\n",
        " - full_name\n",
        " - outfitter\n",
        " - Unnamed : 0\n",
        "\n",
        "\n",
        "\n"
      ]
    },
    {
      "cell_type": "code",
      "execution_count": 53,
      "metadata": {},
      "outputs": [],
      "source": [
        "df1 = df.drop(['full_name', 'outfitter','Unnamed: 0','player_agent','contract_expires'], axis=1)"
      ]
    },
    {
      "cell_type": "markdown",
      "metadata": {},
      "source": [
        "Se elimina tambien otras columnas que no seran necesarias para el analisis"
      ]
    },
    {
      "cell_type": "code",
      "execution_count": 54,
      "metadata": {},
      "outputs": [
        {
          "data": {
            "text/plain": [
              "name              0\n",
              "age               0\n",
              "height            0\n",
              "nationality       0\n",
              "place_of_birth    5\n",
              "price             5\n",
              "max_price         5\n",
              "position          0\n",
              "shirt_nr          0\n",
              "foot              9\n",
              "club              0\n",
              "joined_club       0\n",
              "dtype: int64"
            ]
          },
          "execution_count": 54,
          "metadata": {},
          "output_type": "execute_result"
        }
      ],
      "source": [
        "df1.isna().sum()"
      ]
    },
    {
      "cell_type": "markdown",
      "metadata": {},
      "source": [
        "Para la columna place_of_birth que corresponde a la ciudad de origen del jugadores, los que posean datos nullos se imputara por el string ´desconocido´"
      ]
    },
    {
      "cell_type": "code",
      "execution_count": 55,
      "metadata": {},
      "outputs": [],
      "source": [
        "df1['place_of_birth'].fillna('Desconocido', inplace=True)"
      ]
    },
    {
      "cell_type": "markdown",
      "metadata": {},
      "source": [
        "Al ser solo 9 nulos en en 'foot', utilizaremos la moda para imputar estos datos, en caso de desbalanceo realizaremos el control mas adelante"
      ]
    },
    {
      "cell_type": "code",
      "execution_count": 56,
      "metadata": {},
      "outputs": [],
      "source": [
        "# Calcula la moda de la columna\n",
        "moda_foot = df1['foot'].mode()[0]\n",
        "\n",
        "# Imputa los valores faltantes con la moda\n",
        "df1['foot'].fillna(moda_foot, inplace=True)"
      ]
    },
    {
      "cell_type": "markdown",
      "metadata": {},
      "source": [
        "Para el caso de las columas que cuentan con valores numericos continuos, realizaremos:"
      ]
    },
    {
      "cell_type": "markdown",
      "metadata": {},
      "source": [
        "Primero importamos la libreria de LinearRegression que nos probee sklearn "
      ]
    },
    {
      "cell_type": "code",
      "execution_count": 57,
      "metadata": {},
      "outputs": [],
      "source": [
        "from sklearn.linear_model import LinearRegression"
      ]
    },
    {
      "cell_type": "markdown",
      "metadata": {},
      "source": [
        "Despues dividimos los datos entre valores conocidos (no nulos) y valores desconocidos (nulos)"
      ]
    },
    {
      "cell_type": "code",
      "execution_count": 58,
      "metadata": {},
      "outputs": [],
      "source": [
        "data_known = df1.dropna(subset=['price'])\n",
        "data_unknown = df1[df1['price'].isnull()]"
      ]
    },
    {
      "cell_type": "markdown",
      "metadata": {},
      "source": [
        "Ahora definimos las variables predictorias y la variable objetivo, comprobando la correlaciopn entre las variables"
      ]
    },
    {
      "cell_type": "code",
      "execution_count": 59,
      "metadata": {},
      "outputs": [
        {
          "name": "stdout",
          "output_type": "stream",
          "text": [
            "age      -0.103473\n",
            "height   -0.075277\n",
            "price     1.000000\n",
            "Name: price, dtype: float64\n"
          ]
        }
      ],
      "source": [
        "selected_columns = ['age', 'height']\n",
        "correlation_with_target = df[selected_columns + ['price']].corr()['price']\n",
        "print(correlation_with_target)"
      ]
    },
    {
      "cell_type": "markdown",
      "metadata": {},
      "source": [
        "Encontramos una correlacion negativa con las dos variable "
      ]
    },
    {
      "cell_type": "code",
      "execution_count": 60,
      "metadata": {},
      "outputs": [],
      "source": [
        "X_known = data_known[['age', 'height']]\n",
        "y_known = data_known['price']\n",
        "X_unknown = data_unknown[['age', 'height']]"
      ]
    },
    {
      "cell_type": "markdown",
      "metadata": {},
      "source": [
        "Ahora realizamos el proceso de regresion "
      ]
    },
    {
      "cell_type": "code",
      "execution_count": 61,
      "metadata": {},
      "outputs": [],
      "source": [
        "# Crear un modelo de regresión lineal\n",
        "regression_model = LinearRegression()\n",
        "\n",
        "# Ajustar el modelo a los datos conocidos\n",
        "regression_model.fit(X_known, y_known)\n",
        "\n",
        "# Predecir los valores faltantes\n",
        "predicted_values = regression_model.predict(X_unknown)\n",
        "\n",
        "# Reemplazar los valores faltantes en el DataFrame original\n",
        "df1.loc[df1['price'].isnull(), 'price'] = predicted_values"
      ]
    },
    {
      "cell_type": "markdown",
      "metadata": {},
      "source": [
        "Realizamos una copia para salverguardar el proceso"
      ]
    },
    {
      "cell_type": "code",
      "execution_count": 62,
      "metadata": {},
      "outputs": [],
      "source": [
        "df2 = df1.copy()"
      ]
    },
    {
      "cell_type": "code",
      "execution_count": 63,
      "metadata": {},
      "outputs": [],
      "source": [
        "data_known = df2.dropna(subset=['max_price'])\n",
        "data_unknown = df2[df2['max_price'].isnull()]"
      ]
    },
    {
      "cell_type": "markdown",
      "metadata": {},
      "source": [
        "Ahora imputaremos 'Max price'"
      ]
    },
    {
      "cell_type": "code",
      "execution_count": 64,
      "metadata": {},
      "outputs": [
        {
          "name": "stdout",
          "output_type": "stream",
          "text": [
            "age          0.093238\n",
            "height      -0.089408\n",
            "price        0.871134\n",
            "max_price    1.000000\n",
            "Name: max_price, dtype: float64\n"
          ]
        }
      ],
      "source": [
        "selected_columns = ['age', 'height', 'price']\n",
        "correlation_with_target = df1[selected_columns + ['max_price']].corr()['max_price']\n",
        "print(correlation_with_target)"
      ]
    },
    {
      "cell_type": "code",
      "execution_count": 65,
      "metadata": {},
      "outputs": [],
      "source": [
        "X_known = data_known[['age', 'height','price']]\n",
        "y_known = data_known['max_price']\n",
        "X_unknown = data_unknown[['age', 'height','price']]"
      ]
    },
    {
      "cell_type": "code",
      "execution_count": 66,
      "metadata": {},
      "outputs": [],
      "source": [
        "# Crear un modelo de regresión lineal\n",
        "regression_model = LinearRegression()\n",
        "\n",
        "# Ajustar el modelo a los datos conocidos\n",
        "regression_model.fit(X_known, y_known)\n",
        "\n",
        "# Predecir los valores faltantes\n",
        "predicted_values = regression_model.predict(X_unknown)\n",
        "\n",
        "# Reemplazar los valores faltantes en el DataFrame original\n",
        "df2.loc[df2['max_price'].isnull(), 'max_price'] = predicted_values"
      ]
    },
    {
      "cell_type": "markdown",
      "metadata": {},
      "source": [
        "Validamos si aun existen nulos"
      ]
    },
    {
      "cell_type": "code",
      "execution_count": 67,
      "metadata": {},
      "outputs": [
        {
          "data": {
            "text/plain": [
              "name              0\n",
              "age               0\n",
              "height            0\n",
              "nationality       0\n",
              "place_of_birth    0\n",
              "price             0\n",
              "max_price         0\n",
              "position          0\n",
              "shirt_nr          0\n",
              "foot              0\n",
              "club              0\n",
              "joined_club       0\n",
              "dtype: int64"
            ]
          },
          "execution_count": 67,
          "metadata": {},
          "output_type": "execute_result"
        }
      ],
      "source": [
        "df2.isna().sum()"
      ]
    },
    {
      "cell_type": "code",
      "execution_count": 68,
      "metadata": {
        "colab": {
          "base_uri": "https://localhost:8080/"
        },
        "id": "_3clLjKP6Tfe",
        "outputId": "8cceb5ca-85c2-42e0-a8e8-fa008a8d495e"
      },
      "outputs": [
        {
          "name": "stdout",
          "output_type": "stream",
          "text": [
            "<class 'pandas.core.frame.DataFrame'>\n",
            "RangeIndex: 515 entries, 0 to 514\n",
            "Data columns (total 17 columns):\n",
            " #   Column            Non-Null Count  Dtype  \n",
            "---  ------            --------------  -----  \n",
            " 0   Unnamed: 0        515 non-null    int64  \n",
            " 1   name              515 non-null    object \n",
            " 2   full_name         229 non-null    object \n",
            " 3   age               515 non-null    int64  \n",
            " 4   height            515 non-null    float64\n",
            " 5   nationality       515 non-null    object \n",
            " 6   place_of_birth    510 non-null    object \n",
            " 7   price             510 non-null    float64\n",
            " 8   max_price         510 non-null    float64\n",
            " 9   position          515 non-null    object \n",
            " 10  shirt_nr          515 non-null    int64  \n",
            " 11  foot              506 non-null    object \n",
            " 12  club              515 non-null    object \n",
            " 13  contract_expires  481 non-null    object \n",
            " 14  joined_club       515 non-null    object \n",
            " 15  player_agent      488 non-null    object \n",
            " 16  outfitter         193 non-null    object \n",
            "dtypes: float64(3), int64(3), object(11)\n",
            "memory usage: 68.5+ KB\n"
          ]
        }
      ],
      "source": [
        "df.info()"
      ]
    },
    {
      "cell_type": "markdown",
      "metadata": {},
      "source": [
        "Ahora cambiaremos el tipo de datos de las columnas de que poseen tipo object. "
      ]
    },
    {
      "cell_type": "code",
      "execution_count": 69,
      "metadata": {
        "colab": {
          "base_uri": "https://localhost:8080/"
        },
        "id": "3lZS6N356lgo",
        "outputId": "c55a44f5-bb16-4771-df0e-22e6d2de6088"
      },
      "outputs": [
        {
          "name": "stdout",
          "output_type": "stream",
          "text": [
            "                   name  age  height  nationality   place_of_birth  price  \\\n",
            "0          Manuel Neuer   37    1.93      Germany    Gelsenkirchen   7.00   \n",
            "1           Yann Sommer   34    1.83  Switzerland           Morges   5.00   \n",
            "2          Sven Ulreich   34    1.92      Germany       Schorndorf   0.90   \n",
            "3       Johannes Schenk   20    1.91      Germany      Schweinfurt   0.30   \n",
            "4      Matthijs de Ligt   23    1.89  Netherlands       Leiderdorp  75.00   \n",
            "..                  ...  ...     ...          ...              ...    ...   \n",
            "510        Takuma Asano   28    1.73        Japan      Komono, Mie   4.00   \n",
            "511     Philipp Hofmann   30    1.95      Germany         Arnsberg   2.50   \n",
            "512        Simon Zoller   31    1.79      Germany  Friedrichshafen   1.10   \n",
            "513    Silvère Ganvoula   26    1.91        Congo      Brazzaville   0.75   \n",
            "514  Moritz Broschinski   22    1.90      Germany     Finsterwalde   0.50   \n",
            "\n",
            "     max_price                 position  shirt_nr   foot  ... Turkey  \\\n",
            "0         45.0               Goalkeeper         1  right  ...  False   \n",
            "1         13.0               Goalkeeper        27  right  ...  False   \n",
            "2          6.0               Goalkeeper        26  right  ...  False   \n",
            "3          0.3               Goalkeeper        35  right  ...  False   \n",
            "4         75.0   Defender - Centre-Back         4  right  ...  False   \n",
            "..         ...                      ...       ...    ...  ...    ...   \n",
            "510        4.0    Attack - Right Winger        11  right  ...  False   \n",
            "511        2.5  Attack - Centre-Forward        33   left  ...  False   \n",
            "512        3.0  Attack - Centre-Forward         9  right  ...  False   \n",
            "513        2.5  Attack - Centre-Forward        35  right  ...  False   \n",
            "514        0.5  Attack - Centre-Forward        29  right  ...  False   \n",
            "\n",
            "    Turkey  Germany  Ukraine  United States  \\\n",
            "0             False    False          False   \n",
            "1             False    False          False   \n",
            "2             False    False          False   \n",
            "3             False    False          False   \n",
            "4             False    False          False   \n",
            "..              ...      ...            ...   \n",
            "510           False    False          False   \n",
            "511           False    False          False   \n",
            "512           False    False          False   \n",
            "513           False    False          False   \n",
            "514           False    False          False   \n",
            "\n",
            "     United States  Dominican Republic  United States  France  \\\n",
            "0                                False                  False   \n",
            "1                                False                  False   \n",
            "2                                False                  False   \n",
            "3                                False                  False   \n",
            "4                                False                  False   \n",
            "..                                 ...                    ...   \n",
            "510                              False                  False   \n",
            "511                              False                  False   \n",
            "512                              False                  False   \n",
            "513                              False                  False   \n",
            "514                              False                  False   \n",
            "\n",
            "     United States  Germany  United States  Portugal  Uruguay  Italy  \\\n",
            "0                     False                    False           False   \n",
            "1                     False                    False           False   \n",
            "2                     False                    False           False   \n",
            "3                     False                    False           False   \n",
            "4                     False                    False           False   \n",
            "..                      ...                      ...             ...   \n",
            "510                   False                    False           False   \n",
            "511                   False                    False           False   \n",
            "512                   False                    False           False   \n",
            "513                   False                    False           False   \n",
            "514                   False                    False           False   \n",
            "\n",
            "     Uruguay  Spain  \n",
            "0             False  \n",
            "1             False  \n",
            "2             False  \n",
            "3             False  \n",
            "4             False  \n",
            "..              ...  \n",
            "510           False  \n",
            "511           False  \n",
            "512           False  \n",
            "513           False  \n",
            "514           False  \n",
            "\n",
            "[515 rows x 159 columns]\n"
          ]
        }
      ],
      "source": [
        "#Nacionalidad\n",
        "one_hot = pd.get_dummies(df2['nationality'])\n",
        "df2 = pd.concat([df2, one_hot], axis=1)\n",
        "print(df2)"
      ]
    },
    {
      "cell_type": "code",
      "execution_count": 70,
      "metadata": {
        "colab": {
          "base_uri": "https://localhost:8080/"
        },
        "id": "lAIrMXXbvKeF",
        "outputId": "a3471414-607f-4df3-856e-1bbe0fd32586"
      },
      "outputs": [
        {
          "name": "stdout",
          "output_type": "stream",
          "text": [
            "                   name  age  height  nationality   place_of_birth  price  \\\n",
            "0          Manuel Neuer   37    1.93      Germany    Gelsenkirchen   7.00   \n",
            "1           Yann Sommer   34    1.83  Switzerland           Morges   5.00   \n",
            "2          Sven Ulreich   34    1.92      Germany       Schorndorf   0.90   \n",
            "3       Johannes Schenk   20    1.91      Germany      Schweinfurt   0.30   \n",
            "4      Matthijs de Ligt   23    1.89  Netherlands       Leiderdorp  75.00   \n",
            "..                  ...  ...     ...          ...              ...    ...   \n",
            "510        Takuma Asano   28    1.73        Japan      Komono, Mie   4.00   \n",
            "511     Philipp Hofmann   30    1.95      Germany         Arnsberg   2.50   \n",
            "512        Simon Zoller   31    1.79      Germany  Friedrichshafen   1.10   \n",
            "513    Silvère Ganvoula   26    1.91        Congo      Brazzaville   0.75   \n",
            "514  Moritz Broschinski   22    1.90      Germany     Finsterwalde   0.50   \n",
            "\n",
            "     max_price                 position  shirt_nr   foot  ...  \\\n",
            "0         45.0               Goalkeeper         1  right  ...   \n",
            "1         13.0               Goalkeeper        27  right  ...   \n",
            "2          6.0               Goalkeeper        26  right  ...   \n",
            "3          0.3               Goalkeeper        35  right  ...   \n",
            "4         75.0   Defender - Centre-Back         4  right  ...   \n",
            "..         ...                      ...       ...    ...  ...   \n",
            "510        4.0    Attack - Right Winger        11  right  ...   \n",
            "511        2.5  Attack - Centre-Forward        33   left  ...   \n",
            "512        3.0  Attack - Centre-Forward         9  right  ...   \n",
            "513        2.5  Attack - Centre-Forward        35  right  ...   \n",
            "514        0.5  Attack - Centre-Forward        29  right  ...   \n",
            "\n",
            "    Attack - Second Striker Defender - Centre-Back  Defender - Left-Back  \\\n",
            "0                     False                  False                 False   \n",
            "1                     False                  False                 False   \n",
            "2                     False                  False                 False   \n",
            "3                     False                  False                 False   \n",
            "4                     False                   True                 False   \n",
            "..                      ...                    ...                   ...   \n",
            "510                   False                  False                 False   \n",
            "511                   False                  False                 False   \n",
            "512                   False                  False                 False   \n",
            "513                   False                  False                 False   \n",
            "514                   False                  False                 False   \n",
            "\n",
            "     Defender - Right-Back  Goalkeeper  midfield - Attacking Midfield  \\\n",
            "0                    False        True                          False   \n",
            "1                    False        True                          False   \n",
            "2                    False        True                          False   \n",
            "3                    False        True                          False   \n",
            "4                    False       False                          False   \n",
            "..                     ...         ...                            ...   \n",
            "510                  False       False                          False   \n",
            "511                  False       False                          False   \n",
            "512                  False       False                          False   \n",
            "513                  False       False                          False   \n",
            "514                  False       False                          False   \n",
            "\n",
            "     midfield - Central Midfield  midfield - Defensive Midfield  \\\n",
            "0                          False                          False   \n",
            "1                          False                          False   \n",
            "2                          False                          False   \n",
            "3                          False                          False   \n",
            "4                          False                          False   \n",
            "..                           ...                            ...   \n",
            "510                        False                          False   \n",
            "511                        False                          False   \n",
            "512                        False                          False   \n",
            "513                        False                          False   \n",
            "514                        False                          False   \n",
            "\n",
            "     midfield - Left Midfield  midfield - Right Midfield  \n",
            "0                       False                      False  \n",
            "1                       False                      False  \n",
            "2                       False                      False  \n",
            "3                       False                      False  \n",
            "4                       False                      False  \n",
            "..                        ...                        ...  \n",
            "510                     False                      False  \n",
            "511                     False                      False  \n",
            "512                     False                      False  \n",
            "513                     False                      False  \n",
            "514                     False                      False  \n",
            "\n",
            "[515 rows x 172 columns]\n"
          ]
        }
      ],
      "source": [
        "#Position \n",
        "one_hot = pd.get_dummies(df2['position'])\n",
        "df2 = pd.concat([df2, one_hot], axis=1)\n",
        "print(df2)"
      ]
    },
    {
      "cell_type": "code",
      "execution_count": 71,
      "metadata": {},
      "outputs": [
        {
          "name": "stdout",
          "output_type": "stream",
          "text": [
            "                   name  age  height  nationality   place_of_birth  price  \\\n",
            "0          Manuel Neuer   37    1.93      Germany    Gelsenkirchen   7.00   \n",
            "1           Yann Sommer   34    1.83  Switzerland           Morges   5.00   \n",
            "2          Sven Ulreich   34    1.92      Germany       Schorndorf   0.90   \n",
            "3       Johannes Schenk   20    1.91      Germany      Schweinfurt   0.30   \n",
            "4      Matthijs de Ligt   23    1.89  Netherlands       Leiderdorp  75.00   \n",
            "..                  ...  ...     ...          ...              ...    ...   \n",
            "510        Takuma Asano   28    1.73        Japan      Komono, Mie   4.00   \n",
            "511     Philipp Hofmann   30    1.95      Germany         Arnsberg   2.50   \n",
            "512        Simon Zoller   31    1.79      Germany  Friedrichshafen   1.10   \n",
            "513    Silvère Ganvoula   26    1.91        Congo      Brazzaville   0.75   \n",
            "514  Moritz Broschinski   22    1.90      Germany     Finsterwalde   0.50   \n",
            "\n",
            "     max_price                 position  shirt_nr   foot  ...  \\\n",
            "0         45.0               Goalkeeper         1  right  ...   \n",
            "1         13.0               Goalkeeper        27  right  ...   \n",
            "2          6.0               Goalkeeper        26  right  ...   \n",
            "3          0.3               Goalkeeper        35  right  ...   \n",
            "4         75.0   Defender - Centre-Back         4  right  ...   \n",
            "..         ...                      ...       ...    ...  ...   \n",
            "510        4.0    Attack - Right Winger        11  right  ...   \n",
            "511        2.5  Attack - Centre-Forward        33   left  ...   \n",
            "512        3.0  Attack - Centre-Forward         9  right  ...   \n",
            "513        2.5  Attack - Centre-Forward        35  right  ...   \n",
            "514        0.5  Attack - Centre-Forward        29  right  ...   \n",
            "\n",
            "    Defender - Right-Back Goalkeeper  midfield - Attacking Midfield  \\\n",
            "0                   False       True                          False   \n",
            "1                   False       True                          False   \n",
            "2                   False       True                          False   \n",
            "3                   False       True                          False   \n",
            "4                   False      False                          False   \n",
            "..                    ...        ...                            ...   \n",
            "510                 False      False                          False   \n",
            "511                 False      False                          False   \n",
            "512                 False      False                          False   \n",
            "513                 False      False                          False   \n",
            "514                 False      False                          False   \n",
            "\n",
            "     midfield - Central Midfield  midfield - Defensive Midfield  \\\n",
            "0                          False                          False   \n",
            "1                          False                          False   \n",
            "2                          False                          False   \n",
            "3                          False                          False   \n",
            "4                          False                          False   \n",
            "..                           ...                            ...   \n",
            "510                        False                          False   \n",
            "511                        False                          False   \n",
            "512                        False                          False   \n",
            "513                        False                          False   \n",
            "514                        False                          False   \n",
            "\n",
            "     midfield - Left Midfield  midfield - Right Midfield   both   left  right  \n",
            "0                       False                      False  False  False   True  \n",
            "1                       False                      False  False  False   True  \n",
            "2                       False                      False  False  False   True  \n",
            "3                       False                      False  False  False   True  \n",
            "4                       False                      False  False  False   True  \n",
            "..                        ...                        ...    ...    ...    ...  \n",
            "510                     False                      False  False  False   True  \n",
            "511                     False                      False  False   True  False  \n",
            "512                     False                      False  False  False   True  \n",
            "513                     False                      False  False  False   True  \n",
            "514                     False                      False  False  False   True  \n",
            "\n",
            "[515 rows x 175 columns]\n"
          ]
        }
      ],
      "source": [
        "#foot \n",
        "one_hot = pd.get_dummies(df2['foot'])\n",
        "df2 = pd.concat([df2, one_hot], axis=1)\n",
        "print(df2)"
      ]
    },
    {
      "cell_type": "markdown",
      "metadata": {},
      "source": [
        "Evaluaremos la cantidad de filas y columnas que hemos generado. "
      ]
    },
    {
      "cell_type": "code",
      "execution_count": 74,
      "metadata": {},
      "outputs": [
        {
          "data": {
            "text/plain": [
              "(515, 175)"
            ]
          },
          "execution_count": 74,
          "metadata": {},
          "output_type": "execute_result"
        }
      ],
      "source": [
        "df2.shape"
      ]
    },
    {
      "cell_type": "markdown",
      "metadata": {},
      "source": [
        "Con el cambio de tipo de datos hemos alcanzdo un total de 175 columnas, ahora quitamos las columnas que son de tipo object"
      ]
    },
    {
      "cell_type": "markdown",
      "metadata": {},
      "source": [
        "Ahora generamos un mapa de calor para iddentificar la correlacion entre las columnas"
      ]
    },
    {
      "cell_type": "code",
      "execution_count": 36,
      "metadata": {},
      "outputs": [
        {
          "data": {
            "image/png": "[encoded data removed]",
            "text/plain": [
              "<Figure size 1000x800 with 2 Axes>"
            ]
          },
          "metadata": {},
          "output_type": "display_data"
        }
      ],
      "source": [
        "import seaborn as sns\n",
        "import matplotlib.pyplot as plt\n",
        "\n",
        "# Selecciona las columnas\n",
        "selected_columns = ['age', 'height', 'price', 'max_price', 'shirt_nr', 'right', 'left']\n",
        "df_selected = df3[selected_columns]\n",
        "\n",
        "# Calcula la matriz de correlación\n",
        "correlation_matrix = df_selected.corr()\n",
        "\n",
        "# Crea el mapa de calor\n",
        "plt.figure(figsize=(10, 8))\n",
        "sns.heatmap(correlation_matrix, annot=True, cmap='coolwarm')\n",
        "plt.show()"
      ]
    },
    {
      "cell_type": "markdown",
      "metadata": {},
      "source": [
        "A partir de las correlaciones generaremos graficos para analizar los datos. "
      ]
    },
    {
      "cell_type": "code",
      "execution_count": 78,
      "metadata": {},
      "outputs": [
        {
          "data": {
            "image/png": "[encoded data removed]",
            "text/plain": [
              "<Figure size 640x480 with 1 Axes>"
            ]
          },
          "metadata": {},
          "output_type": "display_data"
        }
      ],
      "source": [
        "plt.bar(df2['age'], df2['price'])\n",
        "plt.title('Gráfico de precios por edad')\n",
        "plt.xlabel('age')\n",
        "plt.ylabel('price')\n",
        "\n",
        "\n",
        "plt.xticks(np.arange(min(df2['age']), max(df2['age'])+1, 3))\n",
        "\n",
        "plt.show()"
      ]
    },
    {
      "cell_type": "markdown",
      "metadata": {},
      "source": [
        "Se identifica que los futbolistas con 19 y 20 años presentan un valor mayor en comparacion al resto. "
      ]
    },
    {
      "cell_type": "code",
      "execution_count": 82,
      "metadata": {},
      "outputs": [
        {
          "data": {
            "text/plain": [
              "Text(0, 0.5, 'Average Price')"
            ]
          },
          "execution_count": 82,
          "metadata": {},
          "output_type": "execute_result"
        },
        {
          "data": {
            "image/png": "[encoded data removed]",
            "text/plain": [
              "<Figure size 3500x1500 with 1 Axes>"
            ]
          },
          "metadata": {},
          "output_type": "display_data"
        }
      ],
      "source": [
        "Price_avg_nacionality = df2.groupby('nationality')['price'].mean().reset_index()\n",
        "\n",
        "# Ordenar en orden descendente y seleccionar las primeras 10 filas\n",
        "Price_avg_nacionality = Price_avg_nacionality.sort_values('price', ascending=False).head(10)\n",
        "\n",
        "plt.figure(figsize=(35, 15)) \n",
        "plt.bar(Price_avg_nacionality['nationality'],Price_avg_nacionality['price'] )\n",
        "plt.title('Gráfico de correlación')\n",
        "plt.xlabel('Nationality')\n",
        "plt.ylabel('Average Price')"
      ]
    },
    {
      "cell_type": "markdown",
      "metadata": {},
      "source": [
        "En esta seccion evaluaremos los modelos que nos permitan predecir los precios y precios maximos que pueden tener los jugaores dependiendo de sus atributos fisicos. "
      ]
    },
    {
      "cell_type": "code",
      "execution_count": null,
      "metadata": {},
      "outputs": [],
      "source": []
    }
  ],
  "metadata": {
    "colab": {
      "provenance": []
    },
    "kernelspec": {
      "display_name": "Python 3",
      "name": "python3"
    },
    "language_info": {
      "codemirror_mode": {
        "name": "ipython",
        "version": 3
      },
      "file_extension": ".py",
      "mimetype": "text/x-python",
      "name": "python",
      "nbconvert_exporter": "python",
      "pygments_lexer": "ipython3",
      "version": "3.11.5"
    }
  },
  "nbformat": 4,
  "nbformat_minor": 0
}
