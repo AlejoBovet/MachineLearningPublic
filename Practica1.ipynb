{
  "cells": [
    {
      "cell_type": "markdown",
      "metadata": {
        "id": "86ojpOOHp0Mk"
      },
      "source": [
        "#Practica preparacion\n",
        "\n"
      ]
    },
    {
      "cell_type": "markdown",
      "metadata": {
        "id": "bL794T5sdkGG"
      },
      "source": [
        "Se estan realizndo proceso de limpieza de datos"
      ]
    },
    {
      "cell_type": "code",
      "execution_count": 1,
      "metadata": {
        "id": "JGPx_IZjp7Rr"
      },
      "outputs": [],
      "source": [
        "#Importamos las librerías necesarias\n",
        "import pandas as pd\n",
        "import seaborn as sbn\n",
        "import numpy as np\n",
        "import matplotlib.pyplot as plt\n",
        "from seaborn import load_dataset\n",
        "import io\n",
        "import seaborn as sns"
      ]
    },
    {
      "cell_type": "code",
      "execution_count": 2,
      "metadata": {
        "colab": {
          "base_uri": "https://localhost:8080/",
          "height": 73
        },
        "id": "Y_P936Exp8mS",
        "outputId": "9206dd24-d37e-441a-b631-8ab6fec888fb"
      },
      "outputs": [
        {
          "output_type": "display_data",
          "data": {
            "text/plain": [
              "<IPython.core.display.HTML object>"
            ],
            "text/html": [
              "\n",
              "     <input type=\"file\" id=\"files-871d9af8-98fe-4f8c-9569-4f7fb42786c1\" name=\"files[]\" multiple disabled\n",
              "        style=\"border:none\" />\n",
              "     <output id=\"result-871d9af8-98fe-4f8c-9569-4f7fb42786c1\">\n",
              "      Upload widget is only available when the cell has been executed in the\n",
              "      current browser session. Please rerun this cell to enable.\n",
              "      </output>\n",
              "      <script>// Copyright 2017 Google LLC\n",
              "//\n",
              "// Licensed under the Apache License, Version 2.0 (the \"License\");\n",
              "// you may not use this file except in compliance with the License.\n",
              "// You may obtain a copy of the License at\n",
              "//\n",
              "//      http://www.apache.org/licenses/LICENSE-2.0\n",
              "//\n",
              "// Unless required by applicable law or agreed to in writing, software\n",
              "// distributed under the License is distributed on an \"AS IS\" BASIS,\n",
              "// WITHOUT WARRANTIES OR CONDITIONS OF ANY KIND, either express or implied.\n",
              "// See the License for the specific language governing permissions and\n",
              "// limitations under the License.\n",
              "\n",
              "/**\n",
              " * @fileoverview Helpers for google.colab Python module.\n",
              " */\n",
              "(function(scope) {\n",
              "function span(text, styleAttributes = {}) {\n",
              "  const element = document.createElement('span');\n",
              "  element.textContent = text;\n",
              "  for (const key of Object.keys(styleAttributes)) {\n",
              "    element.style[key] = styleAttributes[key];\n",
              "  }\n",
              "  return element;\n",
              "}\n",
              "\n",
              "// Max number of bytes which will be uploaded at a time.\n",
              "const MAX_PAYLOAD_SIZE = 100 * 1024;\n",
              "\n",
              "function _uploadFiles(inputId, outputId) {\n",
              "  const steps = uploadFilesStep(inputId, outputId);\n",
              "  const outputElement = document.getElementById(outputId);\n",
              "  // Cache steps on the outputElement to make it available for the next call\n",
              "  // to uploadFilesContinue from Python.\n",
              "  outputElement.steps = steps;\n",
              "\n",
              "  return _uploadFilesContinue(outputId);\n",
              "}\n",
              "\n",
              "// This is roughly an async generator (not supported in the browser yet),\n",
              "// where there are multiple asynchronous steps and the Python side is going\n",
              "// to poll for completion of each step.\n",
              "// This uses a Promise to block the python side on completion of each step,\n",
              "// then passes the result of the previous step as the input to the next step.\n",
              "function _uploadFilesContinue(outputId) {\n",
              "  const outputElement = document.getElementById(outputId);\n",
              "  const steps = outputElement.steps;\n",
              "\n",
              "  const next = steps.next(outputElement.lastPromiseValue);\n",
              "  return Promise.resolve(next.value.promise).then((value) => {\n",
              "    // Cache the last promise value to make it available to the next\n",
              "    // step of the generator.\n",
              "    outputElement.lastPromiseValue = value;\n",
              "    return next.value.response;\n",
              "  });\n",
              "}\n",
              "\n",
              "/**\n",
              " * Generator function which is called between each async step of the upload\n",
              " * process.\n",
              " * @param {string} inputId Element ID of the input file picker element.\n",
              " * @param {string} outputId Element ID of the output display.\n",
              " * @return {!Iterable<!Object>} Iterable of next steps.\n",
              " */\n",
              "function* uploadFilesStep(inputId, outputId) {\n",
              "  const inputElement = document.getElementById(inputId);\n",
              "  inputElement.disabled = false;\n",
              "\n",
              "  const outputElement = document.getElementById(outputId);\n",
              "  outputElement.innerHTML = '';\n",
              "\n",
              "  const pickedPromise = new Promise((resolve) => {\n",
              "    inputElement.addEventListener('change', (e) => {\n",
              "      resolve(e.target.files);\n",
              "    });\n",
              "  });\n",
              "\n",
              "  const cancel = document.createElement('button');\n",
              "  inputElement.parentElement.appendChild(cancel);\n",
              "  cancel.textContent = 'Cancel upload';\n",
              "  const cancelPromise = new Promise((resolve) => {\n",
              "    cancel.onclick = () => {\n",
              "      resolve(null);\n",
              "    };\n",
              "  });\n",
              "\n",
              "  // Wait for the user to pick the files.\n",
              "  const files = yield {\n",
              "    promise: Promise.race([pickedPromise, cancelPromise]),\n",
              "    response: {\n",
              "      action: 'starting',\n",
              "    }\n",
              "  };\n",
              "\n",
              "  cancel.remove();\n",
              "\n",
              "  // Disable the input element since further picks are not allowed.\n",
              "  inputElement.disabled = true;\n",
              "\n",
              "  if (!files) {\n",
              "    return {\n",
              "      response: {\n",
              "        action: 'complete',\n",
              "      }\n",
              "    };\n",
              "  }\n",
              "\n",
              "  for (const file of files) {\n",
              "    const li = document.createElement('li');\n",
              "    li.append(span(file.name, {fontWeight: 'bold'}));\n",
              "    li.append(span(\n",
              "        `(${file.type || 'n/a'}) - ${file.size} bytes, ` +\n",
              "        `last modified: ${\n",
              "            file.lastModifiedDate ? file.lastModifiedDate.toLocaleDateString() :\n",
              "                                    'n/a'} - `));\n",
              "    const percent = span('0% done');\n",
              "    li.appendChild(percent);\n",
              "\n",
              "    outputElement.appendChild(li);\n",
              "\n",
              "    const fileDataPromise = new Promise((resolve) => {\n",
              "      const reader = new FileReader();\n",
              "      reader.onload = (e) => {\n",
              "        resolve(e.target.result);\n",
              "      };\n",
              "      reader.readAsArrayBuffer(file);\n",
              "    });\n",
              "    // Wait for the data to be ready.\n",
              "    let fileData = yield {\n",
              "      promise: fileDataPromise,\n",
              "      response: {\n",
              "        action: 'continue',\n",
              "      }\n",
              "    };\n",
              "\n",
              "    // Use a chunked sending to avoid message size limits. See b/62115660.\n",
              "    let position = 0;\n",
              "    do {\n",
              "      const length = Math.min(fileData.byteLength - position, MAX_PAYLOAD_SIZE);\n",
              "      const chunk = new Uint8Array(fileData, position, length);\n",
              "      position += length;\n",
              "\n",
              "      const base64 = btoa(String.fromCharCode.apply(null, chunk));\n",
              "      yield {\n",
              "        response: {\n",
              "          action: 'append',\n",
              "          file: file.name,\n",
              "          data: base64,\n",
              "        },\n",
              "      };\n",
              "\n",
              "      let percentDone = fileData.byteLength === 0 ?\n",
              "          100 :\n",
              "          Math.round((position / fileData.byteLength) * 100);\n",
              "      percent.textContent = `${percentDone}% done`;\n",
              "\n",
              "    } while (position < fileData.byteLength);\n",
              "  }\n",
              "\n",
              "  // All done.\n",
              "  yield {\n",
              "    response: {\n",
              "      action: 'complete',\n",
              "    }\n",
              "  };\n",
              "}\n",
              "\n",
              "scope.google = scope.google || {};\n",
              "scope.google.colab = scope.google.colab || {};\n",
              "scope.google.colab._files = {\n",
              "  _uploadFiles,\n",
              "  _uploadFilesContinue,\n",
              "};\n",
              "})(self);\n",
              "</script> "
            ]
          },
          "metadata": {}
        },
        {
          "output_type": "stream",
          "name": "stdout",
          "text": [
            "Saving SalaryData.csv to SalaryData.csv\n"
          ]
        }
      ],
      "source": [
        "from google.colab import files\n",
        "\n",
        "uploaded = files.upload()\n",
        "Isalary = pd.read_csv(io.BytesIO(uploaded['SalaryData.csv']))\n",
        "\n",
        "\n",
        "\n"
      ]
    },
    {
      "cell_type": "code",
      "execution_count": 3,
      "metadata": {
        "id": "lJALQW8jtJC4",
        "outputId": "93c71feb-5eac-470d-ac40-1adb2004d7dd",
        "colab": {
          "base_uri": "https://localhost:8080/"
        }
      },
      "outputs": [
        {
          "output_type": "stream",
          "name": "stdout",
          "text": [
            "<class 'pandas.core.frame.DataFrame'>\n",
            "RangeIndex: 375 entries, 0 to 374\n",
            "Data columns (total 6 columns):\n",
            " #   Column               Non-Null Count  Dtype  \n",
            "---  ------               --------------  -----  \n",
            " 0   Age                  373 non-null    float64\n",
            " 1   Gender               373 non-null    object \n",
            " 2   Education Level      373 non-null    object \n",
            " 3   Job Title            373 non-null    object \n",
            " 4   Years of Experience  373 non-null    float64\n",
            " 5   Salary               373 non-null    float64\n",
            "dtypes: float64(3), object(3)\n",
            "memory usage: 17.7+ KB\n"
          ]
        }
      ],
      "source": [
        "Isalary.info()\n"
      ]
    },
    {
      "cell_type": "code",
      "execution_count": 4,
      "metadata": {
        "id": "_21TG9y_yXDv"
      },
      "outputs": [],
      "source": [
        "na_values =('na.nan','NA','NaN','nan','inf')\n",
        "Isalary = Isalary.replace(na_values,np.nan)"
      ]
    },
    {
      "cell_type": "code",
      "execution_count": 5,
      "metadata": {
        "id": "BCUFE_xOyu_x",
        "outputId": "2205b8ec-633f-4e62-8fdb-9bd36397fbc1",
        "colab": {
          "base_uri": "https://localhost:8080/"
        }
      },
      "outputs": [
        {
          "output_type": "execute_result",
          "data": {
            "text/plain": [
              "Age                    2\n",
              "Gender                 2\n",
              "Education Level        2\n",
              "Job Title              2\n",
              "Years of Experience    2\n",
              "Salary                 2\n",
              "dtype: int64"
            ]
          },
          "metadata": {},
          "execution_count": 5
        }
      ],
      "source": [
        "Isalary.isna().sum()"
      ]
    },
    {
      "cell_type": "code",
      "execution_count": 6,
      "metadata": {
        "id": "6DgWVlj-zEJZ",
        "outputId": "c5dce84c-5987-4de8-bb6a-ba584f80d229",
        "colab": {
          "base_uri": "https://localhost:8080/",
          "height": 300
        }
      },
      "outputs": [
        {
          "output_type": "execute_result",
          "data": {
            "text/plain": [
              "              Age  Years of Experience         Salary\n",
              "count  373.000000           373.000000     373.000000\n",
              "mean    37.431635            10.030831  100577.345845\n",
              "std      7.069073             6.557007   48240.013482\n",
              "min     23.000000             0.000000     350.000000\n",
              "25%     31.000000             4.000000   55000.000000\n",
              "50%     36.000000             9.000000   95000.000000\n",
              "75%     44.000000            15.000000  140000.000000\n",
              "max     53.000000            25.000000  250000.000000"
            ],
            "text/html": [
              "\n",
              "  <div id=\"df-49a27bed-533c-4d47-86a2-54e5fd6d304e\">\n",
              "    <div class=\"colab-df-container\">\n",
              "      <div>\n",
              "<style scoped>\n",
              "    .dataframe tbody tr th:only-of-type {\n",
              "        vertical-align: middle;\n",
              "    }\n",
              "\n",
              "    .dataframe tbody tr th {\n",
              "        vertical-align: top;\n",
              "    }\n",
              "\n",
              "    .dataframe thead th {\n",
              "        text-align: right;\n",
              "    }\n",
              "</style>\n",
              "<table border=\"1\" class=\"dataframe\">\n",
              "  <thead>\n",
              "    <tr style=\"text-align: right;\">\n",
              "      <th></th>\n",
              "      <th>Age</th>\n",
              "      <th>Years of Experience</th>\n",
              "      <th>Salary</th>\n",
              "    </tr>\n",
              "  </thead>\n",
              "  <tbody>\n",
              "    <tr>\n",
              "      <th>count</th>\n",
              "      <td>373.000000</td>\n",
              "      <td>373.000000</td>\n",
              "      <td>373.000000</td>\n",
              "    </tr>\n",
              "    <tr>\n",
              "      <th>mean</th>\n",
              "      <td>37.431635</td>\n",
              "      <td>10.030831</td>\n",
              "      <td>100577.345845</td>\n",
              "    </tr>\n",
              "    <tr>\n",
              "      <th>std</th>\n",
              "      <td>7.069073</td>\n",
              "      <td>6.557007</td>\n",
              "      <td>48240.013482</td>\n",
              "    </tr>\n",
              "    <tr>\n",
              "      <th>min</th>\n",
              "      <td>23.000000</td>\n",
              "      <td>0.000000</td>\n",
              "      <td>350.000000</td>\n",
              "    </tr>\n",
              "    <tr>\n",
              "      <th>25%</th>\n",
              "      <td>31.000000</td>\n",
              "      <td>4.000000</td>\n",
              "      <td>55000.000000</td>\n",
              "    </tr>\n",
              "    <tr>\n",
              "      <th>50%</th>\n",
              "      <td>36.000000</td>\n",
              "      <td>9.000000</td>\n",
              "      <td>95000.000000</td>\n",
              "    </tr>\n",
              "    <tr>\n",
              "      <th>75%</th>\n",
              "      <td>44.000000</td>\n",
              "      <td>15.000000</td>\n",
              "      <td>140000.000000</td>\n",
              "    </tr>\n",
              "    <tr>\n",
              "      <th>max</th>\n",
              "      <td>53.000000</td>\n",
              "      <td>25.000000</td>\n",
              "      <td>250000.000000</td>\n",
              "    </tr>\n",
              "  </tbody>\n",
              "</table>\n",
              "</div>\n",
              "      <button class=\"colab-df-convert\" onclick=\"convertToInteractive('df-49a27bed-533c-4d47-86a2-54e5fd6d304e')\"\n",
              "              title=\"Convert this dataframe to an interactive table.\"\n",
              "              style=\"display:none;\">\n",
              "        \n",
              "  <svg xmlns=\"http://www.w3.org/2000/svg\" height=\"24px\"viewBox=\"0 0 24 24\"\n",
              "       width=\"24px\">\n",
              "    <path d=\"M0 0h24v24H0V0z\" fill=\"none\"/>\n",
              "    <path d=\"M18.56 5.44l.94 2.06.94-2.06 2.06-.94-2.06-.94-.94-2.06-.94 2.06-2.06.94zm-11 1L8.5 8.5l.94-2.06 2.06-.94-2.06-.94L8.5 2.5l-.94 2.06-2.06.94zm10 10l.94 2.06.94-2.06 2.06-.94-2.06-.94-.94-2.06-.94 2.06-2.06.94z\"/><path d=\"M17.41 7.96l-1.37-1.37c-.4-.4-.92-.59-1.43-.59-.52 0-1.04.2-1.43.59L10.3 9.45l-7.72 7.72c-.78.78-.78 2.05 0 2.83L4 21.41c.39.39.9.59 1.41.59.51 0 1.02-.2 1.41-.59l7.78-7.78 2.81-2.81c.8-.78.8-2.07 0-2.86zM5.41 20L4 18.59l7.72-7.72 1.47 1.35L5.41 20z\"/>\n",
              "  </svg>\n",
              "      </button>\n",
              "      \n",
              "  <style>\n",
              "    .colab-df-container {\n",
              "      display:flex;\n",
              "      flex-wrap:wrap;\n",
              "      gap: 12px;\n",
              "    }\n",
              "\n",
              "    .colab-df-convert {\n",
              "      background-color: #E8F0FE;\n",
              "      border: none;\n",
              "      border-radius: 50%;\n",
              "      cursor: pointer;\n",
              "      display: none;\n",
              "      fill: #1967D2;\n",
              "      height: 32px;\n",
              "      padding: 0 0 0 0;\n",
              "      width: 32px;\n",
              "    }\n",
              "\n",
              "    .colab-df-convert:hover {\n",
              "      background-color: #E2EBFA;\n",
              "      box-shadow: 0px 1px 2px rgba(60, 64, 67, 0.3), 0px 1px 3px 1px rgba(60, 64, 67, 0.15);\n",
              "      fill: #174EA6;\n",
              "    }\n",
              "\n",
              "    [theme=dark] .colab-df-convert {\n",
              "      background-color: #3B4455;\n",
              "      fill: #D2E3FC;\n",
              "    }\n",
              "\n",
              "    [theme=dark] .colab-df-convert:hover {\n",
              "      background-color: #434B5C;\n",
              "      box-shadow: 0px 1px 3px 1px rgba(0, 0, 0, 0.15);\n",
              "      filter: drop-shadow(0px 1px 2px rgba(0, 0, 0, 0.3));\n",
              "      fill: #FFFFFF;\n",
              "    }\n",
              "  </style>\n",
              "\n",
              "      <script>\n",
              "        const buttonEl =\n",
              "          document.querySelector('#df-49a27bed-533c-4d47-86a2-54e5fd6d304e button.colab-df-convert');\n",
              "        buttonEl.style.display =\n",
              "          google.colab.kernel.accessAllowed ? 'block' : 'none';\n",
              "\n",
              "        async function convertToInteractive(key) {\n",
              "          const element = document.querySelector('#df-49a27bed-533c-4d47-86a2-54e5fd6d304e');\n",
              "          const dataTable =\n",
              "            await google.colab.kernel.invokeFunction('convertToInteractive',\n",
              "                                                     [key], {});\n",
              "          if (!dataTable) return;\n",
              "\n",
              "          const docLinkHtml = 'Like what you see? Visit the ' +\n",
              "            '<a target=\"_blank\" href=https://colab.research.google.com/notebooks/data_table.ipynb>data table notebook</a>'\n",
              "            + ' to learn more about interactive tables.';\n",
              "          element.innerHTML = '';\n",
              "          dataTable['output_type'] = 'display_data';\n",
              "          await google.colab.output.renderOutput(dataTable, element);\n",
              "          const docLink = document.createElement('div');\n",
              "          docLink.innerHTML = docLinkHtml;\n",
              "          element.appendChild(docLink);\n",
              "        }\n",
              "      </script>\n",
              "    </div>\n",
              "  </div>\n",
              "  "
            ]
          },
          "metadata": {},
          "execution_count": 6
        }
      ],
      "source": [
        "Isalary.describe()"
      ]
    },
    {
      "cell_type": "code",
      "source": [
        "Isalary.head(10)"
      ],
      "metadata": {
        "id": "V59YVFprgZCx",
        "outputId": "d91029bd-6dc4-4039-8bd3-4375b5f52fbd",
        "colab": {
          "base_uri": "https://localhost:8080/",
          "height": 363
        }
      },
      "execution_count": 7,
      "outputs": [
        {
          "output_type": "execute_result",
          "data": {
            "text/plain": [
              "    Age  Gender Education Level              Job Title  Years of Experience  \\\n",
              "0  32.0    Male      Bachelor's      Software Engineer                  5.0   \n",
              "1  28.0  Female        Master's           Data Analyst                  3.0   \n",
              "2  45.0    Male             PhD         Senior Manager                 15.0   \n",
              "3  36.0  Female      Bachelor's        Sales Associate                  7.0   \n",
              "4  52.0    Male        Master's               Director                 20.0   \n",
              "5  29.0    Male      Bachelor's      Marketing Analyst                  2.0   \n",
              "6  42.0  Female        Master's        Product Manager                 12.0   \n",
              "7  31.0    Male      Bachelor's          Sales Manager                  4.0   \n",
              "8  26.0  Female      Bachelor's  Marketing Coordinator                  1.0   \n",
              "9  38.0    Male             PhD       Senior Scientist                 10.0   \n",
              "\n",
              "     Salary  \n",
              "0   90000.0  \n",
              "1   65000.0  \n",
              "2  150000.0  \n",
              "3   60000.0  \n",
              "4  200000.0  \n",
              "5   55000.0  \n",
              "6  120000.0  \n",
              "7   80000.0  \n",
              "8   45000.0  \n",
              "9  110000.0  "
            ],
            "text/html": [
              "\n",
              "  <div id=\"df-790de2fd-032f-4760-b4d0-c620a70201b9\">\n",
              "    <div class=\"colab-df-container\">\n",
              "      <div>\n",
              "<style scoped>\n",
              "    .dataframe tbody tr th:only-of-type {\n",
              "        vertical-align: middle;\n",
              "    }\n",
              "\n",
              "    .dataframe tbody tr th {\n",
              "        vertical-align: top;\n",
              "    }\n",
              "\n",
              "    .dataframe thead th {\n",
              "        text-align: right;\n",
              "    }\n",
              "</style>\n",
              "<table border=\"1\" class=\"dataframe\">\n",
              "  <thead>\n",
              "    <tr style=\"text-align: right;\">\n",
              "      <th></th>\n",
              "      <th>Age</th>\n",
              "      <th>Gender</th>\n",
              "      <th>Education Level</th>\n",
              "      <th>Job Title</th>\n",
              "      <th>Years of Experience</th>\n",
              "      <th>Salary</th>\n",
              "    </tr>\n",
              "  </thead>\n",
              "  <tbody>\n",
              "    <tr>\n",
              "      <th>0</th>\n",
              "      <td>32.0</td>\n",
              "      <td>Male</td>\n",
              "      <td>Bachelor's</td>\n",
              "      <td>Software Engineer</td>\n",
              "      <td>5.0</td>\n",
              "      <td>90000.0</td>\n",
              "    </tr>\n",
              "    <tr>\n",
              "      <th>1</th>\n",
              "      <td>28.0</td>\n",
              "      <td>Female</td>\n",
              "      <td>Master's</td>\n",
              "      <td>Data Analyst</td>\n",
              "      <td>3.0</td>\n",
              "      <td>65000.0</td>\n",
              "    </tr>\n",
              "    <tr>\n",
              "      <th>2</th>\n",
              "      <td>45.0</td>\n",
              "      <td>Male</td>\n",
              "      <td>PhD</td>\n",
              "      <td>Senior Manager</td>\n",
              "      <td>15.0</td>\n",
              "      <td>150000.0</td>\n",
              "    </tr>\n",
              "    <tr>\n",
              "      <th>3</th>\n",
              "      <td>36.0</td>\n",
              "      <td>Female</td>\n",
              "      <td>Bachelor's</td>\n",
              "      <td>Sales Associate</td>\n",
              "      <td>7.0</td>\n",
              "      <td>60000.0</td>\n",
              "    </tr>\n",
              "    <tr>\n",
              "      <th>4</th>\n",
              "      <td>52.0</td>\n",
              "      <td>Male</td>\n",
              "      <td>Master's</td>\n",
              "      <td>Director</td>\n",
              "      <td>20.0</td>\n",
              "      <td>200000.0</td>\n",
              "    </tr>\n",
              "    <tr>\n",
              "      <th>5</th>\n",
              "      <td>29.0</td>\n",
              "      <td>Male</td>\n",
              "      <td>Bachelor's</td>\n",
              "      <td>Marketing Analyst</td>\n",
              "      <td>2.0</td>\n",
              "      <td>55000.0</td>\n",
              "    </tr>\n",
              "    <tr>\n",
              "      <th>6</th>\n",
              "      <td>42.0</td>\n",
              "      <td>Female</td>\n",
              "      <td>Master's</td>\n",
              "      <td>Product Manager</td>\n",
              "      <td>12.0</td>\n",
              "      <td>120000.0</td>\n",
              "    </tr>\n",
              "    <tr>\n",
              "      <th>7</th>\n",
              "      <td>31.0</td>\n",
              "      <td>Male</td>\n",
              "      <td>Bachelor's</td>\n",
              "      <td>Sales Manager</td>\n",
              "      <td>4.0</td>\n",
              "      <td>80000.0</td>\n",
              "    </tr>\n",
              "    <tr>\n",
              "      <th>8</th>\n",
              "      <td>26.0</td>\n",
              "      <td>Female</td>\n",
              "      <td>Bachelor's</td>\n",
              "      <td>Marketing Coordinator</td>\n",
              "      <td>1.0</td>\n",
              "      <td>45000.0</td>\n",
              "    </tr>\n",
              "    <tr>\n",
              "      <th>9</th>\n",
              "      <td>38.0</td>\n",
              "      <td>Male</td>\n",
              "      <td>PhD</td>\n",
              "      <td>Senior Scientist</td>\n",
              "      <td>10.0</td>\n",
              "      <td>110000.0</td>\n",
              "    </tr>\n",
              "  </tbody>\n",
              "</table>\n",
              "</div>\n",
              "      <button class=\"colab-df-convert\" onclick=\"convertToInteractive('df-790de2fd-032f-4760-b4d0-c620a70201b9')\"\n",
              "              title=\"Convert this dataframe to an interactive table.\"\n",
              "              style=\"display:none;\">\n",
              "        \n",
              "  <svg xmlns=\"http://www.w3.org/2000/svg\" height=\"24px\"viewBox=\"0 0 24 24\"\n",
              "       width=\"24px\">\n",
              "    <path d=\"M0 0h24v24H0V0z\" fill=\"none\"/>\n",
              "    <path d=\"M18.56 5.44l.94 2.06.94-2.06 2.06-.94-2.06-.94-.94-2.06-.94 2.06-2.06.94zm-11 1L8.5 8.5l.94-2.06 2.06-.94-2.06-.94L8.5 2.5l-.94 2.06-2.06.94zm10 10l.94 2.06.94-2.06 2.06-.94-2.06-.94-.94-2.06-.94 2.06-2.06.94z\"/><path d=\"M17.41 7.96l-1.37-1.37c-.4-.4-.92-.59-1.43-.59-.52 0-1.04.2-1.43.59L10.3 9.45l-7.72 7.72c-.78.78-.78 2.05 0 2.83L4 21.41c.39.39.9.59 1.41.59.51 0 1.02-.2 1.41-.59l7.78-7.78 2.81-2.81c.8-.78.8-2.07 0-2.86zM5.41 20L4 18.59l7.72-7.72 1.47 1.35L5.41 20z\"/>\n",
              "  </svg>\n",
              "      </button>\n",
              "      \n",
              "  <style>\n",
              "    .colab-df-container {\n",
              "      display:flex;\n",
              "      flex-wrap:wrap;\n",
              "      gap: 12px;\n",
              "    }\n",
              "\n",
              "    .colab-df-convert {\n",
              "      background-color: #E8F0FE;\n",
              "      border: none;\n",
              "      border-radius: 50%;\n",
              "      cursor: pointer;\n",
              "      display: none;\n",
              "      fill: #1967D2;\n",
              "      height: 32px;\n",
              "      padding: 0 0 0 0;\n",
              "      width: 32px;\n",
              "    }\n",
              "\n",
              "    .colab-df-convert:hover {\n",
              "      background-color: #E2EBFA;\n",
              "      box-shadow: 0px 1px 2px rgba(60, 64, 67, 0.3), 0px 1px 3px 1px rgba(60, 64, 67, 0.15);\n",
              "      fill: #174EA6;\n",
              "    }\n",
              "\n",
              "    [theme=dark] .colab-df-convert {\n",
              "      background-color: #3B4455;\n",
              "      fill: #D2E3FC;\n",
              "    }\n",
              "\n",
              "    [theme=dark] .colab-df-convert:hover {\n",
              "      background-color: #434B5C;\n",
              "      box-shadow: 0px 1px 3px 1px rgba(0, 0, 0, 0.15);\n",
              "      filter: drop-shadow(0px 1px 2px rgba(0, 0, 0, 0.3));\n",
              "      fill: #FFFFFF;\n",
              "    }\n",
              "  </style>\n",
              "\n",
              "      <script>\n",
              "        const buttonEl =\n",
              "          document.querySelector('#df-790de2fd-032f-4760-b4d0-c620a70201b9 button.colab-df-convert');\n",
              "        buttonEl.style.display =\n",
              "          google.colab.kernel.accessAllowed ? 'block' : 'none';\n",
              "\n",
              "        async function convertToInteractive(key) {\n",
              "          const element = document.querySelector('#df-790de2fd-032f-4760-b4d0-c620a70201b9');\n",
              "          const dataTable =\n",
              "            await google.colab.kernel.invokeFunction('convertToInteractive',\n",
              "                                                     [key], {});\n",
              "          if (!dataTable) return;\n",
              "\n",
              "          const docLinkHtml = 'Like what you see? Visit the ' +\n",
              "            '<a target=\"_blank\" href=https://colab.research.google.com/notebooks/data_table.ipynb>data table notebook</a>'\n",
              "            + ' to learn more about interactive tables.';\n",
              "          element.innerHTML = '';\n",
              "          dataTable['output_type'] = 'display_data';\n",
              "          await google.colab.output.renderOutput(dataTable, element);\n",
              "          const docLink = document.createElement('div');\n",
              "          docLink.innerHTML = docLinkHtml;\n",
              "          element.appendChild(docLink);\n",
              "        }\n",
              "      </script>\n",
              "    </div>\n",
              "  </div>\n",
              "  "
            ]
          },
          "metadata": {},
          "execution_count": 7
        }
      ]
    },
    {
      "cell_type": "markdown",
      "source": [
        "Se identifica las cantidades de personas que estudiaron en diferentes niveles"
      ],
      "metadata": {
        "id": "X7zBW2aBa7rF"
      }
    },
    {
      "cell_type": "code",
      "source": [
        "value_counts = Isalary['Education Level'].value_counts()\n",
        "count = value_counts[\"Bachelor's\"]\n",
        "print(count)\n"
      ],
      "metadata": {
        "id": "K7SzDEl2XzXL",
        "outputId": "a7e6f451-d395-4ec2-a1b7-396d886226e8",
        "colab": {
          "base_uri": "https://localhost:8080/"
        }
      },
      "execution_count": 8,
      "outputs": [
        {
          "output_type": "stream",
          "name": "stdout",
          "text": [
            "224\n"
          ]
        }
      ]
    },
    {
      "cell_type": "markdown",
      "source": [
        "Identificar valores en la columna 'education level'"
      ],
      "metadata": {
        "id": "XJgBo_elgssG"
      }
    },
    {
      "cell_type": "code",
      "source": [
        "valores_unicos = Isalary['Education Level'].unique()  # Obtiene los valores únicos en la columna especificada\n",
        "print(valores_unicos)  "
      ],
      "metadata": {
        "id": "EwxsU5AjggCT",
        "outputId": "7a0dea29-0a16-4a4c-bc3f-f5c9ba485947",
        "colab": {
          "base_uri": "https://localhost:8080/"
        }
      },
      "execution_count": 9,
      "outputs": [
        {
          "output_type": "stream",
          "name": "stdout",
          "text": [
            "[\"Bachelor's\" \"Master's\" 'PhD' nan]\n"
          ]
        }
      ]
    },
    {
      "cell_type": "markdown",
      "source": [
        "Se quitaran los valores nan utilizando la moda y la media para evitar que los datos se corrompan\n"
      ],
      "metadata": {
        "id": "36kkuyuihOUr"
      }
    },
    {
      "cell_type": "code",
      "source": [
        "#Age\n",
        "moda_age = Isalary['Age'].mode()[0]\n",
        "Isalary['Age'].fillna(moda_age, inplace=True)\n",
        "print(Isalary)"
      ],
      "metadata": {
        "id": "fAQ97EelhRnc",
        "outputId": "06778856-f866-40e5-d4ee-6862e7787c12",
        "colab": {
          "base_uri": "https://localhost:8080/"
        }
      },
      "execution_count": 10,
      "outputs": [
        {
          "output_type": "stream",
          "name": "stdout",
          "text": [
            "      Age  Gender Education Level                      Job Title  \\\n",
            "0    32.0    Male      Bachelor's              Software Engineer   \n",
            "1    28.0  Female        Master's                   Data Analyst   \n",
            "2    45.0    Male             PhD                 Senior Manager   \n",
            "3    36.0  Female      Bachelor's                Sales Associate   \n",
            "4    52.0    Male        Master's                       Director   \n",
            "..    ...     ...             ...                            ...   \n",
            "370  35.0  Female      Bachelor's       Senior Marketing Analyst   \n",
            "371  43.0    Male        Master's         Director of Operations   \n",
            "372  29.0  Female      Bachelor's         Junior Project Manager   \n",
            "373  34.0    Male      Bachelor's  Senior Operations Coordinator   \n",
            "374  44.0  Female             PhD        Senior Business Analyst   \n",
            "\n",
            "     Years of Experience    Salary  \n",
            "0                    5.0   90000.0  \n",
            "1                    3.0   65000.0  \n",
            "2                   15.0  150000.0  \n",
            "3                    7.0   60000.0  \n",
            "4                   20.0  200000.0  \n",
            "..                   ...       ...  \n",
            "370                  8.0   85000.0  \n",
            "371                 19.0  170000.0  \n",
            "372                  2.0   40000.0  \n",
            "373                  7.0   90000.0  \n",
            "374                 15.0  150000.0  \n",
            "\n",
            "[375 rows x 6 columns]\n"
          ]
        }
      ]
    },
    {
      "cell_type": "code",
      "source": [
        "#Gender\n",
        "moda_genero = Isalary['Gender'].mode()[0]\n",
        "Isalary['Gender'].fillna(moda_genero, inplace=True)\n",
        "print(Isalary)"
      ],
      "metadata": {
        "id": "oroct_4_iDkV",
        "outputId": "4752d927-e13e-4c36-aa1f-2adcfe462b0b",
        "colab": {
          "base_uri": "https://localhost:8080/"
        }
      },
      "execution_count": 11,
      "outputs": [
        {
          "output_type": "stream",
          "name": "stdout",
          "text": [
            "      Age  Gender Education Level                      Job Title  \\\n",
            "0    32.0    Male      Bachelor's              Software Engineer   \n",
            "1    28.0  Female        Master's                   Data Analyst   \n",
            "2    45.0    Male             PhD                 Senior Manager   \n",
            "3    36.0  Female      Bachelor's                Sales Associate   \n",
            "4    52.0    Male        Master's                       Director   \n",
            "..    ...     ...             ...                            ...   \n",
            "370  35.0  Female      Bachelor's       Senior Marketing Analyst   \n",
            "371  43.0    Male        Master's         Director of Operations   \n",
            "372  29.0  Female      Bachelor's         Junior Project Manager   \n",
            "373  34.0    Male      Bachelor's  Senior Operations Coordinator   \n",
            "374  44.0  Female             PhD        Senior Business Analyst   \n",
            "\n",
            "     Years of Experience    Salary  \n",
            "0                    5.0   90000.0  \n",
            "1                    3.0   65000.0  \n",
            "2                   15.0  150000.0  \n",
            "3                    7.0   60000.0  \n",
            "4                   20.0  200000.0  \n",
            "..                   ...       ...  \n",
            "370                  8.0   85000.0  \n",
            "371                 19.0  170000.0  \n",
            "372                  2.0   40000.0  \n",
            "373                  7.0   90000.0  \n",
            "374                 15.0  150000.0  \n",
            "\n",
            "[375 rows x 6 columns]\n"
          ]
        }
      ]
    },
    {
      "cell_type": "code",
      "source": [
        "#Education level\n",
        "moda_elevel = Isalary['Education Level'].mode()[0]\n",
        "Isalary['Education Level'].fillna(moda_elevel, inplace=True)\n",
        "print(Isalary)"
      ],
      "metadata": {
        "id": "THsAo_rIiXwo",
        "outputId": "b65394b8-bc45-4cc6-9fbe-625962458e1d",
        "colab": {
          "base_uri": "https://localhost:8080/"
        }
      },
      "execution_count": 12,
      "outputs": [
        {
          "output_type": "stream",
          "name": "stdout",
          "text": [
            "      Age  Gender Education Level                      Job Title  \\\n",
            "0    32.0    Male      Bachelor's              Software Engineer   \n",
            "1    28.0  Female        Master's                   Data Analyst   \n",
            "2    45.0    Male             PhD                 Senior Manager   \n",
            "3    36.0  Female      Bachelor's                Sales Associate   \n",
            "4    52.0    Male        Master's                       Director   \n",
            "..    ...     ...             ...                            ...   \n",
            "370  35.0  Female      Bachelor's       Senior Marketing Analyst   \n",
            "371  43.0    Male        Master's         Director of Operations   \n",
            "372  29.0  Female      Bachelor's         Junior Project Manager   \n",
            "373  34.0    Male      Bachelor's  Senior Operations Coordinator   \n",
            "374  44.0  Female             PhD        Senior Business Analyst   \n",
            "\n",
            "     Years of Experience    Salary  \n",
            "0                    5.0   90000.0  \n",
            "1                    3.0   65000.0  \n",
            "2                   15.0  150000.0  \n",
            "3                    7.0   60000.0  \n",
            "4                   20.0  200000.0  \n",
            "..                   ...       ...  \n",
            "370                  8.0   85000.0  \n",
            "371                 19.0  170000.0  \n",
            "372                  2.0   40000.0  \n",
            "373                  7.0   90000.0  \n",
            "374                 15.0  150000.0  \n",
            "\n",
            "[375 rows x 6 columns]\n"
          ]
        }
      ]
    },
    {
      "cell_type": "code",
      "source": [
        "#job title\n",
        "moda_jtitle = Isalary['Job Title'].mode()[0]\n",
        "Isalary['Job Title'].fillna(moda_jtitle, inplace=True)\n",
        "print(Isalary)"
      ],
      "metadata": {
        "id": "jqx0VtArikpX",
        "outputId": "943323ca-86ec-4703-d2cc-289ce4a028d4",
        "colab": {
          "base_uri": "https://localhost:8080/"
        }
      },
      "execution_count": 13,
      "outputs": [
        {
          "output_type": "stream",
          "name": "stdout",
          "text": [
            "      Age  Gender Education Level                      Job Title  \\\n",
            "0    32.0    Male      Bachelor's              Software Engineer   \n",
            "1    28.0  Female        Master's                   Data Analyst   \n",
            "2    45.0    Male             PhD                 Senior Manager   \n",
            "3    36.0  Female      Bachelor's                Sales Associate   \n",
            "4    52.0    Male        Master's                       Director   \n",
            "..    ...     ...             ...                            ...   \n",
            "370  35.0  Female      Bachelor's       Senior Marketing Analyst   \n",
            "371  43.0    Male        Master's         Director of Operations   \n",
            "372  29.0  Female      Bachelor's         Junior Project Manager   \n",
            "373  34.0    Male      Bachelor's  Senior Operations Coordinator   \n",
            "374  44.0  Female             PhD        Senior Business Analyst   \n",
            "\n",
            "     Years of Experience    Salary  \n",
            "0                    5.0   90000.0  \n",
            "1                    3.0   65000.0  \n",
            "2                   15.0  150000.0  \n",
            "3                    7.0   60000.0  \n",
            "4                   20.0  200000.0  \n",
            "..                   ...       ...  \n",
            "370                  8.0   85000.0  \n",
            "371                 19.0  170000.0  \n",
            "372                  2.0   40000.0  \n",
            "373                  7.0   90000.0  \n",
            "374                 15.0  150000.0  \n",
            "\n",
            "[375 rows x 6 columns]\n"
          ]
        }
      ]
    },
    {
      "cell_type": "code",
      "source": [
        "#Years Experience\n",
        "moda_yexp = Isalary['Years of Experience'].mode()[0]\n",
        "Isalary['Years of Experience'].fillna(moda_yexp, inplace=True)\n",
        "print(Isalary)"
      ],
      "metadata": {
        "id": "lRBXuLsVi94r",
        "outputId": "02541246-1368-4cb8-dd0b-5c9a4da3d77d",
        "colab": {
          "base_uri": "https://localhost:8080/"
        }
      },
      "execution_count": 14,
      "outputs": [
        {
          "output_type": "stream",
          "name": "stdout",
          "text": [
            "      Age  Gender Education Level                      Job Title  \\\n",
            "0    32.0    Male      Bachelor's              Software Engineer   \n",
            "1    28.0  Female        Master's                   Data Analyst   \n",
            "2    45.0    Male             PhD                 Senior Manager   \n",
            "3    36.0  Female      Bachelor's                Sales Associate   \n",
            "4    52.0    Male        Master's                       Director   \n",
            "..    ...     ...             ...                            ...   \n",
            "370  35.0  Female      Bachelor's       Senior Marketing Analyst   \n",
            "371  43.0    Male        Master's         Director of Operations   \n",
            "372  29.0  Female      Bachelor's         Junior Project Manager   \n",
            "373  34.0    Male      Bachelor's  Senior Operations Coordinator   \n",
            "374  44.0  Female             PhD        Senior Business Analyst   \n",
            "\n",
            "     Years of Experience    Salary  \n",
            "0                    5.0   90000.0  \n",
            "1                    3.0   65000.0  \n",
            "2                   15.0  150000.0  \n",
            "3                    7.0   60000.0  \n",
            "4                   20.0  200000.0  \n",
            "..                   ...       ...  \n",
            "370                  8.0   85000.0  \n",
            "371                 19.0  170000.0  \n",
            "372                  2.0   40000.0  \n",
            "373                  7.0   90000.0  \n",
            "374                 15.0  150000.0  \n",
            "\n",
            "[375 rows x 6 columns]\n"
          ]
        }
      ]
    },
    {
      "cell_type": "code",
      "source": [
        "#salary\n",
        "media_salary = Isalary['Salary'].mean()\n",
        "Isalary['Salary'].fillna(media_salary, inplace=True)\n",
        "print(Isalary)"
      ],
      "metadata": {
        "id": "lmIkB9sjjIAV",
        "outputId": "3283970a-a5b0-4c92-ae5a-4fe380a3d8ac",
        "colab": {
          "base_uri": "https://localhost:8080/"
        }
      },
      "execution_count": 15,
      "outputs": [
        {
          "output_type": "stream",
          "name": "stdout",
          "text": [
            "      Age  Gender Education Level                      Job Title  \\\n",
            "0    32.0    Male      Bachelor's              Software Engineer   \n",
            "1    28.0  Female        Master's                   Data Analyst   \n",
            "2    45.0    Male             PhD                 Senior Manager   \n",
            "3    36.0  Female      Bachelor's                Sales Associate   \n",
            "4    52.0    Male        Master's                       Director   \n",
            "..    ...     ...             ...                            ...   \n",
            "370  35.0  Female      Bachelor's       Senior Marketing Analyst   \n",
            "371  43.0    Male        Master's         Director of Operations   \n",
            "372  29.0  Female      Bachelor's         Junior Project Manager   \n",
            "373  34.0    Male      Bachelor's  Senior Operations Coordinator   \n",
            "374  44.0  Female             PhD        Senior Business Analyst   \n",
            "\n",
            "     Years of Experience    Salary  \n",
            "0                    5.0   90000.0  \n",
            "1                    3.0   65000.0  \n",
            "2                   15.0  150000.0  \n",
            "3                    7.0   60000.0  \n",
            "4                   20.0  200000.0  \n",
            "..                   ...       ...  \n",
            "370                  8.0   85000.0  \n",
            "371                 19.0  170000.0  \n",
            "372                  2.0   40000.0  \n",
            "373                  7.0   90000.0  \n",
            "374                 15.0  150000.0  \n",
            "\n",
            "[375 rows x 6 columns]\n"
          ]
        }
      ]
    },
    {
      "cell_type": "markdown",
      "source": [
        "Se identificaran los 5 trabajos que mas se repiten dentro de los datos a analizar "
      ],
      "metadata": {
        "id": "8-9vF1rS8WtT"
      }
    },
    {
      "cell_type": "code",
      "source": [
        "top_5_frecuencias = Isalary['Job Title'].value_counts().head(5)\n",
        "\n",
        "print(top_5_frecuencias)"
      ],
      "metadata": {
        "id": "rcx978h38gk0",
        "outputId": "6796aeb0-6189-415c-8ddc-d788b0fea046",
        "colab": {
          "base_uri": "https://localhost:8080/"
        }
      },
      "execution_count": 16,
      "outputs": [
        {
          "output_type": "stream",
          "name": "stdout",
          "text": [
            "Director of Marketing       14\n",
            "Director of Operations      11\n",
            "Senior Business Analyst     10\n",
            "Senior Marketing Analyst     9\n",
            "Senior Marketing Manager     9\n",
            "Name: Job Title, dtype: int64\n"
          ]
        }
      ]
    },
    {
      "cell_type": "markdown",
      "source": [
        "Se detectaron 3 tipos de datos de tipo object, los cuales no permiten realizar los modelos esperados por lo cual se relizara trasformacion del tipo de dato y si es el caso exclusion del dato."
      ],
      "metadata": {
        "id": "yBPvoOgNd4yM"
      }
    },
    {
      "cell_type": "markdown",
      "source": [
        "Se realiza one hot encoding para los datos de 'gender'"
      ],
      "metadata": {
        "id": "UcGM8q1werd2"
      }
    },
    {
      "cell_type": "code",
      "source": [
        "df1 = Isalary\n",
        "\n",
        "one_hot = pd.get_dummies(df1['Gender'])\n",
        "df = pd.concat([df1, one_hot], axis=1)\n",
        "df4 = df.drop('Gender', axis=1)\n",
        "print(df4)"
      ],
      "metadata": {
        "id": "S-x_xPjkeRSv",
        "outputId": "6bfda17a-833f-4973-bebb-858232b3cd79",
        "colab": {
          "base_uri": "https://localhost:8080/"
        }
      },
      "execution_count": 17,
      "outputs": [
        {
          "output_type": "stream",
          "name": "stdout",
          "text": [
            "      Age Education Level                      Job Title  Years of Experience  \\\n",
            "0    32.0      Bachelor's              Software Engineer                  5.0   \n",
            "1    28.0        Master's                   Data Analyst                  3.0   \n",
            "2    45.0             PhD                 Senior Manager                 15.0   \n",
            "3    36.0      Bachelor's                Sales Associate                  7.0   \n",
            "4    52.0        Master's                       Director                 20.0   \n",
            "..    ...             ...                            ...                  ...   \n",
            "370  35.0      Bachelor's       Senior Marketing Analyst                  8.0   \n",
            "371  43.0        Master's         Director of Operations                 19.0   \n",
            "372  29.0      Bachelor's         Junior Project Manager                  2.0   \n",
            "373  34.0      Bachelor's  Senior Operations Coordinator                  7.0   \n",
            "374  44.0             PhD        Senior Business Analyst                 15.0   \n",
            "\n",
            "       Salary  Female  Male  \n",
            "0     90000.0       0     1  \n",
            "1     65000.0       1     0  \n",
            "2    150000.0       0     1  \n",
            "3     60000.0       1     0  \n",
            "4    200000.0       0     1  \n",
            "..        ...     ...   ...  \n",
            "370   85000.0       1     0  \n",
            "371  170000.0       0     1  \n",
            "372   40000.0       1     0  \n",
            "373   90000.0       0     1  \n",
            "374  150000.0       1     0  \n",
            "\n",
            "[375 rows x 7 columns]\n"
          ]
        }
      ]
    },
    {
      "cell_type": "markdown",
      "source": [
        "Para 'Education level' se utlizara level encoding debido a que los datos de nivel educacional poseen un orden jerarquico donde:\n",
        "Bachelor's = 0\n",
        "Master´s = 1\n",
        "PhD = 2"
      ],
      "metadata": {
        "id": "1SHVRBRXj47p"
      }
    },
    {
      "cell_type": "code",
      "source": [
        "codificacion = {\"Bachelor's\": 0, \"Master's\": 1, 'PhD': 2}\n",
        "df4['Educacion Level'] = df4['Education Level'].map(codificacion)\n",
        "print(df4)"
      ],
      "metadata": {
        "id": "6hh88U54kO70",
        "outputId": "4362a9b8-5f7a-4041-f271-3ec66e4a6db2",
        "colab": {
          "base_uri": "https://localhost:8080/"
        }
      },
      "execution_count": 18,
      "outputs": [
        {
          "output_type": "stream",
          "name": "stdout",
          "text": [
            "      Age Education Level                      Job Title  Years of Experience  \\\n",
            "0    32.0      Bachelor's              Software Engineer                  5.0   \n",
            "1    28.0        Master's                   Data Analyst                  3.0   \n",
            "2    45.0             PhD                 Senior Manager                 15.0   \n",
            "3    36.0      Bachelor's                Sales Associate                  7.0   \n",
            "4    52.0        Master's                       Director                 20.0   \n",
            "..    ...             ...                            ...                  ...   \n",
            "370  35.0      Bachelor's       Senior Marketing Analyst                  8.0   \n",
            "371  43.0        Master's         Director of Operations                 19.0   \n",
            "372  29.0      Bachelor's         Junior Project Manager                  2.0   \n",
            "373  34.0      Bachelor's  Senior Operations Coordinator                  7.0   \n",
            "374  44.0             PhD        Senior Business Analyst                 15.0   \n",
            "\n",
            "       Salary  Female  Male  Educacion Level  \n",
            "0     90000.0       0     1                0  \n",
            "1     65000.0       1     0                1  \n",
            "2    150000.0       0     1                2  \n",
            "3     60000.0       1     0                0  \n",
            "4    200000.0       0     1                1  \n",
            "..        ...     ...   ...              ...  \n",
            "370   85000.0       1     0                0  \n",
            "371  170000.0       0     1                1  \n",
            "372   40000.0       1     0                0  \n",
            "373   90000.0       0     1                0  \n",
            "374  150000.0       1     0                2  \n",
            "\n",
            "[375 rows x 8 columns]\n"
          ]
        }
      ]
    },
    {
      "cell_type": "markdown",
      "source": [
        "Y para 'job title' se utilizara one hot encoding"
      ],
      "metadata": {
        "id": "KwKciuu6mXmt"
      }
    },
    {
      "cell_type": "code",
      "source": [
        "\n",
        "one_hot = pd.get_dummies(df4['Job Title'])\n",
        "df4 = pd.concat([df4, one_hot], axis=1)\n",
        "df6 = df4.drop('Job Title', axis=1)\n",
        "print(df6)"
      ],
      "metadata": {
        "id": "93q-qD5umUb4",
        "outputId": "9fa1535b-5d17-46e9-c2e9-d0a2932ca46e",
        "colab": {
          "base_uri": "https://localhost:8080/"
        }
      },
      "execution_count": 19,
      "outputs": [
        {
          "output_type": "stream",
          "name": "stdout",
          "text": [
            "      Age Education Level  Years of Experience    Salary  Female  Male  \\\n",
            "0    32.0      Bachelor's                  5.0   90000.0       0     1   \n",
            "1    28.0        Master's                  3.0   65000.0       1     0   \n",
            "2    45.0             PhD                 15.0  150000.0       0     1   \n",
            "3    36.0      Bachelor's                  7.0   60000.0       1     0   \n",
            "4    52.0        Master's                 20.0  200000.0       0     1   \n",
            "..    ...             ...                  ...       ...     ...   ...   \n",
            "370  35.0      Bachelor's                  8.0   85000.0       1     0   \n",
            "371  43.0        Master's                 19.0  170000.0       0     1   \n",
            "372  29.0      Bachelor's                  2.0   40000.0       1     0   \n",
            "373  34.0      Bachelor's                  7.0   90000.0       0     1   \n",
            "374  44.0             PhD                 15.0  150000.0       1     0   \n",
            "\n",
            "     Educacion Level  Account Manager  Accountant  Administrative Assistant  \\\n",
            "0                  0                0           0                         0   \n",
            "1                  1                0           0                         0   \n",
            "2                  2                0           0                         0   \n",
            "3                  0                0           0                         0   \n",
            "4                  1                0           0                         0   \n",
            "..               ...              ...         ...                       ...   \n",
            "370                0                0           0                         0   \n",
            "371                1                0           0                         0   \n",
            "372                0                0           0                         0   \n",
            "373                0                0           0                         0   \n",
            "374                2                0           0                         0   \n",
            "\n",
            "     ...  Supply Chain Manager  Technical Recruiter  \\\n",
            "0    ...                     0                    0   \n",
            "1    ...                     0                    0   \n",
            "2    ...                     0                    0   \n",
            "3    ...                     0                    0   \n",
            "4    ...                     0                    0   \n",
            "..   ...                   ...                  ...   \n",
            "370  ...                     0                    0   \n",
            "371  ...                     0                    0   \n",
            "372  ...                     0                    0   \n",
            "373  ...                     0                    0   \n",
            "374  ...                     0                    0   \n",
            "\n",
            "     Technical Support Specialist  Technical Writer  Training Specialist  \\\n",
            "0                               0                 0                    0   \n",
            "1                               0                 0                    0   \n",
            "2                               0                 0                    0   \n",
            "3                               0                 0                    0   \n",
            "4                               0                 0                    0   \n",
            "..                            ...               ...                  ...   \n",
            "370                             0                 0                    0   \n",
            "371                             0                 0                    0   \n",
            "372                             0                 0                    0   \n",
            "373                             0                 0                    0   \n",
            "374                             0                 0                    0   \n",
            "\n",
            "     UX Designer  UX Researcher  VP of Finance  VP of Operations  \\\n",
            "0              0              0              0                 0   \n",
            "1              0              0              0                 0   \n",
            "2              0              0              0                 0   \n",
            "3              0              0              0                 0   \n",
            "4              0              0              0                 0   \n",
            "..           ...            ...            ...               ...   \n",
            "370            0              0              0                 0   \n",
            "371            0              0              0                 0   \n",
            "372            0              0              0                 0   \n",
            "373            0              0              0                 0   \n",
            "374            0              0              0                 0   \n",
            "\n",
            "     Web Developer  \n",
            "0                0  \n",
            "1                0  \n",
            "2                0  \n",
            "3                0  \n",
            "4                0  \n",
            "..             ...  \n",
            "370              0  \n",
            "371              0  \n",
            "372              0  \n",
            "373              0  \n",
            "374              0  \n",
            "\n",
            "[375 rows x 181 columns]\n"
          ]
        }
      ]
    },
    {
      "cell_type": "markdown",
      "source": [
        "Validacion de limpieza y transformcion"
      ],
      "metadata": {
        "id": "SZLiI-VEnQ4O"
      }
    },
    {
      "cell_type": "code",
      "source": [
        "df4.isna().sum()"
      ],
      "metadata": {
        "id": "HM3xSMgQnNWh",
        "outputId": "1713f815-7f9d-433b-8583-6fbc8cb8ee79",
        "colab": {
          "base_uri": "https://localhost:8080/"
        }
      },
      "execution_count": 20,
      "outputs": [
        {
          "output_type": "execute_result",
          "data": {
            "text/plain": [
              "Age                    0\n",
              "Education Level        0\n",
              "Job Title              0\n",
              "Years of Experience    0\n",
              "Salary                 0\n",
              "                      ..\n",
              "UX Designer            0\n",
              "UX Researcher          0\n",
              "VP of Finance          0\n",
              "VP of Operations       0\n",
              "Web Developer          0\n",
              "Length: 182, dtype: int64"
            ]
          },
          "metadata": {},
          "execution_count": 20
        }
      ]
    },
    {
      "cell_type": "markdown",
      "source": [
        "Se evaluaran las extraxiones de outliers utlilizando los graficos de boxplot"
      ],
      "metadata": {
        "id": "h6qAwEKJdHop"
      }
    },
    {
      "cell_type": "code",
      "source": [
        "#Age\n",
        "df4.boxplot(column=['Age'])\n",
        "plt.show()"
      ],
      "metadata": {
        "id": "cwqN-Vm5dMew",
        "outputId": "d201804c-8995-475c-c158-b293656432df",
        "colab": {
          "base_uri": "https://localhost:8080/",
          "height": 430
        }
      },
      "execution_count": 21,
      "outputs": [
        {
          "output_type": "display_data",
          "data": {
            "text/plain": [
              "<Figure size 640x480 with 1 Axes>"
            ],
            "image/png": "[encoded data removed]"
          },
          "metadata": {}
        }
      ]
    },
    {
      "cell_type": "code",
      "source": [
        "#Salary\n",
        "df4.boxplot(column=['Salary'])\n",
        "plt.show()"
      ],
      "metadata": {
        "id": "aNXGqQR_dOdN",
        "outputId": "589374d0-59e2-4f79-8371-5fd83cdf0b2d",
        "colab": {
          "base_uri": "https://localhost:8080/",
          "height": 430
        }
      },
      "execution_count": 22,
      "outputs": [
        {
          "output_type": "display_data",
          "data": {
            "text/plain": [
              "<Figure size 640x480 with 1 Axes>"
            ],
            "image/png": "[encoded data removed]"
          },
          "metadata": {}
        }
      ]
    },
    {
      "cell_type": "code",
      "source": [
        "#Years experience\n",
        "df4.boxplot(column=['Years of Experience'])\n",
        "plt.show()"
      ],
      "metadata": {
        "id": "aKT-D3YIdP0x",
        "outputId": "edb1def0-9b1b-447c-c668-0b1b05b17941",
        "colab": {
          "base_uri": "https://localhost:8080/",
          "height": 430
        }
      },
      "execution_count": 23,
      "outputs": [
        {
          "output_type": "display_data",
          "data": {
            "text/plain": [
              "<Figure size 640x480 with 1 Axes>"
            ],
            "image/png": "[encoded data removed]"
          },
          "metadata": {}
        }
      ]
    },
    {
      "cell_type": "markdown",
      "source": [
        "Tras el analisis de estos tres datos a travez de los diagrama de cajas se determino que no existen outliers en la datos que se estan trabajando"
      ],
      "metadata": {
        "id": "h5Aff_SW4MSM"
      }
    },
    {
      "cell_type": "markdown",
      "source": [
        "Se evaluaran las correlaciones entro los datos del data"
      ],
      "metadata": {
        "id": "qjxddk8ZUrWp"
      }
    },
    {
      "cell_type": "code",
      "source": [
        "\n",
        "corr_matrix = df4.corr()\n",
        "corr_matrix[\"Salary\"].sort_values(ascending=False)"
      ],
      "metadata": {
        "id": "N14sg8oJUym-",
        "outputId": "0c7b16ed-bbbe-49f9-dbc1-9ea0a3c6b338",
        "colab": {
          "base_uri": "https://localhost:8080/"
        }
      },
      "execution_count": 24,
      "outputs": [
        {
          "output_type": "stream",
          "name": "stderr",
          "text": [
            "<ipython-input-24-287e923dd8c2>:1: FutureWarning: The default value of numeric_only in DataFrame.corr is deprecated. In a future version, it will default to False. Select only valid columns or specify the value of numeric_only to silence this warning.\n",
            "  corr_matrix = df4.corr()\n"
          ]
        },
        {
          "output_type": "execute_result",
          "data": {
            "text/plain": [
              "Salary                                   1.000000\n",
              "Years of Experience                      0.926629\n",
              "Age                                      0.921368\n",
              "Educacion Level                          0.669389\n",
              "Director of Marketing                    0.264388\n",
              "                                           ...   \n",
              "Junior Sales Representative             -0.130915\n",
              "Junior Financial Analyst                -0.136982\n",
              "Junior Marketing Coordinator            -0.143078\n",
              "Junior Business Analyst                 -0.155419\n",
              "Junior Business Development Associate   -0.171839\n",
              "Name: Salary, Length: 180, dtype: float64"
            ]
          },
          "metadata": {},
          "execution_count": 24
        }
      ]
    },
    {
      "cell_type": "markdown",
      "source": [
        "Ahora se desplegara un mapa de calor para entregar otra forma de presentar las correlaciones"
      ],
      "metadata": {
        "id": "kp9i3KjZVo9P"
      }
    },
    {
      "cell_type": "code",
      "source": [
        "subset = df4[['Salary','Age','Years of Experience','Educacion Level','Male','Female']]\n",
        "correlation_matrix = subset.corr()\n",
        "sns.heatmap(correlation_matrix, annot=True, cmap='coolwarm')\n",
        "plt.title('Mapa de calor de correlación')\n",
        "plt.show()\n"
      ],
      "metadata": {
        "id": "W9w_s9g1V1_m",
        "outputId": "cddfef02-bd7b-47ad-af45-3bb604230052",
        "colab": {
          "base_uri": "https://localhost:8080/",
          "height": 575
        }
      },
      "execution_count": 25,
      "outputs": [
        {
          "output_type": "display_data",
          "data": {
            "text/plain": [
              "<Figure size 640x480 with 2 Axes>"
            ],
            "image/png": "[encoded data removed]"
          },
          "metadata": {}
        }
      ]
    },
    {
      "cell_type": "markdown",
      "source": [
        "Grafico de barras donde la variable independiente es la edas(years) y la dependiente el sueldo(salary)"
      ],
      "metadata": {
        "id": "Hui80QP_gUls"
      }
    },
    {
      "cell_type": "code",
      "source": [
        "plt.bar(df4['Age'],df4['Salary'] )\n",
        "plt.title('Gráfico de Barras')\n",
        "plt.ylabel('Salary')\n",
        "plt.xlabel('Age')"
      ],
      "metadata": {
        "id": "88B4SDGx4qUf",
        "outputId": "a87a2372-e9bf-4e51-a586-acbb896376b6",
        "colab": {
          "base_uri": "https://localhost:8080/",
          "height": 489
        }
      },
      "execution_count": 26,
      "outputs": [
        {
          "output_type": "execute_result",
          "data": {
            "text/plain": [
              "Text(0.5, 0, 'Age')"
            ]
          },
          "metadata": {},
          "execution_count": 26
        },
        {
          "output_type": "display_data",
          "data": {
            "text/plain": [
              "<Figure size 640x480 with 1 Axes>"
            ],
            "image/png": "[encoded data removed]"
          },
          "metadata": {}
        }
      ]
    },
    {
      "cell_type": "markdown",
      "source": [
        "Como se visualizo anteriormente en el mapa de calor, la tendencia indica y la correlacion positiva indica que mientras mas años tengan los trabajadores(Age) su salario(salary) aumenta."
      ],
      "metadata": {
        "id": "reRsgITQ5RiX"
      }
    },
    {
      "cell_type": "markdown",
      "source": [
        "Grafico de barras donde la variable  dependiente (y) es salary y la independiente (x) años de experiencia\n",
        "\n"
      ],
      "metadata": {
        "id": "lQ1-NlL_5qnq"
      }
    },
    {
      "cell_type": "code",
      "source": [
        "plt.bar(df4['Years of Experience'],df4['Salary'] )\n",
        "plt.title('Gráfico de Barras')\n",
        "plt.ylabel('Salary')\n",
        "plt.xlabel('Years of Experience')"
      ],
      "metadata": {
        "id": "on4-0Cyc5xZ5",
        "outputId": "2aeb9705-ca99-4ef8-c904-9e8440a2569e",
        "colab": {
          "base_uri": "https://localhost:8080/",
          "height": 489
        }
      },
      "execution_count": 27,
      "outputs": [
        {
          "output_type": "execute_result",
          "data": {
            "text/plain": [
              "Text(0.5, 0, 'Years of Experience')"
            ]
          },
          "metadata": {},
          "execution_count": 27
        },
        {
          "output_type": "display_data",
          "data": {
            "text/plain": [
              "<Figure size 640x480 with 1 Axes>"
            ],
            "image/png": "[encoded data removed]"
          },
          "metadata": {}
        }
      ]
    },
    {
      "cell_type": "markdown",
      "source": [
        "Del grafico anterior se puede inferir que los años de experiencia en el area siguen la misma tendencia que la edad de los trabajadores"
      ],
      "metadata": {
        "id": "oxdFHe-l7Vdd"
      }
    },
    {
      "cell_type": "markdown",
      "source": [
        "grafico de dispersion para el salario de un director de marketing a travez de los años de experiencia\n"
      ],
      "metadata": {
        "id": "DM0uEybZ9X8C"
      }
    },
    {
      "cell_type": "code",
      "source": [
        "\n",
        "puesto_especifico = 'Director of Marketing'\n",
        "df_filtrado = df4[df4['Job Title'] == puesto_especifico]\n",
        "\n",
        "plt.scatter(df_filtrado['Years of Experience'], df_filtrado['Salary'], c='blue', alpha=0.5)\n",
        "\n",
        "\n",
        "plt.xlabel('Años de experiencia')\n",
        "plt.ylabel('Sueldo')\n",
        "plt.title('Relación entre años de experiencia y sueldo')\n",
        "\n",
        "\n",
        "plt.show()"
      ],
      "metadata": {
        "id": "HVsIV6_S9YRe",
        "outputId": "e0ff881f-86e2-4570-e5fb-e408ce2468d3",
        "colab": {
          "base_uri": "https://localhost:8080/",
          "height": 472
        }
      },
      "execution_count": 28,
      "outputs": [
        {
          "output_type": "display_data",
          "data": {
            "text/plain": [
              "<Figure size 640x480 with 1 Axes>"
            ],
            "image/png": "[encoded data removed]"
          },
          "metadata": {}
        }
      ]
    },
    {
      "cell_type": "markdown",
      "source": [
        "Grafico barras de sueldo (y) por Education level"
      ],
      "metadata": {
        "id": "Qx-z6tBVj-cX"
      }
    },
    {
      "cell_type": "code",
      "source": [
        "plt.bar(df4['Educacion Level'],df4['Salary'] )\n",
        "plt.title('Gráfico de Barras')\n",
        "plt.ylabel('Salary')\n",
        "plt.xlabel('Nivel educacional')"
      ],
      "metadata": {
        "id": "B8WmFFMEkGhz",
        "outputId": "fa40cecc-dfe7-4e23-90f1-8b745158f779",
        "colab": {
          "base_uri": "https://localhost:8080/",
          "height": 489
        }
      },
      "execution_count": 30,
      "outputs": [
        {
          "output_type": "execute_result",
          "data": {
            "text/plain": [
              "Text(0.5, 0, 'Nivel educacional')"
            ]
          },
          "metadata": {},
          "execution_count": 30
        },
        {
          "output_type": "display_data",
          "data": {
            "text/plain": [
              "<Figure size 640x480 with 1 Axes>"
            ],
            "image/png": "[encoded data removed]"
          },
          "metadata": {}
        }
      ]
    },
    {
      "cell_type": "markdown",
      "source": [
        "# Modelo de clasificacion"
      ],
      "metadata": {
        "id": "BH1X1i49BQ_r"
      }
    },
    {
      "cell_type": "code",
      "source": [
        "from sklearn.datasets import fetch_california_housing\n",
        "from sklearn.model_selection import train_test_split #permkte realizar divicion entre test\n",
        "from sklearn.linear_model import LinearRegression #para regresion linela\n",
        "from sklearn.svm import SVR #subvector regtecion\n",
        "from sklearn.tree import DecisionTreeRegressor, plot_tree #para un dibujo\n",
        "from sklearn.ensemble import RandomForestRegressor\n",
        "from sklearn.metrics import mean_absolute_error, mean_squared_error, r2_score #error absoluto medio,cuadratico medio y score"
      ],
      "metadata": {
        "id": "DDfVzPaXBl8J"
      },
      "execution_count": 66,
      "outputs": []
    },
    {
      "cell_type": "markdown",
      "source": [
        "Ajustar datos"
      ],
      "metadata": {
        "id": "wJub_M8gqvOb"
      }
    },
    {
      "cell_type": "code",
      "source": [
        "df7 = df4"
      ],
      "metadata": {
        "id": "KEzluzeStOtj"
      },
      "execution_count": 48,
      "outputs": []
    },
    {
      "cell_type": "code",
      "source": [
        "#datos_columna = df7['Salary'].values.reshape(-1, 1)\n",
        "#datos_columna = df7['Salary'].to_frame()\n",
        "#datos_columna = df7.assign(new_salary=df7['Salary'])\n",
        "import pandas as pd\n",
        "import numpy as np\n",
        "columna = ['Age','Years of Experience','Educacion Level']\n",
        "matriz_X= df7[columna].to_numpy()\n"
      ],
      "metadata": {
        "id": "4KCZvkKfqw2H"
      },
      "execution_count": 98,
      "outputs": []
    },
    {
      "cell_type": "code",
      "source": [
        "#datos_columna = df7['Age'].values.reshape(-1, 1)\n",
        "#datos_columna = df7['Age'].to_frame()\n",
        "#datos_columna = df7.assign(new_Age=df7['Age'])\n",
        "columna = df7['Salary']\n",
        "matriz_y=columna.values.reshape(-1,1)"
      ],
      "metadata": {
        "id": "O62fyrYXuAk8"
      },
      "execution_count": 99,
      "outputs": []
    },
    {
      "cell_type": "markdown",
      "source": [
        "Se divide la data entre train  y test"
      ],
      "metadata": {
        "id": "j3J4DpIHoGHa"
      }
    },
    {
      "cell_type": "code",
      "source": [
        "X = matriz_X\n",
        "y = matriz_y\n",
        "\n",
        "X_train, X_test, y_train, y_test = train_test_split(X, y, test_size=0.2)"
      ],
      "metadata": {
        "id": "iq1O03evoKvT"
      },
      "execution_count": 100,
      "outputs": []
    },
    {
      "cell_type": "code",
      "source": [
        "#Crea Modelos\n",
        "lr = LinearRegression()\n",
        "svr = SVR()\n",
        "dtr = DecisionTreeRegressor()\n",
        "rfr = RandomForestRegressor()"
      ],
      "metadata": {
        "id": "WwueLoixqHfa"
      },
      "execution_count": 101,
      "outputs": []
    },
    {
      "cell_type": "code",
      "source": [
        "# Entrena Modelos con la data de Train\n",
        "lr.fit(X_train, y_train)\n",
        "svr.fit(X_train, y_train)\n",
        "dtr.fit(X_train, y_train)\n",
        "rfr.fit(X_train, y_train)\n",
        "\n",
        "# Plot Árbol de Decisión\n",
        "#plot_tree(dtr)"
      ],
      "metadata": {
        "id": "zrEflmt8qLI9",
        "outputId": "9a0bd0ed-ba6b-4e2f-c7f5-c85016437ec4",
        "colab": {
          "base_uri": "https://localhost:8080/",
          "height": 164
        }
      },
      "execution_count": 102,
      "outputs": [
        {
          "output_type": "stream",
          "name": "stderr",
          "text": [
            "/usr/local/lib/python3.10/dist-packages/sklearn/utils/validation.py:1143: DataConversionWarning: A column-vector y was passed when a 1d array was expected. Please change the shape of y to (n_samples, ), for example using ravel().\n",
            "  y = column_or_1d(y, warn=True)\n",
            "<ipython-input-102-8c9ce09e0cd2>:5: DataConversionWarning: A column-vector y was passed when a 1d array was expected. Please change the shape of y to (n_samples,), for example using ravel().\n",
            "  rfr.fit(X_train, y_train)\n"
          ]
        },
        {
          "output_type": "execute_result",
          "data": {
            "text/plain": [
              "RandomForestRegressor()"
            ],
            "text/html": [
              "<style>#sk-container-id-5 {color: black;background-color: white;}#sk-container-id-5 pre{padding: 0;}#sk-container-id-5 div.sk-toggleable {background-color: white;}#sk-container-id-5 label.sk-toggleable__label {cursor: pointer;display: block;width: 100%;margin-bottom: 0;padding: 0.3em;box-sizing: border-box;text-align: center;}#sk-container-id-5 label.sk-toggleable__label-arrow:before {content: \"▸\";float: left;margin-right: 0.25em;color: #696969;}#sk-container-id-5 label.sk-toggleable__label-arrow:hover:before {color: black;}#sk-container-id-5 div.sk-estimator:hover label.sk-toggleable__label-arrow:before {color: black;}#sk-container-id-5 div.sk-toggleable__content {max-height: 0;max-width: 0;overflow: hidden;text-align: left;background-color: #f0f8ff;}#sk-container-id-5 div.sk-toggleable__content pre {margin: 0.2em;color: black;border-radius: 0.25em;background-color: #f0f8ff;}#sk-container-id-5 input.sk-toggleable__control:checked~div.sk-toggleable__content {max-height: 200px;max-width: 100%;overflow: auto;}#sk-container-id-5 input.sk-toggleable__control:checked~label.sk-toggleable__label-arrow:before {content: \"▾\";}#sk-container-id-5 div.sk-estimator input.sk-toggleable__control:checked~label.sk-toggleable__label {background-color: #d4ebff;}#sk-container-id-5 div.sk-label input.sk-toggleable__control:checked~label.sk-toggleable__label {background-color: #d4ebff;}#sk-container-id-5 input.sk-hidden--visually {border: 0;clip: rect(1px 1px 1px 1px);clip: rect(1px, 1px, 1px, 1px);height: 1px;margin: -1px;overflow: hidden;padding: 0;position: absolute;width: 1px;}#sk-container-id-5 div.sk-estimator {font-family: monospace;background-color: #f0f8ff;border: 1px dotted black;border-radius: 0.25em;box-sizing: border-box;margin-bottom: 0.5em;}#sk-container-id-5 div.sk-estimator:hover {background-color: #d4ebff;}#sk-container-id-5 div.sk-parallel-item::after {content: \"\";width: 100%;border-bottom: 1px solid gray;flex-grow: 1;}#sk-container-id-5 div.sk-label:hover label.sk-toggleable__label {background-color: #d4ebff;}#sk-container-id-5 div.sk-serial::before {content: \"\";position: absolute;border-left: 1px solid gray;box-sizing: border-box;top: 0;bottom: 0;left: 50%;z-index: 0;}#sk-container-id-5 div.sk-serial {display: flex;flex-direction: column;align-items: center;background-color: white;padding-right: 0.2em;padding-left: 0.2em;position: relative;}#sk-container-id-5 div.sk-item {position: relative;z-index: 1;}#sk-container-id-5 div.sk-parallel {display: flex;align-items: stretch;justify-content: center;background-color: white;position: relative;}#sk-container-id-5 div.sk-item::before, #sk-container-id-5 div.sk-parallel-item::before {content: \"\";position: absolute;border-left: 1px solid gray;box-sizing: border-box;top: 0;bottom: 0;left: 50%;z-index: -1;}#sk-container-id-5 div.sk-parallel-item {display: flex;flex-direction: column;z-index: 1;position: relative;background-color: white;}#sk-container-id-5 div.sk-parallel-item:first-child::after {align-self: flex-end;width: 50%;}#sk-container-id-5 div.sk-parallel-item:last-child::after {align-self: flex-start;width: 50%;}#sk-container-id-5 div.sk-parallel-item:only-child::after {width: 0;}#sk-container-id-5 div.sk-dashed-wrapped {border: 1px dashed gray;margin: 0 0.4em 0.5em 0.4em;box-sizing: border-box;padding-bottom: 0.4em;background-color: white;}#sk-container-id-5 div.sk-label label {font-family: monospace;font-weight: bold;display: inline-block;line-height: 1.2em;}#sk-container-id-5 div.sk-label-container {text-align: center;}#sk-container-id-5 div.sk-container {/* jupyter's `normalize.less` sets `[hidden] { display: none; }` but bootstrap.min.css set `[hidden] { display: none !important; }` so we also need the `!important` here to be able to override the default hidden behavior on the sphinx rendered scikit-learn.org. See: https://github.com/scikit-learn/scikit-learn/issues/21755 */display: inline-block !important;position: relative;}#sk-container-id-5 div.sk-text-repr-fallback {display: none;}</style><div id=\"sk-container-id-5\" class=\"sk-top-container\"><div class=\"sk-text-repr-fallback\"><pre>RandomForestRegressor()</pre><b>In a Jupyter environment, please rerun this cell to show the HTML representation or trust the notebook. <br />On GitHub, the HTML representation is unable to render, please try loading this page with nbviewer.org.</b></div><div class=\"sk-container\" hidden><div class=\"sk-item\"><div class=\"sk-estimator sk-toggleable\"><input class=\"sk-toggleable__control sk-hidden--visually\" id=\"sk-estimator-id-5\" type=\"checkbox\" checked><label for=\"sk-estimator-id-5\" class=\"sk-toggleable__label sk-toggleable__label-arrow\">RandomForestRegressor</label><div class=\"sk-toggleable__content\"><pre>RandomForestRegressor()</pre></div></div></div></div></div>"
            ]
          },
          "metadata": {},
          "execution_count": 102
        }
      ]
    },
    {
      "cell_type": "code",
      "source": [
        "models = [lr, svr, dtr, rfr]\n",
        "for model in models:\n",
        "    y_pred = model.predict(X_test)\n",
        "    mae = mean_absolute_error(y_test, y_pred)\n",
        "    mse = mean_squared_error(y_test, y_pred)\n",
        "    r2 = r2_score(y_test, y_pred)\n",
        "    print(f'{model.__class__.__name__}: MAE={mae:.2f}, MSE={mse:.2f}, R2={r2:.2f}')"
      ],
      "metadata": {
        "id": "2QfYL3O2xT33",
        "outputId": "a2859fb9-bcf7-4d89-f6b0-7b886a5ccb88",
        "colab": {
          "base_uri": "https://localhost:8080/"
        }
      },
      "execution_count": 103,
      "outputs": [
        {
          "output_type": "stream",
          "name": "stdout",
          "text": [
            "LinearRegression: MAE=12703.68, MSE=281331314.48, R2=0.88\n",
            "SVR: MAE=38848.61, MSE=2339782212.68, R2=-0.02\n",
            "DecisionTreeRegressor: MAE=14946.30, MSE=578924989.71, R2=0.75\n",
            "RandomForestRegressor: MAE=13062.61, MSE=362041794.04, R2=0.84\n"
          ]
        }
      ]
    },
    {
      "cell_type": "code",
      "source": [
        "!pip install -q gradio\n",
        "import gradio as gr \n",
        "import requests"
      ],
      "metadata": {
        "id": "wSB5oalQxe4D",
        "outputId": "58143d13-2402-4492-bc8d-e8d6ddb70c5a",
        "colab": {
          "base_uri": "https://localhost:8080/"
        }
      },
      "execution_count": 63,
      "outputs": [
        {
          "output_type": "stream",
          "name": "stdout",
          "text": [
            "\u001b[2K     \u001b[90m━━━━━━━━━━━━━━━━━━━━━━━━━━━━━━━━━━━━━━━━\u001b[0m \u001b[32m20.0/20.0 MB\u001b[0m \u001b[31m60.5 MB/s\u001b[0m eta \u001b[36m0:00:00\u001b[0m\n",
            "\u001b[2K     \u001b[90m━━━━━━━━━━━━━━━━━━━━━━━━━━━━━━━━━━━━━━━━\u001b[0m \u001b[32m1.0/1.0 MB\u001b[0m \u001b[31m44.4 MB/s\u001b[0m eta \u001b[36m0:00:00\u001b[0m\n",
            "\u001b[2K     \u001b[90m━━━━━━━━━━━━━━━━━━━━━━━━━━━━━━━━━━━━━━━━\u001b[0m \u001b[32m57.1/57.1 kB\u001b[0m \u001b[31m5.5 MB/s\u001b[0m eta \u001b[36m0:00:00\u001b[0m\n",
            "\u001b[?25h  Preparing metadata (setup.py) ... \u001b[?25l\u001b[?25hdone\n",
            "\u001b[2K     \u001b[90m━━━━━━━━━━━━━━━━━━━━━━━━━━━━━━━━━━━━━━\u001b[0m \u001b[32m288.3/288.3 kB\u001b[0m \u001b[31m21.7 MB/s\u001b[0m eta \u001b[36m0:00:00\u001b[0m\n",
            "\u001b[2K     \u001b[90m━━━━━━━━━━━━━━━━━━━━━━━━━━━━━━━━━━━━━━━━\u001b[0m \u001b[32m75.4/75.4 kB\u001b[0m \u001b[31m6.8 MB/s\u001b[0m eta \u001b[36m0:00:00\u001b[0m\n",
            "\u001b[2K     \u001b[90m━━━━━━━━━━━━━━━━━━━━━━━━━━━━━━━━━━━━━━\u001b[0m \u001b[32m236.8/236.8 kB\u001b[0m \u001b[31m16.1 MB/s\u001b[0m eta \u001b[36m0:00:00\u001b[0m\n",
            "\u001b[2K     \u001b[90m━━━━━━━━━━━━━━━━━━━━━━━━━━━━━━━━━━━━━━━━\u001b[0m \u001b[32m50.5/50.5 kB\u001b[0m \u001b[31m4.9 MB/s\u001b[0m eta \u001b[36m0:00:00\u001b[0m\n",
            "\u001b[2K     \u001b[90m━━━━━━━━━━━━━━━━━━━━━━━━━━━━━━━━━━━━━━\u001b[0m \u001b[32m137.0/137.0 kB\u001b[0m \u001b[31m11.9 MB/s\u001b[0m eta \u001b[36m0:00:00\u001b[0m\n",
            "\u001b[2K     \u001b[90m━━━━━━━━━━━━━━━━━━━━━━━━━━━━━━━━━━━━━━━━\u001b[0m \u001b[32m45.7/45.7 kB\u001b[0m \u001b[31m4.6 MB/s\u001b[0m eta \u001b[36m0:00:00\u001b[0m\n",
            "\u001b[2K     \u001b[90m━━━━━━━━━━━━━━━━━━━━━━━━━━━━━━━━━━━━━━━━\u001b[0m \u001b[32m58.3/58.3 kB\u001b[0m \u001b[31m5.5 MB/s\u001b[0m eta \u001b[36m0:00:00\u001b[0m\n",
            "\u001b[2K     \u001b[90m━━━━━━━━━━━━━━━━━━━━━━━━━━━━━━━━━━━━━━\u001b[0m \u001b[32m129.9/129.9 kB\u001b[0m \u001b[31m14.4 MB/s\u001b[0m eta \u001b[36m0:00:00\u001b[0m\n",
            "\u001b[2K     \u001b[90m━━━━━━━━━━━━━━━━━━━━━━━━━━━━━━━━━━━━━━━━\u001b[0m \u001b[32m58.3/58.3 kB\u001b[0m \u001b[31m5.8 MB/s\u001b[0m eta \u001b[36m0:00:00\u001b[0m\n",
            "\u001b[2K     \u001b[90m━━━━━━━━━━━━━━━━━━━━━━━━━━━━━━━━━━━━━━\u001b[0m \u001b[32m114.5/114.5 kB\u001b[0m \u001b[31m11.4 MB/s\u001b[0m eta \u001b[36m0:00:00\u001b[0m\n",
            "\u001b[2K     \u001b[90m━━━━━━━━━━━━━━━━━━━━━━━━━━━━━━━━━━━━━━\u001b[0m \u001b[32m268.8/268.8 kB\u001b[0m \u001b[31m25.0 MB/s\u001b[0m eta \u001b[36m0:00:00\u001b[0m\n",
            "\u001b[2K     \u001b[90m━━━━━━━━━━━━━━━━━━━━━━━━━━━━━━━━━━━━━━\u001b[0m \u001b[32m149.6/149.6 kB\u001b[0m \u001b[31m15.7 MB/s\u001b[0m eta \u001b[36m0:00:00\u001b[0m\n",
            "\u001b[2K     \u001b[90m━━━━━━━━━━━━━━━━━━━━━━━━━━━━━━━━━━━━━━━━\u001b[0m \u001b[32m67.0/67.0 kB\u001b[0m \u001b[31m7.6 MB/s\u001b[0m eta \u001b[36m0:00:00\u001b[0m\n",
            "\u001b[2K     \u001b[90m━━━━━━━━━━━━━━━━━━━━━━━━━━━━━━━━━━━━━━━━\u001b[0m \u001b[32m72.5/72.5 kB\u001b[0m \u001b[31m8.1 MB/s\u001b[0m eta \u001b[36m0:00:00\u001b[0m\n",
            "\u001b[?25h  Building wheel for ffmpy (setup.py) ... \u001b[?25l\u001b[?25hdone\n"
          ]
        }
      ]
    },
    {
      "cell_type": "code",
      "source": [
        "def predict(Age:float,\n",
        "            anos_experiencia:float,\n",
        "            nivel_educacional:int):\n",
        "    input_df7=[[Age,\n",
        "                anos_experiencia,\n",
        "                nivel_educacional]]\n",
        "    prediction= lr.predict(input_df7)[0] #Acá se coloca el mejor modelo seleccionado\n",
        "    return prediction\n",
        "\n",
        "inputs=[gr.inputs.Slider(minimum=0,maximum=90,label=\"Edad\"),\n",
        "        gr.inputs.Slider(minimum=0,maximum=90,label=\"años experiencia\"),\n",
        "        gr.inputs.Slider(minimum=0,maximum=3,label=\"Tipo educacion 1:bachillerato - 2:master - 3:phd\")]\n",
        "\n",
        "output=gr.outputs.Textbox(label=\"Predice el sueldo por edad,nivel educativo y años experiencia\")\n",
        "\n",
        "gr.Interface(fn=predict,\n",
        "             inputs=inputs,\n",
        "             outputs=output).launch(debug=True,share=True)"
      ],
      "metadata": {
        "id": "D6n9-tUhxo-2",
        "outputId": "b9bff483-c646-45c8-9473-1ec1accda00d",
        "colab": {
          "base_uri": "https://localhost:8080/",
          "height": 715
        }
      },
      "execution_count": null,
      "outputs": [
        {
          "output_type": "stream",
          "name": "stderr",
          "text": [
            "/usr/local/lib/python3.10/dist-packages/gradio/inputs.py:89: UserWarning: Usage of gradio.inputs is deprecated, and will not be supported in the future, please import your component from gradio.components\n",
            "  warnings.warn(\n",
            "/usr/local/lib/python3.10/dist-packages/gradio/inputs.py:93: UserWarning: `optional` parameter is deprecated, and it has no effect\n",
            "  super().__init__(\n",
            "/usr/local/lib/python3.10/dist-packages/gradio/outputs.py:22: UserWarning: Usage of gradio.outputs is deprecated, and will not be supported in the future, please import your components from gradio.components\n",
            "  warnings.warn(\n"
          ]
        },
        {
          "output_type": "stream",
          "name": "stdout",
          "text": [
            "Colab notebook detected. This cell will run indefinitely so that you can see errors and logs. To turn off, set debug=False in launch().\n",
            "Running on public URL: https://7fff2179d7e4967065.gradio.live\n",
            "\n",
            "This share link expires in 72 hours. For free permanent hosting and GPU upgrades, run `gradio deploy` from Terminal to deploy to Spaces (https://huggingface.co/spaces)\n"
          ]
        },
        {
          "output_type": "display_data",
          "data": {
            "text/plain": [
              "<IPython.core.display.HTML object>"
            ],
            "text/html": [
              "<div><iframe src=\"https://7fff2179d7e4967065.gradio.live\" width=\"100%\" height=\"500\" allow=\"autoplay; camera; microphone; clipboard-read; clipboard-write;\" frameborder=\"0\" allowfullscreen></iframe></div>"
            ]
          },
          "metadata": {}
        }
      ]
    }
  ],
  "metadata": {
    "colab": {
      "provenance": []
    },
    "kernelspec": {
      "display_name": "Python 3",
      "name": "python3"
    },
    "language_info": {
      "name": "python"
    }
  },
  "nbformat": 4,
  "nbformat_minor": 0
}