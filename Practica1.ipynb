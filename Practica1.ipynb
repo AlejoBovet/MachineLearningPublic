{
  "cells": [
    {
      "cell_type": "markdown",
      "metadata": {
        "id": "86ojpOOHp0Mk"
      },
      "source": [
        "#Practica preparacion\n",
        "\n"
      ]
    },
    {
      "cell_type": "markdown",
      "metadata": {
        "id": "bL794T5sdkGG"
      },
      "source": [
        "Se estan realizndo proceso de limpieza de datos"
      ]
    },
    {
      "cell_type": "code",
      "execution_count": 21,
      "metadata": {
        "id": "JGPx_IZjp7Rr"
      },
      "outputs": [],
      "source": [
        "#Importamos las librerías necesarias\n",
        "import pandas as pd\n",
        "import seaborn as sbn\n",
        "import numpy as np\n",
        "import matplotlib.pyplot as plt\n",
        "from seaborn import load_dataset\n",
        "import io\n",
        "import seaborn as sns"
      ]
    },
    {
      "cell_type": "code",
      "execution_count": 2,
      "metadata": {
        "colab": {
          "base_uri": "https://localhost:8080/",
          "height": 73
        },
        "id": "Y_P936Exp8mS",
        "outputId": "5d46588a-0944-42a7-da5c-2d5f778dedea"
      },
      "outputs": [
        {
          "output_type": "display_data",
          "data": {
            "text/plain": [
              "<IPython.core.display.HTML object>"
            ],
            "text/html": [
              "\n",
              "     <input type=\"file\" id=\"files-b4d112dd-46d6-4803-9371-4c25b16b9e2a\" name=\"files[]\" multiple disabled\n",
              "        style=\"border:none\" />\n",
              "     <output id=\"result-b4d112dd-46d6-4803-9371-4c25b16b9e2a\">\n",
              "      Upload widget is only available when the cell has been executed in the\n",
              "      current browser session. Please rerun this cell to enable.\n",
              "      </output>\n",
              "      <script>// Copyright 2017 Google LLC\n",
              "//\n",
              "// Licensed under the Apache License, Version 2.0 (the \"License\");\n",
              "// you may not use this file except in compliance with the License.\n",
              "// You may obtain a copy of the License at\n",
              "//\n",
              "//      http://www.apache.org/licenses/LICENSE-2.0\n",
              "//\n",
              "// Unless required by applicable law or agreed to in writing, software\n",
              "// distributed under the License is distributed on an \"AS IS\" BASIS,\n",
              "// WITHOUT WARRANTIES OR CONDITIONS OF ANY KIND, either express or implied.\n",
              "// See the License for the specific language governing permissions and\n",
              "// limitations under the License.\n",
              "\n",
              "/**\n",
              " * @fileoverview Helpers for google.colab Python module.\n",
              " */\n",
              "(function(scope) {\n",
              "function span(text, styleAttributes = {}) {\n",
              "  const element = document.createElement('span');\n",
              "  element.textContent = text;\n",
              "  for (const key of Object.keys(styleAttributes)) {\n",
              "    element.style[key] = styleAttributes[key];\n",
              "  }\n",
              "  return element;\n",
              "}\n",
              "\n",
              "// Max number of bytes which will be uploaded at a time.\n",
              "const MAX_PAYLOAD_SIZE = 100 * 1024;\n",
              "\n",
              "function _uploadFiles(inputId, outputId) {\n",
              "  const steps = uploadFilesStep(inputId, outputId);\n",
              "  const outputElement = document.getElementById(outputId);\n",
              "  // Cache steps on the outputElement to make it available for the next call\n",
              "  // to uploadFilesContinue from Python.\n",
              "  outputElement.steps = steps;\n",
              "\n",
              "  return _uploadFilesContinue(outputId);\n",
              "}\n",
              "\n",
              "// This is roughly an async generator (not supported in the browser yet),\n",
              "// where there are multiple asynchronous steps and the Python side is going\n",
              "// to poll for completion of each step.\n",
              "// This uses a Promise to block the python side on completion of each step,\n",
              "// then passes the result of the previous step as the input to the next step.\n",
              "function _uploadFilesContinue(outputId) {\n",
              "  const outputElement = document.getElementById(outputId);\n",
              "  const steps = outputElement.steps;\n",
              "\n",
              "  const next = steps.next(outputElement.lastPromiseValue);\n",
              "  return Promise.resolve(next.value.promise).then((value) => {\n",
              "    // Cache the last promise value to make it available to the next\n",
              "    // step of the generator.\n",
              "    outputElement.lastPromiseValue = value;\n",
              "    return next.value.response;\n",
              "  });\n",
              "}\n",
              "\n",
              "/**\n",
              " * Generator function which is called between each async step of the upload\n",
              " * process.\n",
              " * @param {string} inputId Element ID of the input file picker element.\n",
              " * @param {string} outputId Element ID of the output display.\n",
              " * @return {!Iterable<!Object>} Iterable of next steps.\n",
              " */\n",
              "function* uploadFilesStep(inputId, outputId) {\n",
              "  const inputElement = document.getElementById(inputId);\n",
              "  inputElement.disabled = false;\n",
              "\n",
              "  const outputElement = document.getElementById(outputId);\n",
              "  outputElement.innerHTML = '';\n",
              "\n",
              "  const pickedPromise = new Promise((resolve) => {\n",
              "    inputElement.addEventListener('change', (e) => {\n",
              "      resolve(e.target.files);\n",
              "    });\n",
              "  });\n",
              "\n",
              "  const cancel = document.createElement('button');\n",
              "  inputElement.parentElement.appendChild(cancel);\n",
              "  cancel.textContent = 'Cancel upload';\n",
              "  const cancelPromise = new Promise((resolve) => {\n",
              "    cancel.onclick = () => {\n",
              "      resolve(null);\n",
              "    };\n",
              "  });\n",
              "\n",
              "  // Wait for the user to pick the files.\n",
              "  const files = yield {\n",
              "    promise: Promise.race([pickedPromise, cancelPromise]),\n",
              "    response: {\n",
              "      action: 'starting',\n",
              "    }\n",
              "  };\n",
              "\n",
              "  cancel.remove();\n",
              "\n",
              "  // Disable the input element since further picks are not allowed.\n",
              "  inputElement.disabled = true;\n",
              "\n",
              "  if (!files) {\n",
              "    return {\n",
              "      response: {\n",
              "        action: 'complete',\n",
              "      }\n",
              "    };\n",
              "  }\n",
              "\n",
              "  for (const file of files) {\n",
              "    const li = document.createElement('li');\n",
              "    li.append(span(file.name, {fontWeight: 'bold'}));\n",
              "    li.append(span(\n",
              "        `(${file.type || 'n/a'}) - ${file.size} bytes, ` +\n",
              "        `last modified: ${\n",
              "            file.lastModifiedDate ? file.lastModifiedDate.toLocaleDateString() :\n",
              "                                    'n/a'} - `));\n",
              "    const percent = span('0% done');\n",
              "    li.appendChild(percent);\n",
              "\n",
              "    outputElement.appendChild(li);\n",
              "\n",
              "    const fileDataPromise = new Promise((resolve) => {\n",
              "      const reader = new FileReader();\n",
              "      reader.onload = (e) => {\n",
              "        resolve(e.target.result);\n",
              "      };\n",
              "      reader.readAsArrayBuffer(file);\n",
              "    });\n",
              "    // Wait for the data to be ready.\n",
              "    let fileData = yield {\n",
              "      promise: fileDataPromise,\n",
              "      response: {\n",
              "        action: 'continue',\n",
              "      }\n",
              "    };\n",
              "\n",
              "    // Use a chunked sending to avoid message size limits. See b/62115660.\n",
              "    let position = 0;\n",
              "    do {\n",
              "      const length = Math.min(fileData.byteLength - position, MAX_PAYLOAD_SIZE);\n",
              "      const chunk = new Uint8Array(fileData, position, length);\n",
              "      position += length;\n",
              "\n",
              "      const base64 = btoa(String.fromCharCode.apply(null, chunk));\n",
              "      yield {\n",
              "        response: {\n",
              "          action: 'append',\n",
              "          file: file.name,\n",
              "          data: base64,\n",
              "        },\n",
              "      };\n",
              "\n",
              "      let percentDone = fileData.byteLength === 0 ?\n",
              "          100 :\n",
              "          Math.round((position / fileData.byteLength) * 100);\n",
              "      percent.textContent = `${percentDone}% done`;\n",
              "\n",
              "    } while (position < fileData.byteLength);\n",
              "  }\n",
              "\n",
              "  // All done.\n",
              "  yield {\n",
              "    response: {\n",
              "      action: 'complete',\n",
              "    }\n",
              "  };\n",
              "}\n",
              "\n",
              "scope.google = scope.google || {};\n",
              "scope.google.colab = scope.google.colab || {};\n",
              "scope.google.colab._files = {\n",
              "  _uploadFiles,\n",
              "  _uploadFilesContinue,\n",
              "};\n",
              "})(self);\n",
              "</script> "
            ]
          },
          "metadata": {}
        },
        {
          "output_type": "stream",
          "name": "stdout",
          "text": [
            "Saving SalaryData.csv to SalaryData.csv\n"
          ]
        }
      ],
      "source": [
        "from google.colab import files\n",
        "\n",
        "uploaded = files.upload()\n",
        "Isalary = pd.read_csv(io.BytesIO(uploaded['SalaryData.csv']))\n",
        "\n",
        "\n",
        "\n"
      ]
    },
    {
      "cell_type": "code",
      "execution_count": null,
      "metadata": {
        "id": "lJALQW8jtJC4"
      },
      "outputs": [],
      "source": [
        "Isalary.info()\n"
      ]
    },
    {
      "cell_type": "code",
      "execution_count": 4,
      "metadata": {
        "id": "_21TG9y_yXDv"
      },
      "outputs": [],
      "source": [
        "na_values =('na.nan','NA','NaN','nan','inf')\n",
        "Isalary = Isalary.replace(na_values,np.nan)"
      ]
    },
    {
      "cell_type": "code",
      "execution_count": null,
      "metadata": {
        "id": "BCUFE_xOyu_x"
      },
      "outputs": [],
      "source": [
        "Isalary.isna().sum()"
      ]
    },
    {
      "cell_type": "code",
      "execution_count": null,
      "metadata": {
        "id": "6DgWVlj-zEJZ"
      },
      "outputs": [],
      "source": [
        "Isalary.describe()"
      ]
    },
    {
      "cell_type": "code",
      "source": [
        "Isalary.head(10)"
      ],
      "metadata": {
        "id": "V59YVFprgZCx"
      },
      "execution_count": null,
      "outputs": []
    },
    {
      "cell_type": "markdown",
      "source": [
        "Se identifica las cantidades de personas que estudiaron en diferentes niveles"
      ],
      "metadata": {
        "id": "X7zBW2aBa7rF"
      }
    },
    {
      "cell_type": "code",
      "source": [
        "value_counts = Isalary['Education Level'].value_counts()\n",
        "count = value_counts[\"Bachelor's\"]\n",
        "print(count)\n"
      ],
      "metadata": {
        "id": "K7SzDEl2XzXL"
      },
      "execution_count": null,
      "outputs": []
    },
    {
      "cell_type": "markdown",
      "source": [
        "Identificar valores en la columna 'education level'"
      ],
      "metadata": {
        "id": "XJgBo_elgssG"
      }
    },
    {
      "cell_type": "code",
      "source": [
        "valores_unicos = Isalary['Education Level'].unique()  # Obtiene los valores únicos en la columna especificada\n",
        "print(valores_unicos)  "
      ],
      "metadata": {
        "id": "EwxsU5AjggCT"
      },
      "execution_count": null,
      "outputs": []
    },
    {
      "cell_type": "markdown",
      "source": [
        "Se quitaran los valores nan utilizando la moda y la media para evitar que los datos se corrompan\n"
      ],
      "metadata": {
        "id": "36kkuyuihOUr"
      }
    },
    {
      "cell_type": "code",
      "source": [
        "#Age\n",
        "moda_age = Isalary['Age'].mode()[0]\n",
        "Isalary['Age'].fillna(moda_age, inplace=True)\n",
        "print(Isalary)"
      ],
      "metadata": {
        "id": "fAQ97EelhRnc"
      },
      "execution_count": null,
      "outputs": []
    },
    {
      "cell_type": "code",
      "source": [
        "#Gender\n",
        "moda_genero = Isalary['Gender'].mode()[0]\n",
        "Isalary['Gender'].fillna(moda_genero, inplace=True)\n",
        "print(Isalary)"
      ],
      "metadata": {
        "id": "oroct_4_iDkV"
      },
      "execution_count": null,
      "outputs": []
    },
    {
      "cell_type": "code",
      "source": [
        "#Education level\n",
        "moda_elevel = Isalary['Education Level'].mode()[0]\n",
        "Isalary['Education Level'].fillna(moda_elevel, inplace=True)\n",
        "print(Isalary)"
      ],
      "metadata": {
        "id": "THsAo_rIiXwo"
      },
      "execution_count": null,
      "outputs": []
    },
    {
      "cell_type": "code",
      "source": [
        "#job title\n",
        "moda_jtitle = Isalary['Job Title'].mode()[0]\n",
        "Isalary['Job Title'].fillna(moda_jtitle, inplace=True)\n",
        "print(Isalary)"
      ],
      "metadata": {
        "id": "jqx0VtArikpX"
      },
      "execution_count": null,
      "outputs": []
    },
    {
      "cell_type": "code",
      "source": [
        "#Years Experience\n",
        "moda_yexp = Isalary['Years of Experience'].mode()[0]\n",
        "Isalary['Years of Experience'].fillna(moda_yexp, inplace=True)\n",
        "print(Isalary)"
      ],
      "metadata": {
        "id": "lRBXuLsVi94r"
      },
      "execution_count": null,
      "outputs": []
    },
    {
      "cell_type": "code",
      "source": [
        "#salary\n",
        "media_salary = Isalary['Salary'].mean()\n",
        "Isalary['Salary'].fillna(media_salary, inplace=True)\n",
        "print(Isalary)"
      ],
      "metadata": {
        "id": "lmIkB9sjjIAV"
      },
      "execution_count": null,
      "outputs": []
    },
    {
      "cell_type": "markdown",
      "source": [
        "Se detectaron 3 tipos de datos de tipo object, los cuales no permiten realizar los modelos esperados por lo cual se relizara trasformacion del tipo de dato y si es el caso exclusion del dato."
      ],
      "metadata": {
        "id": "yBPvoOgNd4yM"
      }
    },
    {
      "cell_type": "markdown",
      "source": [
        "Se realiza one hot encoding para los datos de 'gender'"
      ],
      "metadata": {
        "id": "UcGM8q1werd2"
      }
    },
    {
      "cell_type": "code",
      "source": [
        "df1 = Isalary\n",
        "\n",
        "one_hot = pd.get_dummies(df1['Gender'])\n",
        "df = pd.concat([df1, one_hot], axis=1)\n",
        "df4 = df.drop('Gender', axis=1)\n",
        "print(df4)"
      ],
      "metadata": {
        "id": "S-x_xPjkeRSv"
      },
      "execution_count": null,
      "outputs": []
    },
    {
      "cell_type": "markdown",
      "source": [
        "Para 'Education level' se utlizara level encoding debido a que los datos de nivel educacional poseen un orden jerarquico donde:\n",
        "Bachelor's = 0\n",
        "Master´s = 1\n",
        "PhD = 2"
      ],
      "metadata": {
        "id": "1SHVRBRXj47p"
      }
    },
    {
      "cell_type": "code",
      "source": [
        "codificacion = {\"Bachelor's\": 0, \"Master's\": 1, 'PhD': 2}\n",
        "df4['Educacion Level'] = df4['Education Level'].map(codificacion)\n",
        "print(df4)"
      ],
      "metadata": {
        "id": "6hh88U54kO70"
      },
      "execution_count": null,
      "outputs": []
    },
    {
      "cell_type": "markdown",
      "source": [
        "Y para 'job title' se utilizara one hot encoding"
      ],
      "metadata": {
        "id": "KwKciuu6mXmt"
      }
    },
    {
      "cell_type": "code",
      "source": [
        "\n",
        "one_hot = pd.get_dummies(df4['Job Title'])\n",
        "df4 = pd.concat([df4, one_hot], axis=1)\n",
        "df6 = df4.drop('Job Title', axis=1)\n",
        "print(df6)"
      ],
      "metadata": {
        "id": "93q-qD5umUb4"
      },
      "execution_count": null,
      "outputs": []
    },
    {
      "cell_type": "markdown",
      "source": [
        "Validacion de limpieza y transformcion"
      ],
      "metadata": {
        "id": "SZLiI-VEnQ4O"
      }
    },
    {
      "cell_type": "code",
      "source": [
        "df4.isna().sum()"
      ],
      "metadata": {
        "id": "HM3xSMgQnNWh"
      },
      "execution_count": null,
      "outputs": []
    },
    {
      "cell_type": "markdown",
      "source": [
        "Se evaluaran las extraxiones de outliers utlilizando los graficos de boxplot"
      ],
      "metadata": {
        "id": "h6qAwEKJdHop"
      }
    },
    {
      "cell_type": "code",
      "source": [
        "#Age"
      ],
      "metadata": {
        "id": "cwqN-Vm5dMew"
      },
      "execution_count": null,
      "outputs": []
    },
    {
      "cell_type": "code",
      "source": [
        "#Salary"
      ],
      "metadata": {
        "id": "aNXGqQR_dOdN"
      },
      "execution_count": null,
      "outputs": []
    },
    {
      "cell_type": "code",
      "source": [
        "#Years experience"
      ],
      "metadata": {
        "id": "aKT-D3YIdP0x"
      },
      "execution_count": null,
      "outputs": []
    },
    {
      "cell_type": "markdown",
      "source": [
        "Se evaluaran las correlaciones entro los datos del data"
      ],
      "metadata": {
        "id": "qjxddk8ZUrWp"
      }
    },
    {
      "cell_type": "code",
      "source": [
        "\n",
        "corr_matrix = df4.corr()\n",
        "corr_matrix[\"Salary\"].sort_values(ascending=False)"
      ],
      "metadata": {
        "id": "N14sg8oJUym-"
      },
      "execution_count": null,
      "outputs": []
    },
    {
      "cell_type": "markdown",
      "source": [
        "Ahora se desplegara un mapa de calor para entregar otra forma de presentar las correlaciones"
      ],
      "metadata": {
        "id": "kp9i3KjZVo9P"
      }
    },
    {
      "cell_type": "code",
      "source": [
        "subset = df4[['Salary','Age','Years of Experience','Educacion Level','Male','Female']]\n",
        "correlation_matrix = subset.corr()\n",
        "sns.heatmap(correlation_matrix, annot=True, cmap='coolwarm')\n",
        "plt.title('Mapa de calor de correlación')\n",
        "plt.show()\n"
      ],
      "metadata": {
        "id": "W9w_s9g1V1_m"
      },
      "execution_count": null,
      "outputs": []
    },
    {
      "cell_type": "markdown",
      "source": [],
      "metadata": {
        "id": "Hui80QP_gUls"
      }
    }
  ],
  "metadata": {
    "colab": {
      "provenance": []
    },
    "kernelspec": {
      "display_name": "Python 3",
      "name": "python3"
    },
    "language_info": {
      "name": "python"
    }
  },
  "nbformat": 4,
  "nbformat_minor": 0
}