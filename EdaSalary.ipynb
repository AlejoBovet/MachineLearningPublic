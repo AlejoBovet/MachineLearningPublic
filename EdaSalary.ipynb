{
  "cells": [
    {
      "cell_type": "markdown",
      "metadata": {
        "id": "86ojpOOHp0Mk"
      },
      "source": [
        "#Practica preparacion\n",
        "\n"
      ]
    },
    {
      "cell_type": "markdown",
      "metadata": {
        "id": "bL794T5sdkGG"
      },
      "source": [
        "Se estan realizndo proceso de limpieza de datos"
      ]
    },
    {
      "cell_type": "code",
      "execution_count": 186,
      "metadata": {
        "id": "JGPx_IZjp7Rr"
      },
      "outputs": [],
      "source": [
        "#Importamos las librerías necesarias\n",
        "import pandas as pd\n",
        "import seaborn as sbn\n",
        "import numpy as np\n",
        "import matplotlib.pyplot as plt\n",
        "from seaborn import load_dataset\n",
        "import io\n",
        "import seaborn as sns\n",
        "#Libreria para generar knn\n",
        "from sklearn.impute import KNNImputer"
      ]
    },
    {
      "cell_type": "code",
      "execution_count": 187,
      "metadata": {
        "colab": {
          "base_uri": "https://localhost:8080/",
          "height": 73
        },
        "id": "Y_P936Exp8mS",
        "outputId": "9206dd24-d37e-441a-b631-8ab6fec888fb"
      },
      "outputs": [],
      "source": [
        "Isalary = pd.read_csv('Datas\\SalaryData.csv')"
      ]
    },
    {
      "cell_type": "code",
      "execution_count": 188,
      "metadata": {
        "colab": {
          "base_uri": "https://localhost:8080/"
        },
        "id": "lJALQW8jtJC4",
        "outputId": "93c71feb-5eac-470d-ac40-1adb2004d7dd"
      },
      "outputs": [
        {
          "name": "stdout",
          "output_type": "stream",
          "text": [
            "<class 'pandas.core.frame.DataFrame'>\n",
            "RangeIndex: 375 entries, 0 to 374\n",
            "Data columns (total 6 columns):\n",
            " #   Column               Non-Null Count  Dtype  \n",
            "---  ------               --------------  -----  \n",
            " 0   Age                  373 non-null    float64\n",
            " 1   Gender               373 non-null    object \n",
            " 2   Education Level      373 non-null    object \n",
            " 3   Job Title            373 non-null    object \n",
            " 4   Years of Experience  373 non-null    float64\n",
            " 5   Salary               373 non-null    float64\n",
            "dtypes: float64(3), object(3)\n",
            "memory usage: 17.7+ KB\n"
          ]
        }
      ],
      "source": [
        "Isalary.info()"
      ]
    },
    {
      "cell_type": "code",
      "execution_count": 189,
      "metadata": {},
      "outputs": [
        {
          "name": "stdout",
          "output_type": "stream",
          "text": [
            "Unique values in column 'Age':[32. 28. 45. 36. 52. 29. 42. 31. 26. 38. 48. 35. 40. 27. 44. 33. 39. 25.\n",
            " 51. 34. 47. 30. 41. 37. 24. 43. 50. 46. 49. 23. 53. nan]\n",
            "Unique values in column 'Gender':['Male' 'Female' nan]\n",
            "Unique values in column 'Education Level':[\"Bachelor's\" \"Master's\" 'PhD' nan]\n",
            "Unique values in column 'Job Title':['Software Engineer' 'Data Analyst' 'Senior Manager' 'Sales Associate'\n",
            " 'Director' 'Marketing Analyst' 'Product Manager' 'Sales Manager'\n",
            " 'Marketing Coordinator' 'Senior Scientist' 'Software Developer'\n",
            " 'HR Manager' 'Financial Analyst' 'Project Manager' 'Customer Service Rep'\n",
            " 'Operations Manager' 'Marketing Manager' 'Senior Engineer'\n",
            " 'Data Entry Clerk' 'Sales Director' 'Business Analyst' 'VP of Operations'\n",
            " 'IT Support' 'Recruiter' 'Financial Manager' 'Social Media Specialist'\n",
            " 'Software Manager' 'Junior Developer' 'Senior Consultant'\n",
            " 'Product Designer' 'CEO' 'Accountant' 'Data Scientist'\n",
            " 'Marketing Specialist' 'Technical Writer' 'HR Generalist'\n",
            " 'Project Engineer' 'Customer Success Rep' 'Sales Executive' 'UX Designer'\n",
            " 'Operations Director' 'Network Engineer' 'Administrative Assistant'\n",
            " 'Strategy Consultant' 'Copywriter' 'Account Manager'\n",
            " 'Director of Marketing' 'Help Desk Analyst' 'Customer Service Manager'\n",
            " 'Business Intelligence Analyst' 'Event Coordinator' 'VP of Finance'\n",
            " 'Graphic Designer' 'UX Researcher' 'Social Media Manager'\n",
            " 'Director of Operations' 'Senior Data Scientist' 'Junior Accountant'\n",
            " 'Digital Marketing Manager' 'IT Manager'\n",
            " 'Customer Service Representative' 'Business Development Manager'\n",
            " 'Senior Financial Analyst' 'Web Developer' 'Research Director'\n",
            " 'Technical Support Specialist' 'Creative Director'\n",
            " 'Senior Software Engineer' 'Human Resources Director'\n",
            " 'Content Marketing Manager' 'Technical Recruiter' 'Sales Representative'\n",
            " 'Chief Technology Officer' 'Junior Designer' 'Financial Advisor'\n",
            " 'Junior Account Manager' 'Senior Project Manager' 'Principal Scientist'\n",
            " 'Supply Chain Manager' 'Senior Marketing Manager' 'Training Specialist'\n",
            " 'Research Scientist' 'Junior Software Developer'\n",
            " 'Public Relations Manager' 'Operations Analyst'\n",
            " 'Product Marketing Manager' 'Senior HR Manager' 'Junior Web Developer'\n",
            " 'Senior Project Coordinator' 'Chief Data Officer'\n",
            " 'Digital Content Producer' 'IT Support Specialist'\n",
            " 'Senior Marketing Analyst' 'Customer Success Manager'\n",
            " 'Senior Graphic Designer' 'Software Project Manager'\n",
            " 'Supply Chain Analyst' 'Senior Business Analyst'\n",
            " 'Junior Marketing Analyst' 'Office Manager' 'Principal Engineer'\n",
            " 'Junior HR Generalist' 'Senior Product Manager'\n",
            " 'Junior Operations Analyst' 'Senior HR Generalist'\n",
            " 'Sales Operations Manager' 'Senior Software Developer'\n",
            " 'Junior Web Designer' 'Senior Training Specialist'\n",
            " 'Senior Research Scientist' 'Junior Sales Representative'\n",
            " 'Junior Marketing Manager' 'Junior Data Analyst'\n",
            " 'Senior Product Marketing Manager' 'Junior Business Analyst'\n",
            " 'Senior Sales Manager' 'Junior Marketing Specialist'\n",
            " 'Junior Project Manager' 'Senior Accountant' 'Director of Sales'\n",
            " 'Junior Recruiter' 'Senior Business Development Manager'\n",
            " 'Senior Product Designer' 'Junior Customer Support Specialist'\n",
            " 'Senior IT Support Specialist' 'Junior Financial Analyst'\n",
            " 'Senior Operations Manager' 'Director of Human Resources'\n",
            " 'Junior Software Engineer' 'Senior Sales Representative'\n",
            " 'Director of Product Management' 'Junior Copywriter'\n",
            " 'Senior Marketing Coordinator' 'Senior Human Resources Manager'\n",
            " 'Junior Business Development Associate' 'Senior Account Manager'\n",
            " 'Senior Researcher' 'Junior HR Coordinator' 'Director of Finance'\n",
            " 'Junior Marketing Coordinator' nan 'Junior Data Scientist'\n",
            " 'Senior Operations Analyst' 'Senior Human Resources Coordinator'\n",
            " 'Senior UX Designer' 'Junior Product Manager'\n",
            " 'Senior Marketing Specialist' 'Senior IT Project Manager'\n",
            " 'Senior Quality Assurance Analyst' 'Director of Sales and Marketing'\n",
            " 'Senior Account Executive' 'Director of Business Development'\n",
            " 'Junior Social Media Manager' 'Senior Human Resources Specialist'\n",
            " 'Senior Data Analyst' 'Director of Human Capital'\n",
            " 'Junior Advertising Coordinator' 'Junior UX Designer'\n",
            " 'Senior Marketing Director' 'Senior IT Consultant'\n",
            " 'Senior Financial Advisor' 'Junior Business Operations Analyst'\n",
            " 'Junior Social Media Specialist' 'Senior Product Development Manager'\n",
            " 'Junior Operations Manager' 'Senior Software Architect'\n",
            " 'Junior Research Scientist' 'Senior Financial Manager'\n",
            " 'Senior HR Specialist' 'Senior Data Engineer'\n",
            " 'Junior Operations Coordinator' 'Director of HR'\n",
            " 'Senior Operations Coordinator' 'Junior Financial Advisor'\n",
            " 'Director of Engineering']\n",
            "Unique values in column 'Years of Experience':[ 5.   3.  15.   7.  20.   2.  12.   4.   1.  10.  18.   6.  14.  16.\n",
            "  0.  22.  19.   9.  13.  11.  25.  21.   8.  17.  23.  24.   0.5  1.5\n",
            "  nan]\n",
            "Unique values in column 'Salary':[ 90000.  65000. 150000.  60000. 200000.  55000. 120000.  80000.  45000.\n",
            " 110000.  75000. 140000. 130000.  40000. 125000. 115000.  35000. 180000.\n",
            " 190000.  50000. 250000. 170000. 160000.  85000.  95000. 105000.  70000.\n",
            " 100000.  30000. 135000. 220000. 175000. 185000.     nan 145000. 155000.\n",
            "    350.]\n"
          ]
        }
      ],
      "source": [
        "def ValoresUnicos(columna):\n",
        "    return Isalary[columna].unique()\n",
        "\n",
        "for col in Isalary.columns:\n",
        "    print(f\"Unique values in column '{col}':{ValoresUnicos(col)}\")\n"
      ]
    },
    {
      "cell_type": "code",
      "execution_count": 190,
      "metadata": {
        "id": "_21TG9y_yXDv"
      },
      "outputs": [],
      "source": [
        "na_values =('na.nan','NA','NaN','nan','inf')\n",
        "Isalary = Isalary.replace(na_values,np.nan)"
      ]
    },
    {
      "cell_type": "code",
      "execution_count": 191,
      "metadata": {
        "colab": {
          "base_uri": "https://localhost:8080/"
        },
        "id": "BCUFE_xOyu_x",
        "outputId": "2205b8ec-633f-4e62-8fdb-9bd36397fbc1"
      },
      "outputs": [
        {
          "data": {
            "text/plain": [
              "Age                    2\n",
              "Gender                 2\n",
              "Education Level        2\n",
              "Job Title              2\n",
              "Years of Experience    2\n",
              "Salary                 2\n",
              "dtype: int64"
            ]
          },
          "execution_count": 191,
          "metadata": {},
          "output_type": "execute_result"
        }
      ],
      "source": [
        "Isalary.isna().sum()"
      ]
    },
    {
      "cell_type": "code",
      "execution_count": 192,
      "metadata": {
        "colab": {
          "base_uri": "https://localhost:8080/",
          "height": 300
        },
        "id": "6DgWVlj-zEJZ",
        "outputId": "c5dce84c-5987-4de8-bb6a-ba584f80d229"
      },
      "outputs": [
        {
          "data": {
            "text/html": [
              "<div>\n",
              "<style scoped>\n",
              "    .dataframe tbody tr th:only-of-type {\n",
              "        vertical-align: middle;\n",
              "    }\n",
              "\n",
              "    .dataframe tbody tr th {\n",
              "        vertical-align: top;\n",
              "    }\n",
              "\n",
              "    .dataframe thead th {\n",
              "        text-align: right;\n",
              "    }\n",
              "</style>\n",
              "<table border=\"1\" class=\"dataframe\">\n",
              "  <thead>\n",
              "    <tr style=\"text-align: right;\">\n",
              "      <th></th>\n",
              "      <th>Age</th>\n",
              "      <th>Years of Experience</th>\n",
              "      <th>Salary</th>\n",
              "    </tr>\n",
              "  </thead>\n",
              "  <tbody>\n",
              "    <tr>\n",
              "      <th>count</th>\n",
              "      <td>373.000000</td>\n",
              "      <td>373.000000</td>\n",
              "      <td>373.000000</td>\n",
              "    </tr>\n",
              "    <tr>\n",
              "      <th>mean</th>\n",
              "      <td>37.431635</td>\n",
              "      <td>10.030831</td>\n",
              "      <td>100577.345845</td>\n",
              "    </tr>\n",
              "    <tr>\n",
              "      <th>std</th>\n",
              "      <td>7.069073</td>\n",
              "      <td>6.557007</td>\n",
              "      <td>48240.013482</td>\n",
              "    </tr>\n",
              "    <tr>\n",
              "      <th>min</th>\n",
              "      <td>23.000000</td>\n",
              "      <td>0.000000</td>\n",
              "      <td>350.000000</td>\n",
              "    </tr>\n",
              "    <tr>\n",
              "      <th>25%</th>\n",
              "      <td>31.000000</td>\n",
              "      <td>4.000000</td>\n",
              "      <td>55000.000000</td>\n",
              "    </tr>\n",
              "    <tr>\n",
              "      <th>50%</th>\n",
              "      <td>36.000000</td>\n",
              "      <td>9.000000</td>\n",
              "      <td>95000.000000</td>\n",
              "    </tr>\n",
              "    <tr>\n",
              "      <th>75%</th>\n",
              "      <td>44.000000</td>\n",
              "      <td>15.000000</td>\n",
              "      <td>140000.000000</td>\n",
              "    </tr>\n",
              "    <tr>\n",
              "      <th>max</th>\n",
              "      <td>53.000000</td>\n",
              "      <td>25.000000</td>\n",
              "      <td>250000.000000</td>\n",
              "    </tr>\n",
              "  </tbody>\n",
              "</table>\n",
              "</div>"
            ],
            "text/plain": [
              "              Age  Years of Experience         Salary\n",
              "count  373.000000           373.000000     373.000000\n",
              "mean    37.431635            10.030831  100577.345845\n",
              "std      7.069073             6.557007   48240.013482\n",
              "min     23.000000             0.000000     350.000000\n",
              "25%     31.000000             4.000000   55000.000000\n",
              "50%     36.000000             9.000000   95000.000000\n",
              "75%     44.000000            15.000000  140000.000000\n",
              "max     53.000000            25.000000  250000.000000"
            ]
          },
          "execution_count": 192,
          "metadata": {},
          "output_type": "execute_result"
        }
      ],
      "source": [
        "Isalary.describe()"
      ]
    },
    {
      "cell_type": "code",
      "execution_count": 193,
      "metadata": {
        "colab": {
          "base_uri": "https://localhost:8080/",
          "height": 363
        },
        "id": "V59YVFprgZCx",
        "outputId": "d91029bd-6dc4-4039-8bd3-4375b5f52fbd"
      },
      "outputs": [
        {
          "data": {
            "text/html": [
              "<div>\n",
              "<style scoped>\n",
              "    .dataframe tbody tr th:only-of-type {\n",
              "        vertical-align: middle;\n",
              "    }\n",
              "\n",
              "    .dataframe tbody tr th {\n",
              "        vertical-align: top;\n",
              "    }\n",
              "\n",
              "    .dataframe thead th {\n",
              "        text-align: right;\n",
              "    }\n",
              "</style>\n",
              "<table border=\"1\" class=\"dataframe\">\n",
              "  <thead>\n",
              "    <tr style=\"text-align: right;\">\n",
              "      <th></th>\n",
              "      <th>Age</th>\n",
              "      <th>Gender</th>\n",
              "      <th>Education Level</th>\n",
              "      <th>Job Title</th>\n",
              "      <th>Years of Experience</th>\n",
              "      <th>Salary</th>\n",
              "    </tr>\n",
              "  </thead>\n",
              "  <tbody>\n",
              "    <tr>\n",
              "      <th>0</th>\n",
              "      <td>32.0</td>\n",
              "      <td>Male</td>\n",
              "      <td>Bachelor's</td>\n",
              "      <td>Software Engineer</td>\n",
              "      <td>5.0</td>\n",
              "      <td>90000.0</td>\n",
              "    </tr>\n",
              "    <tr>\n",
              "      <th>1</th>\n",
              "      <td>28.0</td>\n",
              "      <td>Female</td>\n",
              "      <td>Master's</td>\n",
              "      <td>Data Analyst</td>\n",
              "      <td>3.0</td>\n",
              "      <td>65000.0</td>\n",
              "    </tr>\n",
              "    <tr>\n",
              "      <th>2</th>\n",
              "      <td>45.0</td>\n",
              "      <td>Male</td>\n",
              "      <td>PhD</td>\n",
              "      <td>Senior Manager</td>\n",
              "      <td>15.0</td>\n",
              "      <td>150000.0</td>\n",
              "    </tr>\n",
              "    <tr>\n",
              "      <th>3</th>\n",
              "      <td>36.0</td>\n",
              "      <td>Female</td>\n",
              "      <td>Bachelor's</td>\n",
              "      <td>Sales Associate</td>\n",
              "      <td>7.0</td>\n",
              "      <td>60000.0</td>\n",
              "    </tr>\n",
              "    <tr>\n",
              "      <th>4</th>\n",
              "      <td>52.0</td>\n",
              "      <td>Male</td>\n",
              "      <td>Master's</td>\n",
              "      <td>Director</td>\n",
              "      <td>20.0</td>\n",
              "      <td>200000.0</td>\n",
              "    </tr>\n",
              "  </tbody>\n",
              "</table>\n",
              "</div>"
            ],
            "text/plain": [
              "    Age  Gender Education Level          Job Title  Years of Experience  \\\n",
              "0  32.0    Male      Bachelor's  Software Engineer                  5.0   \n",
              "1  28.0  Female        Master's       Data Analyst                  3.0   \n",
              "2  45.0    Male             PhD     Senior Manager                 15.0   \n",
              "3  36.0  Female      Bachelor's    Sales Associate                  7.0   \n",
              "4  52.0    Male        Master's           Director                 20.0   \n",
              "\n",
              "     Salary  \n",
              "0   90000.0  \n",
              "1   65000.0  \n",
              "2  150000.0  \n",
              "3   60000.0  \n",
              "4  200000.0  "
            ]
          },
          "execution_count": 193,
          "metadata": {},
          "output_type": "execute_result"
        }
      ],
      "source": [
        "Isalary.head()"
      ]
    },
    {
      "cell_type": "markdown",
      "metadata": {
        "id": "X7zBW2aBa7rF"
      },
      "source": [
        "Se identifica las cantidades de personas que estudiaron en diferentes niveles"
      ]
    },
    {
      "cell_type": "code",
      "execution_count": 194,
      "metadata": {
        "colab": {
          "base_uri": "https://localhost:8080/"
        },
        "id": "K7SzDEl2XzXL",
        "outputId": "a7e6f451-d395-4ec2-a1b7-396d886226e8"
      },
      "outputs": [
        {
          "name": "stdout",
          "output_type": "stream",
          "text": [
            "224\n"
          ]
        }
      ],
      "source": [
        "value_counts = Isalary['Education Level'].value_counts()\n",
        "count = value_counts[\"Bachelor's\"]\n",
        "print(count)\n"
      ]
    },
    {
      "cell_type": "markdown",
      "metadata": {
        "id": "XJgBo_elgssG"
      },
      "source": [
        "Identificar valores en la columna 'education level'"
      ]
    },
    {
      "cell_type": "code",
      "execution_count": 195,
      "metadata": {
        "colab": {
          "base_uri": "https://localhost:8080/"
        },
        "id": "EwxsU5AjggCT",
        "outputId": "7a0dea29-0a16-4a4c-bc3f-f5c9ba485947"
      },
      "outputs": [
        {
          "name": "stdout",
          "output_type": "stream",
          "text": [
            "[\"Bachelor's\" \"Master's\" 'PhD' nan]\n"
          ]
        }
      ],
      "source": [
        "valores_unicos = Isalary['Education Level'].unique()  # Obtiene los valores únicos en la columna especificada\n",
        "print(valores_unicos)  "
      ]
    },
    {
      "cell_type": "markdown",
      "metadata": {
        "id": "36kkuyuihOUr"
      },
      "source": [
        "Se quitaran los valores nan utilizando la moda y la media para evitar que los datos se corrompan"
      ]
    },
    {
      "cell_type": "code",
      "execution_count": 196,
      "metadata": {
        "colab": {
          "base_uri": "https://localhost:8080/"
        },
        "id": "THsAo_rIiXwo",
        "outputId": "b65394b8-bc45-4cc6-9fbe-625962458e1d"
      },
      "outputs": [
        {
          "name": "stdout",
          "output_type": "stream",
          "text": [
            "      Age  Gender Education Level                      Job Title  \\\n",
            "0    32.0    Male      Bachelor's              Software Engineer   \n",
            "1    28.0  Female        Master's                   Data Analyst   \n",
            "2    45.0    Male             PhD                 Senior Manager   \n",
            "3    36.0  Female      Bachelor's                Sales Associate   \n",
            "4    52.0    Male        Master's                       Director   \n",
            "..    ...     ...             ...                            ...   \n",
            "370  35.0  Female      Bachelor's       Senior Marketing Analyst   \n",
            "371  43.0    Male        Master's         Director of Operations   \n",
            "372  29.0  Female      Bachelor's         Junior Project Manager   \n",
            "373  34.0    Male      Bachelor's  Senior Operations Coordinator   \n",
            "374  44.0  Female             PhD        Senior Business Analyst   \n",
            "\n",
            "     Years of Experience    Salary  \n",
            "0                    5.0   90000.0  \n",
            "1                    3.0   65000.0  \n",
            "2                   15.0  150000.0  \n",
            "3                    7.0   60000.0  \n",
            "4                   20.0  200000.0  \n",
            "..                   ...       ...  \n",
            "370                  8.0   85000.0  \n",
            "371                 19.0  170000.0  \n",
            "372                  2.0   40000.0  \n",
            "373                  7.0   90000.0  \n",
            "374                 15.0  150000.0  \n",
            "\n",
            "[375 rows x 6 columns]\n"
          ]
        }
      ],
      "source": [
        "#job title\n",
        "moda_Education  = Isalary['Education Level'].mode()[0]\n",
        "Isalary['Education Level'].fillna(moda_Education, inplace=True)\n",
        "print(Isalary)\n"
      ]
    },
    {
      "cell_type": "code",
      "execution_count": 197,
      "metadata": {
        "colab": {
          "base_uri": "https://localhost:8080/"
        },
        "id": "jqx0VtArikpX",
        "outputId": "943323ca-86ec-4703-d2cc-289ce4a028d4"
      },
      "outputs": [
        {
          "name": "stdout",
          "output_type": "stream",
          "text": [
            "      Age  Gender Education Level                      Job Title  \\\n",
            "0    32.0    Male      Bachelor's              Software Engineer   \n",
            "1    28.0  Female        Master's                   Data Analyst   \n",
            "2    45.0    Male             PhD                 Senior Manager   \n",
            "3    36.0  Female      Bachelor's                Sales Associate   \n",
            "4    52.0    Male        Master's                       Director   \n",
            "..    ...     ...             ...                            ...   \n",
            "370  35.0  Female      Bachelor's       Senior Marketing Analyst   \n",
            "371  43.0    Male        Master's         Director of Operations   \n",
            "372  29.0  Female      Bachelor's         Junior Project Manager   \n",
            "373  34.0    Male      Bachelor's  Senior Operations Coordinator   \n",
            "374  44.0  Female             PhD        Senior Business Analyst   \n",
            "\n",
            "     Years of Experience    Salary  \n",
            "0                    5.0   90000.0  \n",
            "1                    3.0   65000.0  \n",
            "2                   15.0  150000.0  \n",
            "3                    7.0   60000.0  \n",
            "4                   20.0  200000.0  \n",
            "..                   ...       ...  \n",
            "370                  8.0   85000.0  \n",
            "371                 19.0  170000.0  \n",
            "372                  2.0   40000.0  \n",
            "373                  7.0   90000.0  \n",
            "374                 15.0  150000.0  \n",
            "\n",
            "[375 rows x 6 columns]\n"
          ]
        }
      ],
      "source": [
        "#job title\n",
        "moda_jtitle = Isalary['Job Title'].mode()[0]\n",
        "Isalary['Job Title'].fillna(moda_jtitle, inplace=True)\n",
        "print(Isalary)"
      ]
    },
    {
      "cell_type": "code",
      "execution_count": 198,
      "metadata": {},
      "outputs": [
        {
          "name": "stdout",
          "output_type": "stream",
          "text": [
            "      Age  Gender Education Level                      Job Title  \\\n",
            "0    32.0    Male      Bachelor's              Software Engineer   \n",
            "1    28.0  Female        Master's                   Data Analyst   \n",
            "2    45.0    Male             PhD                 Senior Manager   \n",
            "3    36.0  Female      Bachelor's                Sales Associate   \n",
            "4    52.0    Male        Master's                       Director   \n",
            "..    ...     ...             ...                            ...   \n",
            "370  35.0  Female      Bachelor's       Senior Marketing Analyst   \n",
            "371  43.0    Male        Master's         Director of Operations   \n",
            "372  29.0  Female      Bachelor's         Junior Project Manager   \n",
            "373  34.0    Male      Bachelor's  Senior Operations Coordinator   \n",
            "374  44.0  Female             PhD        Senior Business Analyst   \n",
            "\n",
            "     Years of Experience    Salary  \n",
            "0                    5.0   90000.0  \n",
            "1                    3.0   65000.0  \n",
            "2                   15.0  150000.0  \n",
            "3                    7.0   60000.0  \n",
            "4                   20.0  200000.0  \n",
            "..                   ...       ...  \n",
            "370                  8.0   85000.0  \n",
            "371                 19.0  170000.0  \n",
            "372                  2.0   40000.0  \n",
            "373                  7.0   90000.0  \n",
            "374                 15.0  150000.0  \n",
            "\n",
            "[375 rows x 6 columns]\n"
          ]
        }
      ],
      "source": [
        "#Gender\n",
        "moda_genero = Isalary['Gender'].mode()[0]\n",
        "Isalary['Gender'].fillna(moda_genero, inplace=True)\n",
        "print(Isalary)"
      ]
    },
    {
      "cell_type": "markdown",
      "metadata": {},
      "source": [
        "Para reemplazar los años nulos utlizremos KNN "
      ]
    },
    {
      "cell_type": "markdown",
      "metadata": {},
      "source": [
        "Primero generamos una data set de respaldo"
      ]
    },
    {
      "cell_type": "code",
      "execution_count": 199,
      "metadata": {},
      "outputs": [
        {
          "data": {
            "text/html": [
              "<div>\n",
              "<style scoped>\n",
              "    .dataframe tbody tr th:only-of-type {\n",
              "        vertical-align: middle;\n",
              "    }\n",
              "\n",
              "    .dataframe tbody tr th {\n",
              "        vertical-align: top;\n",
              "    }\n",
              "\n",
              "    .dataframe thead th {\n",
              "        text-align: right;\n",
              "    }\n",
              "</style>\n",
              "<table border=\"1\" class=\"dataframe\">\n",
              "  <thead>\n",
              "    <tr style=\"text-align: right;\">\n",
              "      <th></th>\n",
              "      <th>Age</th>\n",
              "      <th>Gender</th>\n",
              "      <th>Education Level</th>\n",
              "      <th>Job Title</th>\n",
              "      <th>Years of Experience</th>\n",
              "      <th>Salary</th>\n",
              "    </tr>\n",
              "  </thead>\n",
              "  <tbody>\n",
              "    <tr>\n",
              "      <th>0</th>\n",
              "      <td>32.0</td>\n",
              "      <td>Male</td>\n",
              "      <td>Bachelor's</td>\n",
              "      <td>Software Engineer</td>\n",
              "      <td>5.0</td>\n",
              "      <td>90000.0</td>\n",
              "    </tr>\n",
              "    <tr>\n",
              "      <th>1</th>\n",
              "      <td>28.0</td>\n",
              "      <td>Female</td>\n",
              "      <td>Master's</td>\n",
              "      <td>Data Analyst</td>\n",
              "      <td>3.0</td>\n",
              "      <td>65000.0</td>\n",
              "    </tr>\n",
              "    <tr>\n",
              "      <th>2</th>\n",
              "      <td>45.0</td>\n",
              "      <td>Male</td>\n",
              "      <td>PhD</td>\n",
              "      <td>Senior Manager</td>\n",
              "      <td>15.0</td>\n",
              "      <td>150000.0</td>\n",
              "    </tr>\n",
              "    <tr>\n",
              "      <th>3</th>\n",
              "      <td>36.0</td>\n",
              "      <td>Female</td>\n",
              "      <td>Bachelor's</td>\n",
              "      <td>Sales Associate</td>\n",
              "      <td>7.0</td>\n",
              "      <td>60000.0</td>\n",
              "    </tr>\n",
              "    <tr>\n",
              "      <th>4</th>\n",
              "      <td>52.0</td>\n",
              "      <td>Male</td>\n",
              "      <td>Master's</td>\n",
              "      <td>Director</td>\n",
              "      <td>20.0</td>\n",
              "      <td>200000.0</td>\n",
              "    </tr>\n",
              "    <tr>\n",
              "      <th>...</th>\n",
              "      <td>...</td>\n",
              "      <td>...</td>\n",
              "      <td>...</td>\n",
              "      <td>...</td>\n",
              "      <td>...</td>\n",
              "      <td>...</td>\n",
              "    </tr>\n",
              "    <tr>\n",
              "      <th>370</th>\n",
              "      <td>35.0</td>\n",
              "      <td>Female</td>\n",
              "      <td>Bachelor's</td>\n",
              "      <td>Senior Marketing Analyst</td>\n",
              "      <td>8.0</td>\n",
              "      <td>85000.0</td>\n",
              "    </tr>\n",
              "    <tr>\n",
              "      <th>371</th>\n",
              "      <td>43.0</td>\n",
              "      <td>Male</td>\n",
              "      <td>Master's</td>\n",
              "      <td>Director of Operations</td>\n",
              "      <td>19.0</td>\n",
              "      <td>170000.0</td>\n",
              "    </tr>\n",
              "    <tr>\n",
              "      <th>372</th>\n",
              "      <td>29.0</td>\n",
              "      <td>Female</td>\n",
              "      <td>Bachelor's</td>\n",
              "      <td>Junior Project Manager</td>\n",
              "      <td>2.0</td>\n",
              "      <td>40000.0</td>\n",
              "    </tr>\n",
              "    <tr>\n",
              "      <th>373</th>\n",
              "      <td>34.0</td>\n",
              "      <td>Male</td>\n",
              "      <td>Bachelor's</td>\n",
              "      <td>Senior Operations Coordinator</td>\n",
              "      <td>7.0</td>\n",
              "      <td>90000.0</td>\n",
              "    </tr>\n",
              "    <tr>\n",
              "      <th>374</th>\n",
              "      <td>44.0</td>\n",
              "      <td>Female</td>\n",
              "      <td>PhD</td>\n",
              "      <td>Senior Business Analyst</td>\n",
              "      <td>15.0</td>\n",
              "      <td>150000.0</td>\n",
              "    </tr>\n",
              "  </tbody>\n",
              "</table>\n",
              "<p>375 rows × 6 columns</p>\n",
              "</div>"
            ],
            "text/plain": [
              "      Age  Gender Education Level                      Job Title  \\\n",
              "0    32.0    Male      Bachelor's              Software Engineer   \n",
              "1    28.0  Female        Master's                   Data Analyst   \n",
              "2    45.0    Male             PhD                 Senior Manager   \n",
              "3    36.0  Female      Bachelor's                Sales Associate   \n",
              "4    52.0    Male        Master's                       Director   \n",
              "..    ...     ...             ...                            ...   \n",
              "370  35.0  Female      Bachelor's       Senior Marketing Analyst   \n",
              "371  43.0    Male        Master's         Director of Operations   \n",
              "372  29.0  Female      Bachelor's         Junior Project Manager   \n",
              "373  34.0    Male      Bachelor's  Senior Operations Coordinator   \n",
              "374  44.0  Female             PhD        Senior Business Analyst   \n",
              "\n",
              "     Years of Experience    Salary  \n",
              "0                    5.0   90000.0  \n",
              "1                    3.0   65000.0  \n",
              "2                   15.0  150000.0  \n",
              "3                    7.0   60000.0  \n",
              "4                   20.0  200000.0  \n",
              "..                   ...       ...  \n",
              "370                  8.0   85000.0  \n",
              "371                 19.0  170000.0  \n",
              "372                  2.0   40000.0  \n",
              "373                  7.0   90000.0  \n",
              "374                 15.0  150000.0  \n",
              "\n",
              "[375 rows x 6 columns]"
            ]
          },
          "execution_count": 199,
          "metadata": {},
          "output_type": "execute_result"
        }
      ],
      "source": [
        "Copia_Isalary = Isalary.copy()\n",
        "Copia_Isalary"
      ]
    },
    {
      "cell_type": "code",
      "execution_count": 200,
      "metadata": {},
      "outputs": [],
      "source": [
        "knn_imputer = KNNImputer(n_neighbors=2, weights=\"uniform\")"
      ]
    },
    {
      "cell_type": "markdown",
      "metadata": {},
      "source": [
        "Este código crea un objeto `knn_imputer` que utiliza el algoritmo K-Nearest Neighbors (KNN) para imputar valores faltantes en un conjunto de datos. El parámetro `n_neighbors` se establece en 2, lo que significa que el algoritmo KNN utilizará los 2 vecinos más cercanos para imputar los valores faltantes. El parámetro `weights` se establece en \"uniform\", lo que significa que todos los vecinos tienen el mismo peso en el cálculo de los valores imputados."
      ]
    },
    {
      "cell_type": "code",
      "execution_count": 201,
      "metadata": {},
      "outputs": [
        {
          "data": {
            "text/html": [
              "<div>\n",
              "<style scoped>\n",
              "    .dataframe tbody tr th:only-of-type {\n",
              "        vertical-align: middle;\n",
              "    }\n",
              "\n",
              "    .dataframe tbody tr th {\n",
              "        vertical-align: top;\n",
              "    }\n",
              "\n",
              "    .dataframe thead th {\n",
              "        text-align: right;\n",
              "    }\n",
              "</style>\n",
              "<table border=\"1\" class=\"dataframe\">\n",
              "  <thead>\n",
              "    <tr style=\"text-align: right;\">\n",
              "      <th></th>\n",
              "      <th>Age</th>\n",
              "      <th>Gender</th>\n",
              "      <th>Education Level</th>\n",
              "      <th>Job Title</th>\n",
              "      <th>Years of Experience</th>\n",
              "      <th>Salary</th>\n",
              "    </tr>\n",
              "  </thead>\n",
              "  <tbody>\n",
              "    <tr>\n",
              "      <th>0</th>\n",
              "      <td>32.0</td>\n",
              "      <td>Male</td>\n",
              "      <td>Bachelor's</td>\n",
              "      <td>Software Engineer</td>\n",
              "      <td>5.0</td>\n",
              "      <td>90000.0</td>\n",
              "    </tr>\n",
              "    <tr>\n",
              "      <th>1</th>\n",
              "      <td>28.0</td>\n",
              "      <td>Female</td>\n",
              "      <td>Master's</td>\n",
              "      <td>Data Analyst</td>\n",
              "      <td>3.0</td>\n",
              "      <td>65000.0</td>\n",
              "    </tr>\n",
              "    <tr>\n",
              "      <th>2</th>\n",
              "      <td>45.0</td>\n",
              "      <td>Male</td>\n",
              "      <td>PhD</td>\n",
              "      <td>Senior Manager</td>\n",
              "      <td>15.0</td>\n",
              "      <td>150000.0</td>\n",
              "    </tr>\n",
              "    <tr>\n",
              "      <th>3</th>\n",
              "      <td>36.0</td>\n",
              "      <td>Female</td>\n",
              "      <td>Bachelor's</td>\n",
              "      <td>Sales Associate</td>\n",
              "      <td>7.0</td>\n",
              "      <td>60000.0</td>\n",
              "    </tr>\n",
              "    <tr>\n",
              "      <th>4</th>\n",
              "      <td>52.0</td>\n",
              "      <td>Male</td>\n",
              "      <td>Master's</td>\n",
              "      <td>Director</td>\n",
              "      <td>20.0</td>\n",
              "      <td>200000.0</td>\n",
              "    </tr>\n",
              "    <tr>\n",
              "      <th>...</th>\n",
              "      <td>...</td>\n",
              "      <td>...</td>\n",
              "      <td>...</td>\n",
              "      <td>...</td>\n",
              "      <td>...</td>\n",
              "      <td>...</td>\n",
              "    </tr>\n",
              "    <tr>\n",
              "      <th>370</th>\n",
              "      <td>35.0</td>\n",
              "      <td>Female</td>\n",
              "      <td>Bachelor's</td>\n",
              "      <td>Senior Marketing Analyst</td>\n",
              "      <td>8.0</td>\n",
              "      <td>85000.0</td>\n",
              "    </tr>\n",
              "    <tr>\n",
              "      <th>371</th>\n",
              "      <td>43.0</td>\n",
              "      <td>Male</td>\n",
              "      <td>Master's</td>\n",
              "      <td>Director of Operations</td>\n",
              "      <td>19.0</td>\n",
              "      <td>170000.0</td>\n",
              "    </tr>\n",
              "    <tr>\n",
              "      <th>372</th>\n",
              "      <td>29.0</td>\n",
              "      <td>Female</td>\n",
              "      <td>Bachelor's</td>\n",
              "      <td>Junior Project Manager</td>\n",
              "      <td>2.0</td>\n",
              "      <td>40000.0</td>\n",
              "    </tr>\n",
              "    <tr>\n",
              "      <th>373</th>\n",
              "      <td>34.0</td>\n",
              "      <td>Male</td>\n",
              "      <td>Bachelor's</td>\n",
              "      <td>Senior Operations Coordinator</td>\n",
              "      <td>7.0</td>\n",
              "      <td>90000.0</td>\n",
              "    </tr>\n",
              "    <tr>\n",
              "      <th>374</th>\n",
              "      <td>44.0</td>\n",
              "      <td>Female</td>\n",
              "      <td>PhD</td>\n",
              "      <td>Senior Business Analyst</td>\n",
              "      <td>15.0</td>\n",
              "      <td>150000.0</td>\n",
              "    </tr>\n",
              "  </tbody>\n",
              "</table>\n",
              "<p>375 rows × 6 columns</p>\n",
              "</div>"
            ],
            "text/plain": [
              "      Age  Gender Education Level                      Job Title  \\\n",
              "0    32.0    Male      Bachelor's              Software Engineer   \n",
              "1    28.0  Female        Master's                   Data Analyst   \n",
              "2    45.0    Male             PhD                 Senior Manager   \n",
              "3    36.0  Female      Bachelor's                Sales Associate   \n",
              "4    52.0    Male        Master's                       Director   \n",
              "..    ...     ...             ...                            ...   \n",
              "370  35.0  Female      Bachelor's       Senior Marketing Analyst   \n",
              "371  43.0    Male        Master's         Director of Operations   \n",
              "372  29.0  Female      Bachelor's         Junior Project Manager   \n",
              "373  34.0    Male      Bachelor's  Senior Operations Coordinator   \n",
              "374  44.0  Female             PhD        Senior Business Analyst   \n",
              "\n",
              "     Years of Experience    Salary  \n",
              "0                    5.0   90000.0  \n",
              "1                    3.0   65000.0  \n",
              "2                   15.0  150000.0  \n",
              "3                    7.0   60000.0  \n",
              "4                   20.0  200000.0  \n",
              "..                   ...       ...  \n",
              "370                  8.0   85000.0  \n",
              "371                 19.0  170000.0  \n",
              "372                  2.0   40000.0  \n",
              "373                  7.0   90000.0  \n",
              "374                 15.0  150000.0  \n",
              "\n",
              "[375 rows x 6 columns]"
            ]
          },
          "execution_count": 201,
          "metadata": {},
          "output_type": "execute_result"
        }
      ],
      "source": [
        "Copia_Isalary[['Salary','Years of Experience','Age']] = knn_imputer.fit_transform(Copia_Isalary[['Salary','Years of Experience','Age']])\n",
        "Copia_Isalary"
      ]
    },
    {
      "cell_type": "markdown",
      "metadata": {
        "id": "8-9vF1rS8WtT"
      },
      "source": [
        "Se identificaran los 5 trabajos que mas se repiten dentro de los datos a analizar "
      ]
    },
    {
      "cell_type": "code",
      "execution_count": 202,
      "metadata": {
        "colab": {
          "base_uri": "https://localhost:8080/"
        },
        "id": "rcx978h38gk0",
        "outputId": "6796aeb0-6189-415c-8ddc-d788b0fea046"
      },
      "outputs": [
        {
          "name": "stdout",
          "output_type": "stream",
          "text": [
            "Job Title\n",
            "Director of Marketing       14\n",
            "Director of Operations      11\n",
            "Senior Business Analyst     10\n",
            "Senior Marketing Analyst     9\n",
            "Senior Marketing Manager     9\n",
            "Name: count, dtype: int64\n"
          ]
        }
      ],
      "source": [
        "top_5_frecuencias = Isalary['Job Title'].value_counts().head()\n",
        "\n",
        "print(top_5_frecuencias)"
      ]
    },
    {
      "cell_type": "markdown",
      "metadata": {
        "id": "yBPvoOgNd4yM"
      },
      "source": [
        "Se detectaron 3 tipos de datos de tipo object, los cuales no permiten realizar los modelos esperados por lo cual se relizara trasformacion del tipo de dato y si es el caso exclusion del dato."
      ]
    },
    {
      "cell_type": "markdown",
      "metadata": {
        "id": "UcGM8q1werd2"
      },
      "source": [
        "Se realiza one hot encoding para los datos de 'gender'"
      ]
    },
    {
      "cell_type": "code",
      "execution_count": 203,
      "metadata": {
        "colab": {
          "base_uri": "https://localhost:8080/"
        },
        "id": "S-x_xPjkeRSv",
        "outputId": "6bfda17a-833f-4973-bebb-858232b3cd79"
      },
      "outputs": [
        {
          "name": "stdout",
          "output_type": "stream",
          "text": [
            "      Age Education Level                      Job Title  Years of Experience  \\\n",
            "0    32.0      Bachelor's              Software Engineer                  5.0   \n",
            "1    28.0        Master's                   Data Analyst                  3.0   \n",
            "2    45.0             PhD                 Senior Manager                 15.0   \n",
            "3    36.0      Bachelor's                Sales Associate                  7.0   \n",
            "4    52.0        Master's                       Director                 20.0   \n",
            "..    ...             ...                            ...                  ...   \n",
            "370  35.0      Bachelor's       Senior Marketing Analyst                  8.0   \n",
            "371  43.0        Master's         Director of Operations                 19.0   \n",
            "372  29.0      Bachelor's         Junior Project Manager                  2.0   \n",
            "373  34.0      Bachelor's  Senior Operations Coordinator                  7.0   \n",
            "374  44.0             PhD        Senior Business Analyst                 15.0   \n",
            "\n",
            "       Salary  Female   Male  \n",
            "0     90000.0   False   True  \n",
            "1     65000.0    True  False  \n",
            "2    150000.0   False   True  \n",
            "3     60000.0    True  False  \n",
            "4    200000.0   False   True  \n",
            "..        ...     ...    ...  \n",
            "370   85000.0    True  False  \n",
            "371  170000.0   False   True  \n",
            "372   40000.0    True  False  \n",
            "373   90000.0   False   True  \n",
            "374  150000.0    True  False  \n",
            "\n",
            "[375 rows x 7 columns]\n"
          ]
        }
      ],
      "source": [
        "df1 = Copia_Isalary\n",
        "\n",
        "one_hot = pd.get_dummies(df1['Gender'])\n",
        "df = pd.concat([df1, one_hot], axis=1)\n",
        "df4 = df.drop('Gender', axis=1)\n",
        "print(df4)"
      ]
    },
    {
      "cell_type": "markdown",
      "metadata": {
        "id": "1SHVRBRXj47p"
      },
      "source": [
        "Para 'Education level' se utlizara level encoding debido a que los datos de nivel educacional poseen un orden jerarquico donde:\n",
        "Bachelor's = 0\n",
        "Master´s = 1\n",
        "PhD = 2"
      ]
    },
    {
      "cell_type": "code",
      "execution_count": 204,
      "metadata": {},
      "outputs": [
        {
          "data": {
            "text/html": [
              "<div>\n",
              "<style scoped>\n",
              "    .dataframe tbody tr th:only-of-type {\n",
              "        vertical-align: middle;\n",
              "    }\n",
              "\n",
              "    .dataframe tbody tr th {\n",
              "        vertical-align: top;\n",
              "    }\n",
              "\n",
              "    .dataframe thead th {\n",
              "        text-align: right;\n",
              "    }\n",
              "</style>\n",
              "<table border=\"1\" class=\"dataframe\">\n",
              "  <thead>\n",
              "    <tr style=\"text-align: right;\">\n",
              "      <th></th>\n",
              "      <th>Age</th>\n",
              "      <th>Job Title</th>\n",
              "      <th>Years of Experience</th>\n",
              "      <th>Salary</th>\n",
              "      <th>Female</th>\n",
              "      <th>Male</th>\n",
              "      <th>educ_codificado</th>\n",
              "    </tr>\n",
              "  </thead>\n",
              "  <tbody>\n",
              "    <tr>\n",
              "      <th>0</th>\n",
              "      <td>32.0</td>\n",
              "      <td>Software Engineer</td>\n",
              "      <td>5.0</td>\n",
              "      <td>90000.0</td>\n",
              "      <td>False</td>\n",
              "      <td>True</td>\n",
              "      <td>0</td>\n",
              "    </tr>\n",
              "    <tr>\n",
              "      <th>1</th>\n",
              "      <td>28.0</td>\n",
              "      <td>Data Analyst</td>\n",
              "      <td>3.0</td>\n",
              "      <td>65000.0</td>\n",
              "      <td>True</td>\n",
              "      <td>False</td>\n",
              "      <td>2</td>\n",
              "    </tr>\n",
              "    <tr>\n",
              "      <th>2</th>\n",
              "      <td>45.0</td>\n",
              "      <td>Senior Manager</td>\n",
              "      <td>15.0</td>\n",
              "      <td>150000.0</td>\n",
              "      <td>False</td>\n",
              "      <td>True</td>\n",
              "      <td>1</td>\n",
              "    </tr>\n",
              "    <tr>\n",
              "      <th>3</th>\n",
              "      <td>36.0</td>\n",
              "      <td>Sales Associate</td>\n",
              "      <td>7.0</td>\n",
              "      <td>60000.0</td>\n",
              "      <td>True</td>\n",
              "      <td>False</td>\n",
              "      <td>0</td>\n",
              "    </tr>\n",
              "    <tr>\n",
              "      <th>4</th>\n",
              "      <td>52.0</td>\n",
              "      <td>Director</td>\n",
              "      <td>20.0</td>\n",
              "      <td>200000.0</td>\n",
              "      <td>False</td>\n",
              "      <td>True</td>\n",
              "      <td>2</td>\n",
              "    </tr>\n",
              "  </tbody>\n",
              "</table>\n",
              "</div>"
            ],
            "text/plain": [
              "    Age          Job Title  Years of Experience    Salary  Female   Male  \\\n",
              "0  32.0  Software Engineer                  5.0   90000.0   False   True   \n",
              "1  28.0       Data Analyst                  3.0   65000.0    True  False   \n",
              "2  45.0     Senior Manager                 15.0  150000.0   False   True   \n",
              "3  36.0    Sales Associate                  7.0   60000.0    True  False   \n",
              "4  52.0           Director                 20.0  200000.0   False   True   \n",
              "\n",
              "   educ_codificado  \n",
              "0                0  \n",
              "1                2  \n",
              "2                1  \n",
              "3                0  \n",
              "4                2  "
            ]
          },
          "execution_count": 204,
          "metadata": {},
          "output_type": "execute_result"
        }
      ],
      "source": [
        "# Creamos un diccionario de datos que asocia las categorías con sus valores codificados correspondientes\n",
        "codificacion = {\"Bachelor's\": 0, 'PhD': 1, \"Master's\": 2}\n",
        "\n",
        "# Codificamos la columna \"tamaño\" utilizando el diccionario de datos\n",
        "df4['educ_codificado'] = df4['Education Level'].map(codificacion)\n",
        "\n",
        "# Imprimimos el DataFrame actualizado\n",
        "df4.drop('Education Level', axis=1, inplace=True)\n",
        "df4.head(5)"
      ]
    },
    {
      "cell_type": "code",
      "execution_count": null,
      "metadata": {
        "colab": {
          "base_uri": "https://localhost:8080/"
        },
        "id": "6hh88U54kO70",
        "outputId": "4362a9b8-5f7a-4041-f271-3ec66e4a6db2"
      },
      "outputs": [],
      "source": []
    },
    {
      "cell_type": "markdown",
      "metadata": {
        "id": "KwKciuu6mXmt"
      },
      "source": [
        "Y para 'job title' se utilizara one hot encoding"
      ]
    },
    {
      "cell_type": "code",
      "execution_count": 205,
      "metadata": {
        "colab": {
          "base_uri": "https://localhost:8080/"
        },
        "id": "93q-qD5umUb4",
        "outputId": "9fa1535b-5d17-46e9-c2e9-d0a2932ca46e"
      },
      "outputs": [
        {
          "name": "stdout",
          "output_type": "stream",
          "text": [
            "      Age  Years of Experience    Salary  Female   Male  educ_codificado  \\\n",
            "0    32.0                  5.0   90000.0   False   True                0   \n",
            "1    28.0                  3.0   65000.0    True  False                2   \n",
            "2    45.0                 15.0  150000.0   False   True                1   \n",
            "3    36.0                  7.0   60000.0    True  False                0   \n",
            "4    52.0                 20.0  200000.0   False   True                2   \n",
            "..    ...                  ...       ...     ...    ...              ...   \n",
            "370  35.0                  8.0   85000.0    True  False                0   \n",
            "371  43.0                 19.0  170000.0   False   True                2   \n",
            "372  29.0                  2.0   40000.0    True  False                0   \n",
            "373  34.0                  7.0   90000.0   False   True                0   \n",
            "374  44.0                 15.0  150000.0    True  False                1   \n",
            "\n",
            "     Account Manager  Accountant  Administrative Assistant  Business Analyst  \\\n",
            "0              False       False                     False             False   \n",
            "1              False       False                     False             False   \n",
            "2              False       False                     False             False   \n",
            "3              False       False                     False             False   \n",
            "4              False       False                     False             False   \n",
            "..               ...         ...                       ...               ...   \n",
            "370            False       False                     False             False   \n",
            "371            False       False                     False             False   \n",
            "372            False       False                     False             False   \n",
            "373            False       False                     False             False   \n",
            "374            False       False                     False             False   \n",
            "\n",
            "     ...  Supply Chain Manager  Technical Recruiter  \\\n",
            "0    ...                 False                False   \n",
            "1    ...                 False                False   \n",
            "2    ...                 False                False   \n",
            "3    ...                 False                False   \n",
            "4    ...                 False                False   \n",
            "..   ...                   ...                  ...   \n",
            "370  ...                 False                False   \n",
            "371  ...                 False                False   \n",
            "372  ...                 False                False   \n",
            "373  ...                 False                False   \n",
            "374  ...                 False                False   \n",
            "\n",
            "     Technical Support Specialist  Technical Writer  Training Specialist  \\\n",
            "0                           False             False                False   \n",
            "1                           False             False                False   \n",
            "2                           False             False                False   \n",
            "3                           False             False                False   \n",
            "4                           False             False                False   \n",
            "..                            ...               ...                  ...   \n",
            "370                         False             False                False   \n",
            "371                         False             False                False   \n",
            "372                         False             False                False   \n",
            "373                         False             False                False   \n",
            "374                         False             False                False   \n",
            "\n",
            "     UX Designer  UX Researcher  VP of Finance  VP of Operations  \\\n",
            "0          False          False          False             False   \n",
            "1          False          False          False             False   \n",
            "2          False          False          False             False   \n",
            "3          False          False          False             False   \n",
            "4          False          False          False             False   \n",
            "..           ...            ...            ...               ...   \n",
            "370        False          False          False             False   \n",
            "371        False          False          False             False   \n",
            "372        False          False          False             False   \n",
            "373        False          False          False             False   \n",
            "374        False          False          False             False   \n",
            "\n",
            "     Web Developer  \n",
            "0            False  \n",
            "1            False  \n",
            "2            False  \n",
            "3            False  \n",
            "4            False  \n",
            "..             ...  \n",
            "370          False  \n",
            "371          False  \n",
            "372          False  \n",
            "373          False  \n",
            "374          False  \n",
            "\n",
            "[375 rows x 180 columns]\n"
          ]
        }
      ],
      "source": [
        "\n",
        "one_hot = pd.get_dummies(df4['Job Title'])\n",
        "df4 = pd.concat([df4, one_hot], axis=1)\n",
        "df6 = df4.drop('Job Title', axis=1)\n",
        "print(df6)"
      ]
    },
    {
      "cell_type": "markdown",
      "metadata": {
        "id": "SZLiI-VEnQ4O"
      },
      "source": [
        "Validacion de limpieza y transformcion"
      ]
    },
    {
      "cell_type": "code",
      "execution_count": 206,
      "metadata": {
        "colab": {
          "base_uri": "https://localhost:8080/"
        },
        "id": "HM3xSMgQnNWh",
        "outputId": "1713f815-7f9d-433b-8583-6fbc8cb8ee79"
      },
      "outputs": [
        {
          "data": {
            "text/plain": [
              "Age                    0\n",
              "Years of Experience    0\n",
              "Salary                 0\n",
              "Female                 0\n",
              "Male                   0\n",
              "                      ..\n",
              "UX Designer            0\n",
              "UX Researcher          0\n",
              "VP of Finance          0\n",
              "VP of Operations       0\n",
              "Web Developer          0\n",
              "Length: 180, dtype: int64"
            ]
          },
          "execution_count": 206,
          "metadata": {},
          "output_type": "execute_result"
        }
      ],
      "source": [
        "df6.isna().sum()"
      ]
    },
    {
      "cell_type": "markdown",
      "metadata": {
        "id": "h6qAwEKJdHop"
      },
      "source": [
        "Se evaluaran las extraxiones de outliers utlilizando los graficos de boxplot"
      ]
    },
    {
      "cell_type": "code",
      "execution_count": 207,
      "metadata": {
        "colab": {
          "base_uri": "https://localhost:8080/",
          "height": 430
        },
        "id": "cwqN-Vm5dMew",
        "outputId": "d201804c-8995-475c-c158-b293656432df"
      },
      "outputs": [
        {
          "data": {
            "image/png": "[encoded data removed]",
            "text/plain": [
              "<Figure size 640x480 with 1 Axes>"
            ]
          },
          "metadata": {},
          "output_type": "display_data"
        }
      ],
      "source": [
        "#Age\n",
        "df4.boxplot(column=['Age'])\n",
        "plt.show()"
      ]
    },
    {
      "cell_type": "code",
      "execution_count": 208,
      "metadata": {
        "colab": {
          "base_uri": "https://localhost:8080/",
          "height": 430
        },
        "id": "aNXGqQR_dOdN",
        "outputId": "589374d0-59e2-4f79-8371-5fd83cdf0b2d"
      },
      "outputs": [
        {
          "data": {
            "image/png": "[encoded data removed]",
            "text/plain": [
              "<Figure size 640x480 with 1 Axes>"
            ]
          },
          "metadata": {},
          "output_type": "display_data"
        }
      ],
      "source": [
        "#Salary\n",
        "df4.boxplot(column=['Salary'])\n",
        "plt.show()"
      ]
    },
    {
      "cell_type": "code",
      "execution_count": 209,
      "metadata": {
        "colab": {
          "base_uri": "https://localhost:8080/",
          "height": 430
        },
        "id": "aKT-D3YIdP0x",
        "outputId": "edb1def0-9b1b-447c-c668-0b1b05b17941"
      },
      "outputs": [
        {
          "data": {
            "image/png": "[encoded data removed]",
            "text/plain": [
              "<Figure size 640x480 with 1 Axes>"
            ]
          },
          "metadata": {},
          "output_type": "display_data"
        }
      ],
      "source": [
        "#Years experience\n",
        "df4.boxplot(column=['Years of Experience'])\n",
        "plt.show()"
      ]
    },
    {
      "cell_type": "markdown",
      "metadata": {},
      "source": [
        "NORMALISACION DE DATOS"
      ]
    },
    {
      "cell_type": "markdown",
      "metadata": {},
      "source": [
        "Importacion de librerias para realizar normalizacion"
      ]
    },
    {
      "cell_type": "code",
      "execution_count": 210,
      "metadata": {},
      "outputs": [],
      "source": [
        "from sklearn.preprocessing import MinMaxScaler\n",
        "from sklearn.preprocessing import StandardScaler\n",
        "scaler = StandardScaler()\n"
      ]
    },
    {
      "cell_type": "code",
      "execution_count": 211,
      "metadata": {},
      "outputs": [],
      "source": [
        "Salario_normalizado = scaler.fit_transform(df4[['Salary']])\n",
        "df4['Salary'] = Salario_normalizado"
      ]
    },
    {
      "cell_type": "code",
      "execution_count": 212,
      "metadata": {},
      "outputs": [],
      "source": [
        "def Normalizar(columna):\n",
        "    nomalizada = scaler.fit_transform(df4[[f'{columna}']])\n",
        "    df4[f'{columna}'] = nomalizada"
      ]
    },
    {
      "cell_type": "markdown",
      "metadata": {
        "id": "h5Aff_SW4MSM"
      },
      "source": [
        "Tras el analisis de estos tres datos a travez de los diagrama de cajas se determino que no existen outliers en la datos que se estan trabajando"
      ]
    },
    {
      "cell_type": "markdown",
      "metadata": {
        "id": "qjxddk8ZUrWp"
      },
      "source": [
        "Se evaluaran las correlaciones entro los datos del data"
      ]
    },
    {
      "cell_type": "code",
      "execution_count": 213,
      "metadata": {
        "colab": {
          "base_uri": "https://localhost:8080/"
        },
        "id": "N14sg8oJUym-",
        "outputId": "0c7b16ed-bbbe-49f9-dbc1-9ea0a3c6b338"
      },
      "outputs": [
        {
          "data": {
            "text/plain": [
              "Salary                                   1.000000\n",
              "Years of Experience                      0.930338\n",
              "Age                                      0.922335\n",
              "educ_codificado                          0.555121\n",
              "Director of Marketing                    0.264388\n",
              "                                           ...   \n",
              "Junior Sales Representative             -0.130915\n",
              "Junior Financial Analyst                -0.136982\n",
              "Junior Marketing Coordinator            -0.143078\n",
              "Junior Business Analyst                 -0.155419\n",
              "Junior Business Development Associate   -0.171839\n",
              "Name: Salary, Length: 180, dtype: float64"
            ]
          },
          "execution_count": 213,
          "metadata": {},
          "output_type": "execute_result"
        }
      ],
      "source": [
        "\n",
        "corr_matrix = df6.corr()\n",
        "corr_matrix[\"Salary\"].sort_values(ascending=False)"
      ]
    },
    {
      "cell_type": "markdown",
      "metadata": {
        "id": "kp9i3KjZVo9P"
      },
      "source": [
        "Ahora se desplegara un mapa de calor para entregar otra forma de presentar las correlaciones"
      ]
    },
    {
      "cell_type": "code",
      "execution_count": 214,
      "metadata": {
        "colab": {
          "base_uri": "https://localhost:8080/",
          "height": 575
        },
        "id": "W9w_s9g1V1_m",
        "outputId": "cddfef02-bd7b-47ad-af45-3bb604230052"
      },
      "outputs": [
        {
          "data": {
            "image/png": "[encoded data removed]",
            "text/plain": [
              "<Figure size 640x480 with 2 Axes>"
            ]
          },
          "metadata": {},
          "output_type": "display_data"
        }
      ],
      "source": [
        "subset = df6[['Salary','Age','Years of Experience','educ_codificado','Male','Female']]\n",
        "correlation_matrix = subset.corr()\n",
        "sns.heatmap(correlation_matrix, annot=True, cmap='coolwarm')\n",
        "plt.title('Mapa de calor de correlación')\n",
        "plt.show()\n"
      ]
    },
    {
      "cell_type": "markdown",
      "metadata": {
        "id": "Hui80QP_gUls"
      },
      "source": [
        "Grafico de barras donde la variable independiente es la edas(years) y la dependiente el sueldo(salary)"
      ]
    },
    {
      "cell_type": "code",
      "execution_count": 215,
      "metadata": {
        "colab": {
          "base_uri": "https://localhost:8080/",
          "height": 489
        },
        "id": "88B4SDGx4qUf",
        "outputId": "a87a2372-e9bf-4e51-a586-acbb896376b6"
      },
      "outputs": [
        {
          "data": {
            "image/png": "[encoded data removed]",
            "text/plain": [
              "<Figure size 640x480 with 1 Axes>"
            ]
          },
          "metadata": {},
          "output_type": "display_data"
        }
      ],
      "source": [
        "plt.bar(df6['Age'],df6['Salary'] )\n",
        "plt.title('Gráfico de Barras')\n",
        "plt.ylabel('Salary')\n",
        "plt.xlabel('Age')\n",
        "plt.show()"
      ]
    },
    {
      "cell_type": "markdown",
      "metadata": {
        "id": "reRsgITQ5RiX"
      },
      "source": [
        "Como se visualizo anteriormente en el mapa de calor, la tendencia indica y la correlacion positiva indica que mientras mas años tengan los trabajadores(Age) su salario(salary) aumenta."
      ]
    },
    {
      "cell_type": "markdown",
      "metadata": {
        "id": "lQ1-NlL_5qnq"
      },
      "source": [
        "Grafico de barras donde la variable  dependiente (y) es salary y la independiente (x) años de experiencia\n",
        "\n"
      ]
    },
    {
      "cell_type": "code",
      "execution_count": 216,
      "metadata": {
        "colab": {
          "base_uri": "https://localhost:8080/",
          "height": 489
        },
        "id": "on4-0Cyc5xZ5",
        "outputId": "2aeb9705-ca99-4ef8-c904-9e8440a2569e"
      },
      "outputs": [
        {
          "data": {
            "image/png": "[encoded data removed]",
            "text/plain": [
              "<Figure size 640x480 with 1 Axes>"
            ]
          },
          "metadata": {},
          "output_type": "display_data"
        }
      ],
      "source": [
        "plt.bar(df6['Years of Experience'],df6['Salary'] )\n",
        "plt.title('Gráfico de Barras')\n",
        "plt.ylabel('Salary')\n",
        "plt.xlabel('Years of Experience')\n",
        "plt.show()"
      ]
    },
    {
      "cell_type": "markdown",
      "metadata": {
        "id": "oxdFHe-l7Vdd"
      },
      "source": [
        "Del grafico anterior se puede inferir que los años de experiencia en el area siguen la misma tendencia que la edad de los trabajadores"
      ]
    },
    {
      "cell_type": "markdown",
      "metadata": {
        "id": "DM0uEybZ9X8C"
      },
      "source": [
        "grafico de dispersion para el salario de un director de marketing a travez de los años de experiencia\n"
      ]
    },
    {
      "cell_type": "code",
      "execution_count": 217,
      "metadata": {
        "colab": {
          "base_uri": "https://localhost:8080/",
          "height": 472
        },
        "id": "HVsIV6_S9YRe",
        "outputId": "e0ff881f-86e2-4570-e5fb-e408ce2468d3"
      },
      "outputs": [
        {
          "data": {
            "image/png": "[encoded data removed]",
            "text/plain": [
              "<Figure size 640x480 with 1 Axes>"
            ]
          },
          "metadata": {},
          "output_type": "display_data"
        }
      ],
      "source": [
        "\n",
        "puesto_especifico = 'Director of Marketing'\n",
        "df_filtrado = df4[df4['Job Title'] == puesto_especifico]\n",
        "\n",
        "plt.scatter(df_filtrado['Years of Experience'], df_filtrado['Salary'], c='blue', alpha=0.5)\n",
        "\n",
        "\n",
        "plt.xlabel('Años de experiencia')\n",
        "plt.ylabel('Sueldo')\n",
        "plt.title('Relación entre años de experiencia y sueldo')\n",
        "\n",
        "\n",
        "plt.show()"
      ]
    },
    {
      "cell_type": "markdown",
      "metadata": {
        "id": "Qx-z6tBVj-cX"
      },
      "source": [
        "Grafico barras de sueldo (y) por Education level"
      ]
    },
    {
      "cell_type": "code",
      "execution_count": 218,
      "metadata": {
        "colab": {
          "base_uri": "https://localhost:8080/",
          "height": 489
        },
        "id": "B8WmFFMEkGhz",
        "outputId": "fa40cecc-dfe7-4e23-90f1-8b745158f779"
      },
      "outputs": [
        {
          "data": {
            "image/png": "[encoded data removed]",
            "text/plain": [
              "<Figure size 640x480 with 1 Axes>"
            ]
          },
          "metadata": {},
          "output_type": "display_data"
        }
      ],
      "source": [
        "plt.bar(df6['educ_codificado'],df6['Salary'] )\n",
        "plt.title('Gráfico de Barras')\n",
        "plt.ylabel('Salary')\n",
        "plt.xlabel('Nivel educacional')\n",
        "plt.show()"
      ]
    },
    {
      "cell_type": "markdown",
      "metadata": {
        "id": "BH1X1i49BQ_r"
      },
      "source": [
        "# Modelo de clasificacion"
      ]
    },
    {
      "cell_type": "code",
      "execution_count": 219,
      "metadata": {
        "id": "DDfVzPaXBl8J"
      },
      "outputs": [],
      "source": [
        "from sklearn.datasets import fetch_california_housing\n",
        "from sklearn.model_selection import train_test_split #permkte realizar divicion entre test\n",
        "from sklearn.linear_model import LinearRegression #para regresion linela\n",
        "from sklearn.svm import SVR #subvector regtecion\n",
        "from sklearn.tree import DecisionTreeRegressor, plot_tree #para un dibujo\n",
        "from sklearn.ensemble import RandomForestRegressor\n",
        "from sklearn.metrics import mean_absolute_error, mean_squared_error, r2_score #error absoluto medio,cuadratico medio y score"
      ]
    },
    {
      "cell_type": "markdown",
      "metadata": {
        "id": "wJub_M8gqvOb"
      },
      "source": [
        "Ajustar datos"
      ]
    },
    {
      "cell_type": "code",
      "execution_count": 220,
      "metadata": {
        "id": "KEzluzeStOtj"
      },
      "outputs": [],
      "source": [
        "df7 = df6"
      ]
    },
    {
      "cell_type": "code",
      "execution_count": 221,
      "metadata": {
        "id": "4KCZvkKfqw2H"
      },
      "outputs": [],
      "source": [
        "#datos_columna = df7['Salary'].values.reshape(-1, 1)\n",
        "#datos_columna = df7['Salary'].to_frame()\n",
        "#datos_columna = df7.assign(new_salary=df7['Salary'])\n",
        "import pandas as pd\n",
        "import numpy as np\n",
        "columna = ['Age','Years of Experience','educ_codificado']\n",
        "matriz_X= df7[columna].to_numpy()\n"
      ]
    },
    {
      "cell_type": "code",
      "execution_count": 222,
      "metadata": {
        "id": "O62fyrYXuAk8"
      },
      "outputs": [],
      "source": [
        "#datos_columna = df7['Age'].values.reshape(-1, 1)\n",
        "#datos_columna = df7['Age'].to_frame()\n",
        "#datos_columna = df7.assign(new_Age=df7['Age'])\n",
        "columna = df7['Salary']\n",
        "matriz_y=columna.values.reshape(-1,1)"
      ]
    },
    {
      "cell_type": "markdown",
      "metadata": {
        "id": "j3J4DpIHoGHa"
      },
      "source": [
        "Se divide la data entre train  y test"
      ]
    },
    {
      "cell_type": "code",
      "execution_count": 223,
      "metadata": {
        "id": "iq1O03evoKvT"
      },
      "outputs": [],
      "source": [
        "X = matriz_X\n",
        "y = matriz_y\n",
        "\n",
        "X_train, X_test, y_train, y_test = train_test_split(X, y, test_size=0.2)"
      ]
    },
    {
      "cell_type": "code",
      "execution_count": 224,
      "metadata": {
        "id": "WwueLoixqHfa"
      },
      "outputs": [],
      "source": [
        "#Crea Modelos\n",
        "lr = LinearRegression()\n",
        "svr = SVR()\n",
        "dtr = DecisionTreeRegressor()\n",
        "rfr = RandomForestRegressor()"
      ]
    },
    {
      "cell_type": "code",
      "execution_count": 225,
      "metadata": {
        "colab": {
          "base_uri": "https://localhost:8080/",
          "height": 164
        },
        "id": "zrEflmt8qLI9",
        "outputId": "9a0bd0ed-ba6b-4e2f-c7f5-c85016437ec4"
      },
      "outputs": [
        {
          "name": "stderr",
          "output_type": "stream",
          "text": [
            "c:\\Users\\alej1\\.conda\\envs\\ETL\\Lib\\site-packages\\sklearn\\utils\\validation.py:1143: DataConversionWarning: A column-vector y was passed when a 1d array was expected. Please change the shape of y to (n_samples, ), for example using ravel().\n",
            "  y = column_or_1d(y, warn=True)\n",
            "C:\\Users\\alej1\\AppData\\Local\\Temp\\ipykernel_24008\\3994395670.py:5: DataConversionWarning: A column-vector y was passed when a 1d array was expected. Please change the shape of y to (n_samples,), for example using ravel().\n",
            "  rfr.fit(X_train, y_train)\n"
          ]
        },
        {
          "data": {
            "text/html": [
              "<style>#sk-container-id-1 {color: black;background-color: white;}#sk-container-id-1 pre{padding: 0;}#sk-container-id-1 div.sk-toggleable {background-color: white;}#sk-container-id-1 label.sk-toggleable__label {cursor: pointer;display: block;width: 100%;margin-bottom: 0;padding: 0.3em;box-sizing: border-box;text-align: center;}#sk-container-id-1 label.sk-toggleable__label-arrow:before {content: \"▸\";float: left;margin-right: 0.25em;color: #696969;}#sk-container-id-1 label.sk-toggleable__label-arrow:hover:before {color: black;}#sk-container-id-1 div.sk-estimator:hover label.sk-toggleable__label-arrow:before {color: black;}#sk-container-id-1 div.sk-toggleable__content {max-height: 0;max-width: 0;overflow: hidden;text-align: left;background-color: #f0f8ff;}#sk-container-id-1 div.sk-toggleable__content pre {margin: 0.2em;color: black;border-radius: 0.25em;background-color: #f0f8ff;}#sk-container-id-1 input.sk-toggleable__control:checked~div.sk-toggleable__content {max-height: 200px;max-width: 100%;overflow: auto;}#sk-container-id-1 input.sk-toggleable__control:checked~label.sk-toggleable__label-arrow:before {content: \"▾\";}#sk-container-id-1 div.sk-estimator input.sk-toggleable__control:checked~label.sk-toggleable__label {background-color: #d4ebff;}#sk-container-id-1 div.sk-label input.sk-toggleable__control:checked~label.sk-toggleable__label {background-color: #d4ebff;}#sk-container-id-1 input.sk-hidden--visually {border: 0;clip: rect(1px 1px 1px 1px);clip: rect(1px, 1px, 1px, 1px);height: 1px;margin: -1px;overflow: hidden;padding: 0;position: absolute;width: 1px;}#sk-container-id-1 div.sk-estimator {font-family: monospace;background-color: #f0f8ff;border: 1px dotted black;border-radius: 0.25em;box-sizing: border-box;margin-bottom: 0.5em;}#sk-container-id-1 div.sk-estimator:hover {background-color: #d4ebff;}#sk-container-id-1 div.sk-parallel-item::after {content: \"\";width: 100%;border-bottom: 1px solid gray;flex-grow: 1;}#sk-container-id-1 div.sk-label:hover label.sk-toggleable__label {background-color: #d4ebff;}#sk-container-id-1 div.sk-serial::before {content: \"\";position: absolute;border-left: 1px solid gray;box-sizing: border-box;top: 0;bottom: 0;left: 50%;z-index: 0;}#sk-container-id-1 div.sk-serial {display: flex;flex-direction: column;align-items: center;background-color: white;padding-right: 0.2em;padding-left: 0.2em;position: relative;}#sk-container-id-1 div.sk-item {position: relative;z-index: 1;}#sk-container-id-1 div.sk-parallel {display: flex;align-items: stretch;justify-content: center;background-color: white;position: relative;}#sk-container-id-1 div.sk-item::before, #sk-container-id-1 div.sk-parallel-item::before {content: \"\";position: absolute;border-left: 1px solid gray;box-sizing: border-box;top: 0;bottom: 0;left: 50%;z-index: -1;}#sk-container-id-1 div.sk-parallel-item {display: flex;flex-direction: column;z-index: 1;position: relative;background-color: white;}#sk-container-id-1 div.sk-parallel-item:first-child::after {align-self: flex-end;width: 50%;}#sk-container-id-1 div.sk-parallel-item:last-child::after {align-self: flex-start;width: 50%;}#sk-container-id-1 div.sk-parallel-item:only-child::after {width: 0;}#sk-container-id-1 div.sk-dashed-wrapped {border: 1px dashed gray;margin: 0 0.4em 0.5em 0.4em;box-sizing: border-box;padding-bottom: 0.4em;background-color: white;}#sk-container-id-1 div.sk-label label {font-family: monospace;font-weight: bold;display: inline-block;line-height: 1.2em;}#sk-container-id-1 div.sk-label-container {text-align: center;}#sk-container-id-1 div.sk-container {/* jupyter's `normalize.less` sets `[hidden] { display: none; }` but bootstrap.min.css set `[hidden] { display: none !important; }` so we also need the `!important` here to be able to override the default hidden behavior on the sphinx rendered scikit-learn.org. See: https://github.com/scikit-learn/scikit-learn/issues/21755 */display: inline-block !important;position: relative;}#sk-container-id-1 div.sk-text-repr-fallback {display: none;}</style><div id=\"sk-container-id-1\" class=\"sk-top-container\"><div class=\"sk-text-repr-fallback\"><pre>RandomForestRegressor()</pre><b>In a Jupyter environment, please rerun this cell to show the HTML representation or trust the notebook. <br />On GitHub, the HTML representation is unable to render, please try loading this page with nbviewer.org.</b></div><div class=\"sk-container\" hidden><div class=\"sk-item\"><div class=\"sk-estimator sk-toggleable\"><input class=\"sk-toggleable__control sk-hidden--visually\" id=\"sk-estimator-id-1\" type=\"checkbox\" checked><label for=\"sk-estimator-id-1\" class=\"sk-toggleable__label sk-toggleable__label-arrow\">RandomForestRegressor</label><div class=\"sk-toggleable__content\"><pre>RandomForestRegressor()</pre></div></div></div></div></div>"
            ],
            "text/plain": [
              "RandomForestRegressor()"
            ]
          },
          "execution_count": 225,
          "metadata": {},
          "output_type": "execute_result"
        }
      ],
      "source": [
        "# Entrena Modelos con la data de Train\n",
        "lr.fit(X_train, y_train)\n",
        "svr.fit(X_train, y_train)\n",
        "dtr.fit(X_train, y_train)\n",
        "rfr.fit(X_train, y_train)\n",
        "\n",
        "# Plot Árbol de Decisión\n",
        "#plot_tree(dtr)"
      ]
    },
    {
      "cell_type": "code",
      "execution_count": 226,
      "metadata": {
        "colab": {
          "base_uri": "https://localhost:8080/"
        },
        "id": "2QfYL3O2xT33",
        "outputId": "a2859fb9-bcf7-4d89-f6b0-7b886a5ccb88"
      },
      "outputs": [
        {
          "name": "stdout",
          "output_type": "stream",
          "text": [
            "LinearRegression: MAE=11645.52, MSE=263296990.05, R2=0.88\n",
            "SVR: MAE=39444.88, MSE=2322702864.32, R2=-0.04\n",
            "DecisionTreeRegressor: MAE=10540.48, MSE=244214329.18, R2=0.89\n",
            "RandomForestRegressor: MAE=9925.98, MSE=236436468.90, R2=0.89\n"
          ]
        }
      ],
      "source": [
        "models = [lr, svr, dtr, rfr]\n",
        "for model in models:\n",
        "    y_pred = model.predict(X_test)\n",
        "    mae = mean_absolute_error(y_test, y_pred)\n",
        "    mse = mean_squared_error(y_test, y_pred)\n",
        "    r2 = r2_score(y_test, y_pred)\n",
        "    print(f'{model.__class__.__name__}: MAE={mae:.2f}, MSE={mse:.2f}, R2={r2:.2f}')"
      ]
    },
    {
      "cell_type": "code",
      "execution_count": 228,
      "metadata": {
        "colab": {
          "base_uri": "https://localhost:8080/"
        },
        "id": "wSB5oalQxe4D",
        "outputId": "58143d13-2402-4492-bc8d-e8d6ddb70c5a"
      },
      "outputs": [
        {
          "name": "stdout",
          "output_type": "stream",
          "text": [
            "^C\n",
            "Note: you may need to restart the kernel to use updated packages.\n"
          ]
        },
        {
          "ename": "ModuleNotFoundError",
          "evalue": "No module named 'gradio'",
          "output_type": "error",
          "traceback": [
            "\u001b[1;31m---------------------------------------------------------------------------\u001b[0m",
            "\u001b[1;31mModuleNotFoundError\u001b[0m                       Traceback (most recent call last)",
            "\u001b[1;32md:\\AleBovet\\Repositorios\\MachineLearningPublic\\Practica1.ipynb Cell 72\u001b[0m line \u001b[0;36m2\n\u001b[0;32m      <a href='vscode-notebook-cell:/d%3A/AleBovet/Repositorios/MachineLearningPublic/Practica1.ipynb#Y115sZmlsZQ%3D%3D?line=0'>1</a>\u001b[0m get_ipython()\u001b[39m.\u001b[39mrun_line_magic(\u001b[39m'\u001b[39m\u001b[39mpip\u001b[39m\u001b[39m'\u001b[39m, \u001b[39m'\u001b[39m\u001b[39minstall -q gradio\u001b[39m\u001b[39m'\u001b[39m)\n\u001b[1;32m----> <a href='vscode-notebook-cell:/d%3A/AleBovet/Repositorios/MachineLearningPublic/Practica1.ipynb#Y115sZmlsZQ%3D%3D?line=1'>2</a>\u001b[0m \u001b[39mimport\u001b[39;00m \u001b[39mgradio\u001b[39;00m \u001b[39mas\u001b[39;00m \u001b[39mgr\u001b[39;00m \n\u001b[0;32m      <a href='vscode-notebook-cell:/d%3A/AleBovet/Repositorios/MachineLearningPublic/Practica1.ipynb#Y115sZmlsZQ%3D%3D?line=2'>3</a>\u001b[0m \u001b[39mimport\u001b[39;00m \u001b[39mrequests\u001b[39;00m\n",
            "\u001b[1;31mModuleNotFoundError\u001b[0m: No module named 'gradio'"
          ]
        },
        {
          "name": "stderr",
          "output_type": "stream",
          "text": [
            "  WARNING: The script tqdm.exe is installed in 'c:\\Users\\alej1\\.conda\\envs\\ETL\\Scripts' which is not on PATH.\n",
            "  Consider adding this directory to PATH or, if you prefer to suppress this warning, use --no-warn-script-location.\n",
            "  WARNING: The script normalizer.exe is installed in 'c:\\Users\\alej1\\.conda\\envs\\ETL\\Scripts' which is not on PATH.\n",
            "  Consider adding this directory to PATH or, if you prefer to suppress this warning, use --no-warn-script-location.\n",
            "  WARNING: The script uvicorn.exe is installed in 'c:\\Users\\alej1\\.conda\\envs\\ETL\\Scripts' which is not on PATH.\n",
            "  Consider adding this directory to PATH or, if you prefer to suppress this warning, use --no-warn-script-location.\n",
            "  WARNING: The script huggingface-cli.exe is installed in 'c:\\Users\\alej1\\.conda\\envs\\ETL\\Scripts' which is not on PATH.\n",
            "  Consider adding this directory to PATH or, if you prefer to suppress this warning, use --no-warn-script-location.\n",
            "  WARNING: The script jsonschema.exe is installed in 'c:\\Users\\alej1\\.conda\\envs\\ETL\\Scripts' which is not on PATH.\n",
            "  Consider adding this directory to PATH or, if you prefer to suppress this warning, use --no-warn-script-location.\n",
            "  WARNING: The script httpx.exe is installed in 'c:\\Users\\alej1\\.conda\\envs\\ETL\\Scripts' which is not on PATH.\n",
            "  Consider adding this directory to PATH or, if you prefer to suppress this warning, use --no-warn-script-location.\n",
            "  WARNING: The scripts gradio.exe and upload_theme.exe are installed in 'c:\\Users\\alej1\\.conda\\envs\\ETL\\Scripts' which is not on PATH.\n",
            "  Consider adding this directory to PATH or, if you prefer to suppress this warning, use --no-warn-script-location.\n"
          ]
        }
      ],
      "source": [
        "%pip install -q gradio\n",
        "import gradio as gr \n",
        "import requests"
      ]
    },
    {
      "cell_type": "code",
      "execution_count": null,
      "metadata": {
        "colab": {
          "base_uri": "https://localhost:8080/",
          "height": 715
        },
        "id": "D6n9-tUhxo-2",
        "outputId": "b9bff483-c646-45c8-9473-1ec1accda00d"
      },
      "outputs": [
        {
          "name": "stderr",
          "output_type": "stream",
          "text": [
            "/usr/local/lib/python3.10/dist-packages/gradio/inputs.py:89: UserWarning: Usage of gradio.inputs is deprecated, and will not be supported in the future, please import your component from gradio.components\n",
            "  warnings.warn(\n",
            "/usr/local/lib/python3.10/dist-packages/gradio/inputs.py:93: UserWarning: `optional` parameter is deprecated, and it has no effect\n",
            "  super().__init__(\n",
            "/usr/local/lib/python3.10/dist-packages/gradio/outputs.py:22: UserWarning: Usage of gradio.outputs is deprecated, and will not be supported in the future, please import your components from gradio.components\n",
            "  warnings.warn(\n"
          ]
        },
        {
          "name": "stdout",
          "output_type": "stream",
          "text": [
            "Colab notebook detected. This cell will run indefinitely so that you can see errors and logs. To turn off, set debug=False in launch().\n",
            "Running on public URL: https://7fff2179d7e4967065.gradio.live\n",
            "\n",
            "This share link expires in 72 hours. For free permanent hosting and GPU upgrades, run `gradio deploy` from Terminal to deploy to Spaces (https://huggingface.co/spaces)\n"
          ]
        },
        {
          "data": {
            "text/html": [
              "<div><iframe src=\"https://7fff2179d7e4967065.gradio.live\" width=\"100%\" height=\"500\" allow=\"autoplay; camera; microphone; clipboard-read; clipboard-write;\" frameborder=\"0\" allowfullscreen></iframe></div>"
            ],
            "text/plain": [
              "<IPython.core.display.HTML object>"
            ]
          },
          "metadata": {},
          "output_type": "display_data"
        }
      ],
      "source": [
        "def predict(Age:float,\n",
        "            anos_experiencia:float,\n",
        "            nivel_educacional:int):\n",
        "    input_df7=[[Age,\n",
        "                anos_experiencia,\n",
        "                nivel_educacional]]\n",
        "    prediction= lr.predict(input_df7)[0] #Acá se coloca el mejor modelo seleccionado\n",
        "    return prediction\n",
        "\n",
        "inputs=[gr.inputs.Slider(minimum=0,maximum=90,label=\"Edad\"),\n",
        "        gr.inputs.Slider(minimum=0,maximum=90,label=\"años experiencia\"),\n",
        "        gr.inputs.Slider(minimum=0,maximum=3,label=\"Tipo educacion 1:bachillerato - 2:master - 3:phd\")]\n",
        "\n",
        "output=gr.outputs.Textbox(label=\"Predice el sueldo por edad,nivel educativo y años experiencia\")\n",
        "\n",
        "gr.Interface(fn=predict,\n",
        "             inputs=inputs,\n",
        "             outputs=output).launch(debug=True,share=True)"
      ]
    }
  ],
  "metadata": {
    "colab": {
      "provenance": []
    },
    "kernelspec": {
      "display_name": "Python 3",
      "name": "python3"
    },
    "language_info": {
      "codemirror_mode": {
        "name": "ipython",
        "version": 3
      },
      "file_extension": ".py",
      "mimetype": "text/x-python",
      "name": "python",
      "nbconvert_exporter": "python",
      "pygments_lexer": "ipython3",
      "version": "3.11.5"
    }
  },
  "nbformat": 4,
  "nbformat_minor": 0
}
